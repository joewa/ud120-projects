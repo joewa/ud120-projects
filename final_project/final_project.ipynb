{
 "cells": [
  {
   "cell_type": "raw",
   "metadata": {},
   "source": [
    "<script>\n",
    "  function code_toggle() {\n",
    "    if (code_shown){\n",
    "      $('div.input').hide('500');\n",
    "      $('#toggleButton').val('Show Code')\n",
    "    } else {\n",
    "      $('div.input').show('500');\n",
    "      $('#toggleButton').val('Hide Code')\n",
    "    }\n",
    "    code_shown = !code_shown\n",
    "  }\n",
    "\n",
    "  $( document ).ready(function(){\n",
    "    code_shown=false;\n",
    "    $('div.input').hide()\n",
    "  });\n",
    "</script>\n",
    "<form action=\"javascript:code_toggle()\"><input type=\"submit\" id=\"toggleButton\" value=\"Show Code\"></form>"
   ]
  },
  {
   "cell_type": "code",
   "execution_count": 1,
   "metadata": {},
   "outputs": [
    {
     "name": "stdout",
     "output_type": "stream",
     "text": [
      "env: SKLEARN_SITE_JOBLIB=1\n"
     ]
    }
   ],
   "source": [
    "%env SKLEARN_SITE_JOBLIB=1\n",
    "# https://github.com/scikit-learn/scikit-learn/issues/10533\n",
    "# https://github.com/scikit-learn/scikit-learn/issues/12250\n",
    "# %env LOKY_PICKLER='cloudpickle' \n",
    "# import multiprocessing\n",
    "# multiprocessing.set_start_method('forkserver')\n",
    "# import cloudpickle"
   ]
  },
  {
   "cell_type": "code",
   "execution_count": 2,
   "metadata": {},
   "outputs": [],
   "source": [
    "import numpy as np\n",
    "import pandas as pd\n",
    "from IPython.display import HTML, display\n",
    "import matplotlib.pyplot as plt\n",
    "import seaborn as sns\n",
    "%matplotlib inline\n",
    "\n",
    "new_filename = \"final_project_dataset_PROVEN.pkl\"\n",
    "exec(open(\"poi_id.py\").read())"
   ]
  },
  {
   "cell_type": "markdown",
   "metadata": {},
   "source": [
    "# Udacity Final Project: Identify Fraud from Enron Email\n",
    "\n",
    "> Summarize for us the goal of this project and how machine learning is useful in trying to accomplish it. As part of your answer, give some background on the dataset and how it can be used to answer the project question. Were there any outliers in the data when you got it, and how did you handle those?  [relevant rubric items: “data exploration”, “outlier investigation”]\n",
    "\n",
    "- ***POI***: an individual who was indicted, reached a settlement or plea deal with the government, or testified in exchange for prosecution immunity.\n",
    "\n"
   ]
  },
  {
   "cell_type": "markdown",
   "metadata": {},
   "source": [
    "## Overview of the Dataset and Removal of Outliers\n",
    "The job of every good Data Analysts starts by understanding the task and the provided datasets.\n",
    "This is a sample of the dataset in the form of a (Pandas-)table to illustrate the structure of the dataset."
   ]
  },
  {
   "cell_type": "code",
   "execution_count": 2,
   "metadata": {},
   "outputs": [
    {
     "name": "stdout",
     "output_type": "stream",
     "text": [
      "Number of records: 146\n"
     ]
    }
   ],
   "source": [
    "print(\"Number of records: {}\".format(len(data_dict_raw)))"
   ]
  },
  {
   "cell_type": "code",
   "execution_count": 3,
   "metadata": {},
   "outputs": [
    {
     "name": "stdout",
     "output_type": "stream",
     "text": [
      "Number of parameters: 21\n"
     ]
    }
   ],
   "source": [
    "print(\"Number of parameters: {}\".format(len(df.columns)))"
   ]
  },
  {
   "cell_type": "markdown",
   "metadata": {},
   "source": [
    "### List of parameters:"
   ]
  },
  {
   "cell_type": "code",
   "execution_count": 4,
   "metadata": {},
   "outputs": [
    {
     "data": {
      "text/plain": [
       "Index(['salary', 'to_messages', 'deferral_payments', 'total_payments',\n",
       "       'loan_advances', 'bonus', 'email_address', 'restricted_stock_deferred',\n",
       "       'deferred_income', 'total_stock_value', 'expenses',\n",
       "       'from_poi_to_this_person', 'exercised_stock_options', 'from_messages',\n",
       "       'other', 'from_this_person_to_poi', 'poi', 'long_term_incentive',\n",
       "       'shared_receipt_with_poi', 'restricted_stock', 'director_fees'],\n",
       "      dtype='object')"
      ]
     },
     "execution_count": 4,
     "metadata": {},
     "output_type": "execute_result"
    }
   ],
   "source": [
    "df.columns"
   ]
  },
  {
   "cell_type": "markdown",
   "metadata": {},
   "source": [
    "The label `POI` indicates, if a person has been identified as a ***Person Of Interest***. The other parameters provide information about salary, stock value and E-mail communication."
   ]
  },
  {
   "cell_type": "markdown",
   "metadata": {},
   "source": [
    "## Financial Data\n",
    "The document `enron61702insiderpay.pdf` contains all the data and documentation.\n",
    "\n",
    "![Enron Insider Pay](enron61702insiderpay_snap.png)\n",
    "\n",
    "### Payments\n",
    "1. `salary` Reflects items such as base salary, executive cash allowances, and benefits payments.\n",
    "- `bonus`Reflects annual cash incentives paid based upon company performance. Also may include other retention payments.\n",
    "- `long_term_incentive` Reflects long-term incentive cash payments from various long-term incentive programs designed to tie executive compensation to long-term success as measured against key performance drivers and business objectives over a multi-year period, generally 3 to 5 years.\n",
    "- `deferred_income` Reflects voluntary executive deferrals of salary, annual cash incentives, and long-term cash incentives as well as cash fees deferred by non-employee directors under a deferred compensation arrangement. May also reflect deferrals under a stock option or phantom stock unit in lieu of cash arrangement.\n",
    "- `deferral payments` Reflects distributions from a deferred compensation arrangement due to termination of employment or due to in-service withdrawals as per plan provisions.\n",
    "- `loan_advances` Reflects total amount of loan advances, excluding repayments, provided by the Debtor in return for a promise of repayment. In certain instances, the terms of the promissory notes allow for the option to repay with stock of the company.\n",
    "- `other` Reflects items such as payments for severence, consulting services, relocation costs, tax advances and allowances for employees on international assignment (i.e. housing allowances, cost of living allowances, payments under Enron’s Tax Equalization Program, etc.). May also include payments provided with respect to employment agreements, as well as imputed income amounts for such things as use of corporate aircraft.\n",
    "- `expenses` Reflects reimbursements of business expenses. May include fees paid for consulting services.\n",
    "- `director_fees` Reflects cash payments and/or value of stock grants made in lieu of cash payments to non-employee directors.\n",
    "\n",
    "### Stock Value\n",
    "10. `exercised_stock_options` Reflects amounts from exercised stock options which equal the market value in excess of the exercise price on the date the options were exercised either through cashless (same-day sale), stock swap or cash exercises. The reflected gain may differ from that realized by the insider due to fluctuations in the market price and the timing of any subsequent sale of the securities.\n",
    "- `restricted_stock` Reflects the gross fair market value of shares and accrued dividends (and/or phantom units and dividend equivalents) on the date of release due to lapse of vesting\n",
    "periods, regardless of whether deferred.\n",
    "- `restricted_stock_deferred` Reflects value of restricted stock voluntarily deferred prior to release under a deferred compensation arrangement.\n",
    "\n",
    "\n",
    "## E-mail data\n",
    "Some metadata about the E-mail communication of these persons is provided too:"
   ]
  },
  {
   "cell_type": "code",
   "execution_count": 5,
   "metadata": {},
   "outputs": [
    {
     "name": "stdout",
     "output_type": "stream",
     "text": [
      "['from_messages', 'from_this_person_to_poi', 'to_messages', 'from_poi_to_this_person', 'shared_receipt_with_poi']\n"
     ]
    }
   ],
   "source": [
    "print(features_email_stats)"
   ]
  },
  {
   "cell_type": "markdown",
   "metadata": {},
   "source": [
    "## Quality Check of the Provided Dataset\n",
    "Regarding the financial data, the parameters `total_payments` and `total_stock_value` may serve as a kind of checksum, i.e. to ensure the integrity of the dataset.\n",
    "\n",
    "Unfortunately, there are at least"
   ]
  },
  {
   "cell_type": "code",
   "execution_count": 6,
   "metadata": {},
   "outputs": [
    {
     "name": "stdout",
     "output_type": "stream",
     "text": [
      "2\n"
     ]
    }
   ],
   "source": [
    "def checksum_df(df, cols, expected_sum):\n",
    "    \"\"\"Returns all rows that do not match expected_sum\"\"\"\n",
    "    df[expected_sum[0]] = df[expected_sum[0]].fillna(0.0)\n",
    "    df_wrong_checksum = df[df[cols].sum(axis=1)!=df[expected_sum[0]]]\n",
    "    df_wrong_checksum = df_wrong_checksum[cols+expected_sum]\n",
    "    df_wrong_checksum = df_wrong_checksum[df_wrong_checksum.any(axis=1)]\n",
    "    return df_wrong_checksum\n",
    "\n",
    "df_salary_wrong_checksum = checksum_df(df, features_financial_salary, features_financial_salary_total)\n",
    "print(len(df_salary_wrong_checksum))"
   ]
  },
  {
   "cell_type": "markdown",
   "metadata": {},
   "source": [
    "rows, where `total_payments` does not sum up to the expected value.\n",
    "\n",
    "These are the rows:"
   ]
  },
  {
   "cell_type": "code",
   "execution_count": 7,
   "metadata": {},
   "outputs": [
    {
     "data": {
      "text/html": [
       "<table border=\"1\" class=\"dataframe\">\n",
       "  <thead>\n",
       "    <tr style=\"text-align: right;\">\n",
       "      <th></th>\n",
       "      <th>salary</th>\n",
       "      <th>bonus</th>\n",
       "      <th>long_term_incentive</th>\n",
       "      <th>deferred_income</th>\n",
       "      <th>deferral_payments</th>\n",
       "      <th>loan_advances</th>\n",
       "      <th>other</th>\n",
       "      <th>expenses</th>\n",
       "      <th>director_fees</th>\n",
       "      <th>total_payments</th>\n",
       "    </tr>\n",
       "  </thead>\n",
       "  <tbody>\n",
       "    <tr>\n",
       "      <th>BELFER ROBERT</th>\n",
       "      <td>NaN</td>\n",
       "      <td>NaN</td>\n",
       "      <td>NaN</td>\n",
       "      <td>NaN</td>\n",
       "      <td>-102500.0</td>\n",
       "      <td>NaN</td>\n",
       "      <td>NaN</td>\n",
       "      <td>NaN</td>\n",
       "      <td>3285.0</td>\n",
       "      <td>102500.0</td>\n",
       "    </tr>\n",
       "    <tr>\n",
       "      <th>BHATNAGAR SANJAY</th>\n",
       "      <td>NaN</td>\n",
       "      <td>NaN</td>\n",
       "      <td>NaN</td>\n",
       "      <td>NaN</td>\n",
       "      <td>NaN</td>\n",
       "      <td>NaN</td>\n",
       "      <td>137864.0</td>\n",
       "      <td>NaN</td>\n",
       "      <td>137864.0</td>\n",
       "      <td>15456290.0</td>\n",
       "    </tr>\n",
       "  </tbody>\n",
       "</table>"
      ],
      "text/plain": [
       "<IPython.core.display.HTML object>"
      ]
     },
     "execution_count": 7,
     "metadata": {},
     "output_type": "execute_result"
    }
   ],
   "source": [
    "HTML(df_salary_wrong_checksum.to_html())"
   ]
  },
  {
   "cell_type": "markdown",
   "metadata": {},
   "source": [
    "The same problem is present for the `total_stock_value`, for this number of rows:"
   ]
  },
  {
   "cell_type": "code",
   "execution_count": 8,
   "metadata": {},
   "outputs": [
    {
     "name": "stdout",
     "output_type": "stream",
     "text": [
      "2\n"
     ]
    }
   ],
   "source": [
    "df_stock_wrong_checksum = checksum_df(df, features_financial_stock, features_financial_stock_total)\n",
    "print(len(df_stock_wrong_checksum))"
   ]
  },
  {
   "cell_type": "markdown",
   "metadata": {},
   "source": [
    "This table is showing the corrupt rows:"
   ]
  },
  {
   "cell_type": "code",
   "execution_count": 9,
   "metadata": {},
   "outputs": [
    {
     "data": {
      "text/html": [
       "<table border=\"1\" class=\"dataframe\">\n",
       "  <thead>\n",
       "    <tr style=\"text-align: right;\">\n",
       "      <th></th>\n",
       "      <th>exercised_stock_options</th>\n",
       "      <th>restricted_stock</th>\n",
       "      <th>restricted_stock_deferred</th>\n",
       "      <th>total_stock_value</th>\n",
       "    </tr>\n",
       "  </thead>\n",
       "  <tbody>\n",
       "    <tr>\n",
       "      <th>BELFER ROBERT</th>\n",
       "      <td>3285.0</td>\n",
       "      <td>NaN</td>\n",
       "      <td>44093.0</td>\n",
       "      <td>-44093.0</td>\n",
       "    </tr>\n",
       "    <tr>\n",
       "      <th>BHATNAGAR SANJAY</th>\n",
       "      <td>2604490.0</td>\n",
       "      <td>-2604490.0</td>\n",
       "      <td>15456290.0</td>\n",
       "      <td>0.0</td>\n",
       "    </tr>\n",
       "  </tbody>\n",
       "</table>"
      ],
      "text/plain": [
       "<IPython.core.display.HTML object>"
      ]
     },
     "execution_count": 9,
     "metadata": {},
     "output_type": "execute_result"
    }
   ],
   "source": [
    "HTML(df_stock_wrong_checksum.head(5).to_html())"
   ]
  },
  {
   "cell_type": "markdown",
   "metadata": {},
   "source": [
    "Obviously, the quality of the provided data cannot be trusted. There may be two reasons for this:\n",
    "1. The original data is already corrupt.\n",
    "- The provided derived dataset `final_project_dataset.pkl` is corrupt due to human mistake.\n",
    "\n",
    "In case of human mistake, it is possible to check the values in `enron61702insiderpay.pdf`.\n",
    "Apparently, the original document has different values for the suspicious records. So there is at least a few obvious human errors.\n",
    "\n",
    "However, there might be many more errors, although the checksum is correct.\n",
    "\n",
    "## Correction of the provided input dataset\n",
    "In order to correct human error in the process, it is neccessary to compare the dataset row by row.\n",
    "\n",
    "### Parsing the full table from `enron61702insiderpay.pdf`\n",
    "is required, since this is the original document."
   ]
  },
  {
   "cell_type": "code",
   "execution_count": 10,
   "metadata": {},
   "outputs": [],
   "source": [
    "import re\n",
    "import numpy as np\n",
    "\n",
    "street_type_re = re.compile(r'\\b\\S+\\.?$', re.IGNORECASE)\n",
    "has_numbers_re = re.compile(r'[0-9]+')\n",
    "\n",
    "# INSIDERNAME_re = re.compile(r'(^[A-Z .]+, [A-Z]+ [A-Z])|(^[A-Z]+, [A-Z]+)')\n",
    "INSIDERNAME_re = re.compile(r'(^[A-Z .]+, [A-Z]+ [A-Z .]+)|(^[A-Z-]+, [A-Z]+)')\n",
    "FOOTNOTE_re = re.compile(r'^\\([a-z]\\)')\n",
    "NUMBER_re = re.compile(r'(^\\(\\$([0-9,_]+)\\))|(^\\(([0-9,_]+)\\))|(^\\$[0-9,]+)|(^[0-9,]+)')\n",
    "# SPACES_re = re.compile(r'[^\\S\\n\\t]+') # https://stackoverflow.com/questions/38162444/python-regex-match-space-only\n",
    "SPACES_re = re.compile(r'^\\ ') # https://stackoverflow.com/questions/38162444/python-regex-match-space-only\n",
    "\n",
    "tablestr = \"ALLEN, PHILLIP K   $1233,43423  ($999,9) $324,001BADUM JR., JAMES P  25,234,000 (d) (21,123) 435,325,455BERBERIAN, DAVID 235,111\"\n",
    "\n",
    "def check_re(robj, s):\n",
    "    m = robj.search(s)\n",
    "    if m:\n",
    "        name = m.group()\n",
    "        return name\n",
    "    else:\n",
    "        return None\n",
    "\n",
    "def parse_row(s):\n",
    "    rowelements = []\n",
    "    row_incomplete = True\n",
    "    space = 0\n",
    "    while row_incomplete:\n",
    "        footnote = check_re(FOOTNOTE_re, s)\n",
    "        number = check_re(NUMBER_re, s)        \n",
    "        if not s:\n",
    "            break\n",
    "        if s[0] == ' ':\n",
    "            s = s.split(' ', 1)[1]\n",
    "            space += 1\n",
    "        elif footnote:\n",
    "            s = s.split(footnote, 1)[1]\n",
    "        elif number:\n",
    "            s = s.split(number, 1)[1]\n",
    "            number = float(int(number.replace(\"$\",\"\").replace(\",\",\"\").replace(\"(\",\"\").replace(\")\",\"\")))\n",
    "            rowelements.append(number)\n",
    "            #print(space)\n",
    "            space = 0\n",
    "        elif s[0] == '-':\n",
    "            s = s.split('-', 1)[1]\n",
    "            rowelements.append(np.nan)\n",
    "            #print(space)\n",
    "            space = 0            \n",
    "        else:\n",
    "            row_incomplete = False\n",
    "    new_s = s\n",
    "    return new_s, rowelements\n",
    "\n",
    "def parse_table(tablestr):\n",
    "    d = {}\n",
    "    table_incomplete = True\n",
    "    while table_incomplete:\n",
    "        n = check_re(INSIDERNAME_re, tablestr)\n",
    "        if n:\n",
    "            #print(\"name found: {}\".format(n))\n",
    "            tablestr = tablestr.split(n, 1)[1]\n",
    "            tablestr, row = parse_row(tablestr)\n",
    "            if row:\n",
    "                n = n.replace(\",\",\"\").replace(\".\",\"\")\n",
    "                d.update({n:row})\n",
    "            else:\n",
    "                table_incomplete = False\n",
    "            #print(tablestr)\n",
    "        else:\n",
    "            table_incomplete = False\n",
    "    return d\n",
    "\n",
    "# For testing the functions\n",
    "#dd = parse_table(tablestr)\n",
    "#print(tablestr)\n",
    "#print(dd)\n"
   ]
  },
  {
   "cell_type": "code",
   "execution_count": 11,
   "metadata": {},
   "outputs": [
    {
     "name": "stdout",
     "output_type": "stream",
     "text": [
      "Parsing page #0...\n",
      "Parsing page #1...\n",
      "Parsing page #2...\n",
      "Parsing page #3...\n"
     ]
    }
   ],
   "source": [
    "# https://automatetheboringstuff.com/chapter13/\n",
    "import PyPDF2\n",
    "\n",
    "pdfReader = PyPDF2.PdfFileReader(open('enron61702insiderpay.pdf', 'rb'))\n",
    "pages = [0,1,2,3]\n",
    "data_dict = {}\n",
    "for page in pages:\n",
    "    print(\"Parsing page #{}...\".format(page))\n",
    "    pageObj = pdfReader.getPage(page)\n",
    "    text = pageObj.extractText()\n",
    "    table = text.split(\"Total Stock Value\",1)[1]\n",
    "    dd = parse_table(table)\n",
    "    data_dict.update(dd)"
   ]
  },
  {
   "cell_type": "code",
   "execution_count": 12,
   "metadata": {},
   "outputs": [],
   "source": [
    "cols = features_financial_salary + features_financial_salary_total + features_financial_stock + features_financial_stock_total\n",
    "df_pdf = pd.DataFrame.from_dict(data_dict, columns=cols, orient='index')\n",
    "# Deferral items are negative...\n",
    "df_pdf['deferred_income'] = -df_pdf['deferred_income']\n",
    "df_pdf['restricted_stock_deferred'] = -df_pdf['restricted_stock_deferred']\n",
    "#df_pdf['deferral_payments'] = -df_pdf['deferral_payments']"
   ]
  },
  {
   "cell_type": "code",
   "execution_count": 13,
   "metadata": {},
   "outputs": [
    {
     "name": "stdout",
     "output_type": "stream",
     "text": [
      "2\n"
     ]
    }
   ],
   "source": [
    "df_salary_wrong_checksum_pdf = checksum_df(df_pdf, features_financial_salary, features_financial_salary_total)\n",
    "print(len(df_salary_wrong_checksum_pdf))"
   ]
  },
  {
   "cell_type": "code",
   "execution_count": 14,
   "metadata": {
    "scrolled": false
   },
   "outputs": [
    {
     "data": {
      "text/html": [
       "<table border=\"1\" class=\"dataframe\">\n",
       "  <thead>\n",
       "    <tr style=\"text-align: right;\">\n",
       "      <th></th>\n",
       "      <th>salary</th>\n",
       "      <th>bonus</th>\n",
       "      <th>long_term_incentive</th>\n",
       "      <th>deferred_income</th>\n",
       "      <th>deferral_payments</th>\n",
       "      <th>loan_advances</th>\n",
       "      <th>other</th>\n",
       "      <th>expenses</th>\n",
       "      <th>director_fees</th>\n",
       "      <th>total_payments</th>\n",
       "    </tr>\n",
       "  </thead>\n",
       "  <tbody>\n",
       "    <tr>\n",
       "      <th>BHATNAGAR SANJAY</th>\n",
       "      <td>NaN</td>\n",
       "      <td>NaN</td>\n",
       "      <td>NaN</td>\n",
       "      <td>NaN</td>\n",
       "      <td>NaN</td>\n",
       "      <td>NaN</td>\n",
       "      <td>137864.0</td>\n",
       "      <td>NaN</td>\n",
       "      <td>137864.0</td>\n",
       "      <td>15456290.0</td>\n",
       "    </tr>\n",
       "    <tr>\n",
       "      <th>YEAP SOON</th>\n",
       "      <td>NaN</td>\n",
       "      <td>55097.0</td>\n",
       "      <td>NaN</td>\n",
       "      <td>-55097.0</td>\n",
       "      <td>192758.0</td>\n",
       "      <td>NaN</td>\n",
       "      <td>NaN</td>\n",
       "      <td>192758.0</td>\n",
       "      <td>NaN</td>\n",
       "      <td>0.0</td>\n",
       "    </tr>\n",
       "  </tbody>\n",
       "</table>"
      ],
      "text/plain": [
       "<IPython.core.display.HTML object>"
      ]
     },
     "execution_count": 14,
     "metadata": {},
     "output_type": "execute_result"
    }
   ],
   "source": [
    "HTML(df_salary_wrong_checksum_pdf.to_html())\n"
   ]
  },
  {
   "cell_type": "code",
   "execution_count": 15,
   "metadata": {
    "scrolled": true
   },
   "outputs": [
    {
     "name": "stdout",
     "output_type": "stream",
     "text": [
      ",salary,bonus,long_term_incentive,deferred_income,deferral_payments,loan_advances,other,expenses,director_fees,total_payments\n",
      "BHATNAGAR SANJAY,,,,,,,137864.0,,137864.0,15456290.0\n",
      "YEAP SOON,,55097.0,,-55097.0,192758.0,,,192758.0,,0.0\n",
      "\n"
     ]
    }
   ],
   "source": [
    "print(df_salary_wrong_checksum_pdf.to_csv())"
   ]
  },
  {
   "cell_type": "markdown",
   "metadata": {},
   "source": [
    "The few suspicious rows are due to missing delimiters in the original document.\n",
    "\n",
    "The values are corrected \"by hand\". The number of incorrect checksum is now for `features_financial_salary_total`:"
   ]
  },
  {
   "cell_type": "code",
   "execution_count": 16,
   "metadata": {},
   "outputs": [],
   "source": [
    "ff = features_financial_salary+features_financial_salary_total + features_financial_stock + features_financial_stock_total"
   ]
  },
  {
   "cell_type": "code",
   "execution_count": 17,
   "metadata": {},
   "outputs": [],
   "source": [
    "bs=[np.nan,np.nan,np.nan,np.nan,np.nan,np.nan,np.nan,137864.0, np.nan,137864.0, 15456290.0, 2604490.0, -2604490.0, 15456290.0]\n",
    "ys = [np.nan, np.nan, np.nan, np.nan, np.nan, np.nan, np.nan, 55097.0, np.nan, 55097.0, 192758.0, np.nan, np.nan, 192758.0]\n",
    "df_pdf.loc['BHATNAGAR SANJAY'] = pd.Series(bs, index=ff)\n",
    "df_pdf.loc['poi', 'BHATNAGAR SANJAY'] = 0.0\n",
    "df_pdf.loc['YEAP SOON'] = pd.Series(ys, index=ff)"
   ]
  },
  {
   "cell_type": "code",
   "execution_count": 18,
   "metadata": {},
   "outputs": [
    {
     "name": "stdout",
     "output_type": "stream",
     "text": [
      "0\n"
     ]
    }
   ],
   "source": [
    "df_salary_wrong_checksum_pdf = checksum_df(df_pdf, features_financial_salary, features_financial_salary_total)\n",
    "print(len(df_salary_wrong_checksum_pdf))"
   ]
  },
  {
   "cell_type": "markdown",
   "metadata": {},
   "source": [
    "and for `features_financial_stock_total`:"
   ]
  },
  {
   "cell_type": "code",
   "execution_count": 19,
   "metadata": {},
   "outputs": [
    {
     "name": "stdout",
     "output_type": "stream",
     "text": [
      "0\n"
     ]
    }
   ],
   "source": [
    "df_stock_wrong_checksum_pdf = checksum_df(df_pdf, features_financial_stock, features_financial_stock_total)\n",
    "print(len(df_stock_wrong_checksum_pdf))"
   ]
  },
  {
   "cell_type": "markdown",
   "metadata": {},
   "source": [
    "Finally, the following table shows all the rows from the new self-parsed dataset that are different from the provided dataset. There are apparently 9 differences in a dataset of less than 150 records. However, a few are just the names that was parsed in a different way."
   ]
  },
  {
   "cell_type": "code",
   "execution_count": 20,
   "metadata": {
    "scrolled": true
   },
   "outputs": [
    {
     "data": {
      "text/html": [
       "<table border=\"1\" class=\"dataframe\">\n",
       "  <thead>\n",
       "    <tr style=\"text-align: right;\">\n",
       "      <th></th>\n",
       "      <th>index</th>\n",
       "      <th>salary</th>\n",
       "      <th>bonus</th>\n",
       "      <th>long_term_incentive</th>\n",
       "      <th>deferred_income</th>\n",
       "      <th>deferral_payments</th>\n",
       "      <th>loan_advances</th>\n",
       "      <th>other</th>\n",
       "      <th>expenses</th>\n",
       "      <th>director_fees</th>\n",
       "      <th>total_payments</th>\n",
       "      <th>exercised_stock_options</th>\n",
       "      <th>restricted_stock</th>\n",
       "      <th>restricted_stock_deferred</th>\n",
       "      <th>total_stock_value</th>\n",
       "    </tr>\n",
       "  </thead>\n",
       "  <tbody>\n",
       "    <tr>\n",
       "      <th>146</th>\n",
       "      <td>BAXTER JOHN C</td>\n",
       "      <td>267102.0</td>\n",
       "      <td>1200000.0</td>\n",
       "      <td>1586055.0</td>\n",
       "      <td>-1386055.0</td>\n",
       "      <td>1295738.0</td>\n",
       "      <td>NaN</td>\n",
       "      <td>2660303.0</td>\n",
       "      <td>11200.0</td>\n",
       "      <td>NaN</td>\n",
       "      <td>5634343.0</td>\n",
       "      <td>6680544.0</td>\n",
       "      <td>3942714.0</td>\n",
       "      <td>NaN</td>\n",
       "      <td>10623258.0</td>\n",
       "    </tr>\n",
       "    <tr>\n",
       "      <th>147</th>\n",
       "      <td>BELFER ROBERT A</td>\n",
       "      <td>NaN</td>\n",
       "      <td>NaN</td>\n",
       "      <td>NaN</td>\n",
       "      <td>-102500.0</td>\n",
       "      <td>NaN</td>\n",
       "      <td>NaN</td>\n",
       "      <td>NaN</td>\n",
       "      <td>3285.0</td>\n",
       "      <td>102500.0</td>\n",
       "      <td>3285.0</td>\n",
       "      <td>NaN</td>\n",
       "      <td>44093.0</td>\n",
       "      <td>-44093.0</td>\n",
       "      <td>0.0</td>\n",
       "    </tr>\n",
       "    <tr>\n",
       "      <th>148</th>\n",
       "      <td>BHATNAGAR SANJAY</td>\n",
       "      <td>NaN</td>\n",
       "      <td>NaN</td>\n",
       "      <td>NaN</td>\n",
       "      <td>NaN</td>\n",
       "      <td>NaN</td>\n",
       "      <td>NaN</td>\n",
       "      <td>NaN</td>\n",
       "      <td>137864.0</td>\n",
       "      <td>NaN</td>\n",
       "      <td>137864.0</td>\n",
       "      <td>15456290.0</td>\n",
       "      <td>2604490.0</td>\n",
       "      <td>-2604490.0</td>\n",
       "      <td>15456290.0</td>\n",
       "    </tr>\n",
       "    <tr>\n",
       "      <th>149</th>\n",
       "      <td>BLAKE JR NORMAN P</td>\n",
       "      <td>NaN</td>\n",
       "      <td>NaN</td>\n",
       "      <td>NaN</td>\n",
       "      <td>-113784.0</td>\n",
       "      <td>NaN</td>\n",
       "      <td>NaN</td>\n",
       "      <td>NaN</td>\n",
       "      <td>1279.0</td>\n",
       "      <td>113784.0</td>\n",
       "      <td>1279.0</td>\n",
       "      <td>NaN</td>\n",
       "      <td>NaN</td>\n",
       "      <td>NaN</td>\n",
       "      <td>0.0</td>\n",
       "    </tr>\n",
       "    <tr>\n",
       "      <th>150</th>\n",
       "      <td>DERRICK JR JAMES V</td>\n",
       "      <td>492375.0</td>\n",
       "      <td>800000.0</td>\n",
       "      <td>484000.0</td>\n",
       "      <td>-1284000.0</td>\n",
       "      <td>NaN</td>\n",
       "      <td>NaN</td>\n",
       "      <td>7482.0</td>\n",
       "      <td>51124.0</td>\n",
       "      <td>NaN</td>\n",
       "      <td>550981.0</td>\n",
       "      <td>8831913.0</td>\n",
       "      <td>1787380.0</td>\n",
       "      <td>-1787380.0</td>\n",
       "      <td>8831913.0</td>\n",
       "    </tr>\n",
       "    <tr>\n",
       "      <th>151</th>\n",
       "      <td>LAY KENNETH L</td>\n",
       "      <td>1072321.0</td>\n",
       "      <td>7000000.0</td>\n",
       "      <td>3600000.0</td>\n",
       "      <td>-300000.0</td>\n",
       "      <td>202911.0</td>\n",
       "      <td>81525000.0</td>\n",
       "      <td>10359729.0</td>\n",
       "      <td>99832.0</td>\n",
       "      <td>NaN</td>\n",
       "      <td>103559793.0</td>\n",
       "      <td>34348384.0</td>\n",
       "      <td>14761694.0</td>\n",
       "      <td>NaN</td>\n",
       "      <td>49110078.0</td>\n",
       "    </tr>\n",
       "    <tr>\n",
       "      <th>152</th>\n",
       "      <td>PEREIRA PAULO V FERRAZ</td>\n",
       "      <td>NaN</td>\n",
       "      <td>NaN</td>\n",
       "      <td>NaN</td>\n",
       "      <td>-101250.0</td>\n",
       "      <td>NaN</td>\n",
       "      <td>NaN</td>\n",
       "      <td>NaN</td>\n",
       "      <td>27942.0</td>\n",
       "      <td>101250.0</td>\n",
       "      <td>27942.0</td>\n",
       "      <td>NaN</td>\n",
       "      <td>NaN</td>\n",
       "      <td>NaN</td>\n",
       "      <td>0.0</td>\n",
       "    </tr>\n",
       "    <tr>\n",
       "      <th>153</th>\n",
       "      <td>WINOKUR JR HERBERT S</td>\n",
       "      <td>NaN</td>\n",
       "      <td>NaN</td>\n",
       "      <td>NaN</td>\n",
       "      <td>-25000.0</td>\n",
       "      <td>NaN</td>\n",
       "      <td>NaN</td>\n",
       "      <td>NaN</td>\n",
       "      <td>1413.0</td>\n",
       "      <td>108579.0</td>\n",
       "      <td>84992.0</td>\n",
       "      <td>NaN</td>\n",
       "      <td>NaN</td>\n",
       "      <td>NaN</td>\n",
       "      <td>0.0</td>\n",
       "    </tr>\n",
       "    <tr>\n",
       "      <th>154</th>\n",
       "      <td>poi</td>\n",
       "      <td>NaN</td>\n",
       "      <td>NaN</td>\n",
       "      <td>NaN</td>\n",
       "      <td>NaN</td>\n",
       "      <td>NaN</td>\n",
       "      <td>NaN</td>\n",
       "      <td>NaN</td>\n",
       "      <td>NaN</td>\n",
       "      <td>NaN</td>\n",
       "      <td>0.0</td>\n",
       "      <td>NaN</td>\n",
       "      <td>NaN</td>\n",
       "      <td>NaN</td>\n",
       "      <td>0.0</td>\n",
       "    </tr>\n",
       "  </tbody>\n",
       "</table>"
      ],
      "text/plain": [
       "<IPython.core.display.HTML object>"
      ]
     },
     "execution_count": 20,
     "metadata": {},
     "output_type": "execute_result"
    }
   ],
   "source": [
    "# https://stackoverflow.com/questions/19917545/comparing-two-pandas-dataframes-for-differences\n",
    "def get_different_rows(source_df, new_df):\n",
    "    \"\"\"Returns just the rows from the new dataframe that differ from the source dataframe\"\"\"\n",
    "    merged_df = source_df.merge(new_df, indicator=True, how='outer')\n",
    "    changed_rows_df = merged_df[merged_df['_merge'] == 'right_only']\n",
    "    return changed_rows_df.drop('_merge', axis=1)\n",
    "#features_financial_salary+features_financial_salary_total #\n",
    "\n",
    "df1 = df[ff].reset_index()\n",
    "df2 = df_pdf[ff].reset_index()#.drop('index', axis=1)\n",
    "df_diff12 = get_different_rows(df1, df2)\n",
    "df_diff21 = get_different_rows(df2, df1)\n",
    "\n",
    "HTML(df_diff12.to_html())"
   ]
  },
  {
   "cell_type": "markdown",
   "metadata": {},
   "source": [
    "Most of the differences are due to inconsistently parsed names. However, there are only 2 rows with wrong numbers (which was at least expected). The correct numbers are shown in the following table:"
   ]
  },
  {
   "cell_type": "code",
   "execution_count": 21,
   "metadata": {},
   "outputs": [
    {
     "data": {
      "text/html": [
       "<table border=\"1\" class=\"dataframe\">\n",
       "  <thead>\n",
       "    <tr style=\"text-align: right;\">\n",
       "      <th></th>\n",
       "      <th>salary</th>\n",
       "      <th>bonus</th>\n",
       "      <th>long_term_incentive</th>\n",
       "      <th>deferred_income</th>\n",
       "      <th>deferral_payments</th>\n",
       "      <th>loan_advances</th>\n",
       "      <th>other</th>\n",
       "      <th>expenses</th>\n",
       "      <th>director_fees</th>\n",
       "      <th>total_payments</th>\n",
       "      <th>exercised_stock_options</th>\n",
       "      <th>restricted_stock</th>\n",
       "      <th>restricted_stock_deferred</th>\n",
       "      <th>total_stock_value</th>\n",
       "      <th>index</th>\n",
       "    </tr>\n",
       "  </thead>\n",
       "  <tbody>\n",
       "    <tr>\n",
       "      <th>147</th>\n",
       "      <td>NaN</td>\n",
       "      <td>NaN</td>\n",
       "      <td>NaN</td>\n",
       "      <td>-102500.0</td>\n",
       "      <td>NaN</td>\n",
       "      <td>NaN</td>\n",
       "      <td>NaN</td>\n",
       "      <td>3285.0</td>\n",
       "      <td>102500.0</td>\n",
       "      <td>3285.0</td>\n",
       "      <td>NaN</td>\n",
       "      <td>44093.0</td>\n",
       "      <td>-44093.0</td>\n",
       "      <td>0.0</td>\n",
       "      <td>BELFER ROBERT A</td>\n",
       "    </tr>\n",
       "    <tr>\n",
       "      <th>148</th>\n",
       "      <td>NaN</td>\n",
       "      <td>NaN</td>\n",
       "      <td>NaN</td>\n",
       "      <td>NaN</td>\n",
       "      <td>NaN</td>\n",
       "      <td>NaN</td>\n",
       "      <td>NaN</td>\n",
       "      <td>137864.0</td>\n",
       "      <td>NaN</td>\n",
       "      <td>137864.0</td>\n",
       "      <td>15456290.0</td>\n",
       "      <td>2604490.0</td>\n",
       "      <td>-2604490.0</td>\n",
       "      <td>15456290.0</td>\n",
       "      <td>BHATNAGAR SANJAY</td>\n",
       "    </tr>\n",
       "  </tbody>\n",
       "</table>"
      ],
      "text/plain": [
       "<IPython.core.display.HTML object>"
      ]
     },
     "execution_count": 21,
     "metadata": {},
     "output_type": "execute_result"
    }
   ],
   "source": [
    "df1 = df[ff].reset_index().drop('index', axis=1)\n",
    "df_diff12n = get_different_rows(df1, df2)\n",
    "HTML(df_diff12n.to_html())"
   ]
  },
  {
   "cell_type": "markdown",
   "metadata": {},
   "source": [
    "From the perspective of the provided dataset (final_project_dataset.pkl), the following additional rows are corrected:"
   ]
  },
  {
   "cell_type": "code",
   "execution_count": 22,
   "metadata": {},
   "outputs": [
    {
     "data": {
      "text/html": [
       "<table border=\"1\" class=\"dataframe\">\n",
       "  <thead>\n",
       "    <tr style=\"text-align: right;\">\n",
       "      <th></th>\n",
       "      <th>salary</th>\n",
       "      <th>bonus</th>\n",
       "      <th>long_term_incentive</th>\n",
       "      <th>deferred_income</th>\n",
       "      <th>deferral_payments</th>\n",
       "      <th>loan_advances</th>\n",
       "      <th>other</th>\n",
       "      <th>expenses</th>\n",
       "      <th>director_fees</th>\n",
       "      <th>total_payments</th>\n",
       "      <th>exercised_stock_options</th>\n",
       "      <th>restricted_stock</th>\n",
       "      <th>restricted_stock_deferred</th>\n",
       "      <th>total_stock_value</th>\n",
       "      <th>index</th>\n",
       "    </tr>\n",
       "  </thead>\n",
       "  <tbody>\n",
       "    <tr>\n",
       "      <th>145</th>\n",
       "      <td>NaN</td>\n",
       "      <td>NaN</td>\n",
       "      <td>NaN</td>\n",
       "      <td>NaN</td>\n",
       "      <td>-102500.0</td>\n",
       "      <td>NaN</td>\n",
       "      <td>NaN</td>\n",
       "      <td>NaN</td>\n",
       "      <td>3285.0</td>\n",
       "      <td>102500.0</td>\n",
       "      <td>3285.0</td>\n",
       "      <td>NaN</td>\n",
       "      <td>44093.0</td>\n",
       "      <td>-44093.0</td>\n",
       "      <td>BELFER ROBERT</td>\n",
       "    </tr>\n",
       "    <tr>\n",
       "      <th>146</th>\n",
       "      <td>NaN</td>\n",
       "      <td>NaN</td>\n",
       "      <td>NaN</td>\n",
       "      <td>NaN</td>\n",
       "      <td>NaN</td>\n",
       "      <td>NaN</td>\n",
       "      <td>137864.0</td>\n",
       "      <td>NaN</td>\n",
       "      <td>137864.0</td>\n",
       "      <td>15456290.0</td>\n",
       "      <td>2604490.0</td>\n",
       "      <td>-2604490.0</td>\n",
       "      <td>15456290.0</td>\n",
       "      <td>0.0</td>\n",
       "      <td>BHATNAGAR SANJAY</td>\n",
       "    </tr>\n",
       "    <tr>\n",
       "      <th>147</th>\n",
       "      <td>NaN</td>\n",
       "      <td>NaN</td>\n",
       "      <td>NaN</td>\n",
       "      <td>NaN</td>\n",
       "      <td>NaN</td>\n",
       "      <td>NaN</td>\n",
       "      <td>362096.0</td>\n",
       "      <td>NaN</td>\n",
       "      <td>NaN</td>\n",
       "      <td>362096.0</td>\n",
       "      <td>NaN</td>\n",
       "      <td>NaN</td>\n",
       "      <td>NaN</td>\n",
       "      <td>0.0</td>\n",
       "      <td>THE TRAVEL AGENCY IN THE PARK</td>\n",
       "    </tr>\n",
       "    <tr>\n",
       "      <th>148</th>\n",
       "      <td>26704229.0</td>\n",
       "      <td>97343619.0</td>\n",
       "      <td>48521928.0</td>\n",
       "      <td>-27992891.0</td>\n",
       "      <td>32083396.0</td>\n",
       "      <td>83925000.0</td>\n",
       "      <td>42667589.0</td>\n",
       "      <td>5235198.0</td>\n",
       "      <td>1398517.0</td>\n",
       "      <td>309886585.0</td>\n",
       "      <td>311764000.0</td>\n",
       "      <td>130322299.0</td>\n",
       "      <td>-7576788.0</td>\n",
       "      <td>434509511.0</td>\n",
       "      <td>TOTAL</td>\n",
       "    </tr>\n",
       "  </tbody>\n",
       "</table>"
      ],
      "text/plain": [
       "<IPython.core.display.HTML object>"
      ]
     },
     "execution_count": 22,
     "metadata": {},
     "output_type": "execute_result"
    }
   ],
   "source": [
    "df1 = df[ff].reset_index()\n",
    "df2 = df_pdf[ff].reset_index().drop('index', axis=1)\n",
    "df_diff21 = get_different_rows(df2, df1)\n",
    "HTML(df_diff21.to_html())"
   ]
  },
  {
   "cell_type": "markdown",
   "metadata": {},
   "source": [
    "*THE TRAVEL AGENCY IN THE PARK* and *TOTAL* are appently no persons and are removed from the records.\n",
    "\n",
    "A further inconsistency was found by chance: *FREVERT MARK A* is listed as a *POI* in the second table, but not in the first one. Lacking further information, it is decided to handle him as a *POI* as well, because his payments / stock value is in the same order of magnitude of the other *POI's*."
   ]
  },
  {
   "cell_type": "code",
   "execution_count": 23,
   "metadata": {},
   "outputs": [
    {
     "data": {
      "text/html": [
       "<div>\n",
       "<style scoped>\n",
       "    .dataframe tbody tr th:only-of-type {\n",
       "        vertical-align: middle;\n",
       "    }\n",
       "\n",
       "    .dataframe tbody tr th {\n",
       "        vertical-align: top;\n",
       "    }\n",
       "\n",
       "    .dataframe thead th {\n",
       "        text-align: right;\n",
       "    }\n",
       "</style>\n",
       "<table border=\"1\" class=\"dataframe\">\n",
       "  <thead>\n",
       "    <tr style=\"text-align: right;\">\n",
       "      <th></th>\n",
       "      <th>salary</th>\n",
       "      <th>bonus</th>\n",
       "      <th>long_term_incentive</th>\n",
       "      <th>deferred_income</th>\n",
       "      <th>deferral_payments</th>\n",
       "      <th>loan_advances</th>\n",
       "      <th>other</th>\n",
       "      <th>expenses</th>\n",
       "      <th>director_fees</th>\n",
       "      <th>total_payments</th>\n",
       "      <th>exercised_stock_options</th>\n",
       "      <th>restricted_stock</th>\n",
       "      <th>restricted_stock_deferred</th>\n",
       "      <th>total_stock_value</th>\n",
       "      <th>BHATNAGAR SANJAY</th>\n",
       "    </tr>\n",
       "  </thead>\n",
       "  <tbody>\n",
       "    <tr>\n",
       "      <th>FREVERT MARK A</th>\n",
       "      <td>1060932.0</td>\n",
       "      <td>2000000.0</td>\n",
       "      <td>1617011.0</td>\n",
       "      <td>-3367011.0</td>\n",
       "      <td>6426990.0</td>\n",
       "      <td>2000000.0</td>\n",
       "      <td>7427621.0</td>\n",
       "      <td>86987.0</td>\n",
       "      <td>NaN</td>\n",
       "      <td>17252530.0</td>\n",
       "      <td>10433518.0</td>\n",
       "      <td>4188667.0</td>\n",
       "      <td>NaN</td>\n",
       "      <td>14622185.0</td>\n",
       "      <td>NaN</td>\n",
       "    </tr>\n",
       "  </tbody>\n",
       "</table>\n",
       "</div>"
      ],
      "text/plain": [
       "                   salary      bonus  long_term_incentive  deferred_income  \\\n",
       "FREVERT MARK A  1060932.0  2000000.0            1617011.0       -3367011.0   \n",
       "\n",
       "                deferral_payments  loan_advances      other  expenses  \\\n",
       "FREVERT MARK A          6426990.0      2000000.0  7427621.0   86987.0   \n",
       "\n",
       "                director_fees  total_payments  exercised_stock_options  \\\n",
       "FREVERT MARK A            NaN      17252530.0               10433518.0   \n",
       "\n",
       "                restricted_stock  restricted_stock_deferred  \\\n",
       "FREVERT MARK A         4188667.0                        NaN   \n",
       "\n",
       "                total_stock_value  BHATNAGAR SANJAY  \n",
       "FREVERT MARK A         14622185.0               NaN  "
      ]
     },
     "execution_count": 23,
     "metadata": {},
     "output_type": "execute_result"
    }
   ],
   "source": [
    "df_pdf[df_pdf.index.isin(['FREVERT MARK A'])]"
   ]
  },
  {
   "cell_type": "markdown",
   "metadata": {},
   "source": [
    "The corrected dataset is saved to `final_project_dataset_PROVEN.pkl` and will be used from now."
   ]
  },
  {
   "cell_type": "code",
   "execution_count": 24,
   "metadata": {},
   "outputs": [],
   "source": [
    "bs = [np.nan, np.nan, np.nan, np.nan, np.nan, np.nan, np.nan,137864.0, np.nan,137864.0, 15456290.0, 2604490.0, -2604490.0, 15456290.0]\n",
    "ys = [np.nan, np.nan, np.nan, np.nan, np.nan, np.nan, np.nan, 55097.0, np.nan, 55097.0, 192758.0, np.nan, np.nan, 192758.0]\n",
    "df.loc['BHATNAGAR SANJAY'] = pd.Series(bs, index=ff)\n",
    "df.loc['BHATNAGAR SANJAY','poi'] = 0\n",
    "df.loc['YEAP SOON'] = pd.Series(ys, index=ff)\n",
    "df.loc['FREVERT MARK A','poi'] = 1\n",
    "df.loc['BELFER ROBERT', ff] = df_pdf.loc['BELFER ROBERT A', ff]\n",
    "try:\n",
    "    df.drop(['TOTAL', 'THE TRAVEL AGENCY IN THE PARK'], inplace=True)\n",
    "except:\n",
    "    print(\"Drop already done...\")"
   ]
  },
  {
   "cell_type": "code",
   "execution_count": 25,
   "metadata": {},
   "outputs": [
    {
     "data": {
      "text/plain": [
       "0.0"
      ]
     },
     "execution_count": 25,
     "metadata": {},
     "output_type": "execute_result"
    }
   ],
   "source": [
    "df.loc['BHATNAGAR SANJAY', 'poi']"
   ]
  },
  {
   "cell_type": "code",
   "execution_count": 27,
   "metadata": {},
   "outputs": [],
   "source": [
    "df.to_pickle(new_filename)"
   ]
  },
  {
   "cell_type": "markdown",
   "metadata": {},
   "source": [
    "## Considerations...\n",
    "- \"Director Fees\" have never received by a POI\n",
    "- \"Persons that have gotten a director fee, have never gotten a salary or bonus\n",
    "- Except for one case, a POI has always a salary\n",
    "- POI's have a high fraction of exercised stock options\n",
    "- deferred_income and\n",
    "- `restricted_stock` Reflects the gross fair market value of shares and accrued dividends (and/or phantom units and dividend equivalents) on the date of release due to lapse of vesting\n",
    "- `restricted_stock_deferred` is the part of the restricted_stock, that a person has most likely never gotten because Enron went into bancrupcy before.\n",
    "- `Expenses` are likely unimportant\n",
    "- **Cascade/Pipeline decision tree with other stuff** SEE sklearn.ensembles\n",
    "\n",
    "## Engineering new features\n",
    "Sometimes numbers are less important than relations or proportions to an aggregated value.\n",
    "One example is the value of `restricted_stock_deferred`, which is the part of a persons stock value that its owner has certainly lost when Enron went into bankrupcy. More interesting would be the relation of lost stock value to the total stock value. As a hypothesis, POI's would likely have lost a very small proportion of its total stock value because the are certainly well informed about the state of the company."
   ]
  },
  {
   "cell_type": "code",
   "execution_count": 3,
   "metadata": {},
   "outputs": [],
   "source": [
    "df = pd.read_pickle(new_filename)\n",
    "df = df.replace(np.nan, 0.0)"
   ]
  },
  {
   "cell_type": "code",
   "execution_count": 4,
   "metadata": {},
   "outputs": [],
   "source": [
    "# Relevant and engineered features due to \"engineering judgement\"\n",
    "# gotten versus deferral payments (sum it up)\n",
    "\n",
    "f = pd.Series(features_financial_salary)\n",
    "df['total_payments_corr'] = df[f[~f.isin(['deferred_income'])]].sum(axis=1)\n",
    "\n",
    "f = pd.Series(features_financial_stock)\n",
    "df['total_stock_value_corr'] = df[f[~f.isin(['restricted_stock_deferred'])]].sum(axis=1)\n",
    "df['total_cash'] = df['total_payments_corr'] + df['total_stock_value_corr']\n",
    "\n",
    "df['total_payments_corr'].replace(0.0, 1.0, inplace=True)\n",
    "df['total_stock_value_corr'].replace(0.0, 1.0, inplace=True)\n",
    "\n",
    "df['fraction_salary']                    = df['salary']                    / df['total_payments_corr']\n",
    "df['fraction_bonus']                     = df['bonus']                     / df['total_payments_corr']\n",
    "df['fraction_long_term_incentive']       = df['long_term_incentive']       / df['total_payments_corr']\n",
    "df['fraction_deferral_payments']         = df['deferral_payments']          / df['total_payments_corr']\n",
    "\n",
    "df['fraction_deferred_income']           = df['deferred_income']           / df['total_payments_corr'] # lost cash\n",
    "\n",
    "df['fraction_exercised_stock_options']   = df['exercised_stock_options']   / df['total_stock_value_corr']\n",
    "df['fraction_restricted_stock_deferred'] = df['restricted_stock_deferred'] / df['total_stock_value_corr'] # lost stock\n",
    "df['fraction_restricted_stock']          = df['restricted_stock']          / df['total_stock_value_corr']\n",
    "\n",
    "df['fraction_employer_direct_cash']  = df['fraction_salary'] + df['fraction_bonus'] + df['fraction_long_term_incentive']\n",
    "df['fraction_employer_stock_cash']   = df['total_stock_value'] / df['total_stock_value_corr']\n",
    "df['fraction_director_direct_cash']  = df['director_fees'] / df['total_payments_corr']\n",
    "\n",
    "#HTML(df[features_financial_salary].describe().T.to_html())\n",
    "HTML(df.describe().T.to_html())\n",
    "\n",
    "features_fractions_lost = ['fraction_deferred_income', 'fraction_restricted_stock_deferred']\n",
    "features_fractions_cash = ['fraction_employer_direct_cash', 'fraction_employer_stock_cash']\n",
    "features_absolute_cash  = ['total_payments_corr', 'total_stock_value_corr']"
   ]
  },
  {
   "cell_type": "code",
   "execution_count": 5,
   "metadata": {},
   "outputs": [
    {
     "name": "stdout",
     "output_type": "stream",
     "text": [
      "Big Boss: LAY KENNETH L\n"
     ]
    }
   ],
   "source": [
    "# TODO: Remove him for some algos\n",
    "bigboss = df['total_payments_corr'].idxmax()\n",
    "print(\"Big Boss: {}\".format(bigboss))"
   ]
  },
  {
   "cell_type": "code",
   "execution_count": 6,
   "metadata": {},
   "outputs": [
    {
     "data": {
      "text/plain": [
       "0.0"
      ]
     },
     "execution_count": 6,
     "metadata": {},
     "output_type": "execute_result"
    }
   ],
   "source": [
    "df['restricted_stock_deferred'].max()"
   ]
  },
  {
   "cell_type": "code",
   "execution_count": 7,
   "metadata": {
    "scrolled": false
   },
   "outputs": [
    {
     "data": {
      "text/plain": [
       "<seaborn.axisgrid.PairGrid at 0x7fae390fe278>"
      ]
     },
     "execution_count": 7,
     "metadata": {},
     "output_type": "execute_result"
    },
    {
     "data": {
      "image/png": "[encoded data removed]",
      "text/plain": [
       "<Figure size 773.25x720 with 20 Axes>"
      ]
     },
     "metadata": {
      "needs_background": "light"
     },
     "output_type": "display_data"
    }
   ],
   "source": [
    "# https://towardsdatascience.com/the-art-of-effective-visualization-of-multi-dimensional-data-6c7202990c57\n",
    "# http://scikit-learn.org/stable/auto_examples/ensemble/plot_partial_dependence.html\n",
    "# https://jakevdp.github.io/PythonDataScienceHandbook/04.14-visualization-with-seaborn.html\n",
    "# https://seaborn.pydata.org/tutorial/axis_grids.html\n",
    "# df = df_pdf\n",
    "# df = pd.DataFrame.from_dict(my_dataset, orient='index') #.replace('NaN', np.nan) # Load cleaned dataset\n",
    "\n",
    "df2plot = deepcopy(df)\n",
    "\n",
    "df2plot['poi'] = df2plot['poi'].replace(True, 'yes')\n",
    "df2plot['poi'] = df2plot['poi'].replace(False, 'no')\n",
    "# features2plot = features_financial_salary+features_financial_stock + features_email + ['poi']\n",
    "features2plot = features_absolute_cash + features_fractions_lost + ['poi']\n",
    "\n",
    "\n",
    "df2plot = df2plot[features2plot]\n",
    "#df2plot = df2plot[~(df2plot.isna().sum(axis=1)>0)] # plot only existing data\n",
    "#g = sns.pairplot(df2plot, hue=\"poi\") # \n",
    "\n",
    "g = sns.PairGrid(df2plot, hue=\"poi\")\n",
    "#g = sns.PairGrid(df2plot, vars=df2plot.columns[~df2plot.columns.isin(['poi'])].tolist(), hue=\"poi\")\n",
    "#g = sns.PairGrid(df2plot, vars=df2plot.columns.tolist())\n",
    "#g = g.map(plt.scatter)\n",
    "g.fig.subplots_adjust(wspace=.02, hspace=.1);\n",
    "#g.fig.subplots_adjust(wspace=.02, hspace=.02);\n",
    "g = g.map_upper(plt.scatter)\n",
    "g = g.map_diag(plt.hist, histtype=\"step\", linewidth=3)\n",
    "#g.map_diag(sns.kdeplot, lw=3, legend=False);\n",
    "#g.map_lower(sns.kdeplot)\n",
    "g = g.map_lower(plt.scatter)\n",
    "g.add_legend()\n",
    "#g.map_offdiag(plt.scatter)\n"
   ]
  },
  {
   "cell_type": "markdown",
   "metadata": {},
   "source": [
    "Since the dataset has many features, a relatively small number of records and is additionally pretty sparse, the usual training/testing splitting is not very approproate. Instead, the whole dataset is used for training and cross validation for testing. An appropriate function is `test_classifier()`, which has already been provided by Udacity as part of the module **[tester](tester.py)**."
   ]
  },
  {
   "cell_type": "code",
   "execution_count": 37,
   "metadata": {},
   "outputs": [],
   "source": [
    "#df[['poi']+features_fractions_lost].values\n",
    "#features_list = ['poi']+features_fractions_lost\n",
    "# features_list = ['poi']+features_fractions_lost+features_absolute_cash\n",
    "data_d = df.to_dict(orient='index') # Required for Udacitiy's test_classifier\n",
    "# len(data_d.keys())\n",
    "df=df.drop([\"email_address\"], axis=1)"
   ]
  },
  {
   "cell_type": "markdown",
   "metadata": {},
   "source": [
    "## DecisionTreeClassifier"
   ]
  },
  {
   "cell_type": "code",
   "execution_count": 43,
   "metadata": {},
   "outputs": [
    {
     "name": "stdout",
     "output_type": "stream",
     "text": [
      "CPU times: user 16.1 s, sys: 153 ms, total: 16.2 s\n",
      "Wall time: 16.9 s\n"
     ]
    }
   ],
   "source": [
    "%%time\n",
    "# TODO: Zuerst ein paar Features durchprobieren.\n",
    "pipe = Pipeline([\n",
    "    (\"selector\", None),\n",
    "    (\"classifier\", DecisionTreeClassifier())\n",
    "])\n",
    "\n",
    "param_grid =[\n",
    "    {\n",
    "        \"selector\": [DataFrameSelector()],\n",
    "        \"selector__attribute_names\": [features_absolute_cash,\n",
    "                                  features_absolute_cash+features_fractions_lost,\n",
    "                                  features_absolute_cash+features_fractions_cash,\n",
    "                                  features_absolute_cash+features_fractions_lost+features_fractions_cash,\n",
    "                                  ['total_cash']+features_fractions_lost,\n",
    "                                  ['total_cash']+['fraction_director_direct_cash']+features_fractions_lost\n",
    "                                 ],\n",
    "        \"classifier__criterion\": [\"entropy\"],\n",
    "        \"classifier__max_depth\": [4,5,6,7,8,9,10],\n",
    "        \"classifier__min_samples_leaf\": [1,2,3,4,5] # Makes it worse\n",
    "    },\n",
    "    {\n",
    "        \"selector\": [PCA()],\n",
    "        \"selector__n_components\": [2,3,4,5],\n",
    "        \"classifier__criterion\": [\"entropy\"],\n",
    "        \"classifier__max_depth\": [4,5,6,7,8,9,10],\n",
    "        \"classifier__min_samples_leaf\": [1,2,3,4,5] # Makes it worse\n",
    "    }\n",
    "]\n",
    "# \"dt_simple__min_samples_leaf\": [1,3,6,8] # Makes it worse\n",
    "\n",
    "#     \"dt_simple__min_samples_leaf\": [1,3,6,8]\n",
    "sss = StratifiedShuffleSplit(n_splits=100, random_state=42)\n",
    "\n",
    "#if __name__ == '__main__':\n",
    "#   # parallel code here\n",
    "grid_search = GridSearchCV(pipe, param_grid=param_grid, cv=sss, scoring=\"recall\", n_jobs=-1)\n",
    "#grid_search = GridSearchCV(clf, param_grid=param_grid, cv=sss, scoring=\"recall\", n_jobs=1)\n",
    "\n",
    "f = pd.Series(df.columns)\n",
    "grid_search.fit(df[f[~f.isin(['poi'])]], df['poi'].values)"
   ]
  },
  {
   "cell_type": "code",
   "execution_count": 44,
   "metadata": {},
   "outputs": [
    {
     "name": "stdout",
     "output_type": "stream",
     "text": [
      "Pipeline(memory=None,\n",
      "     steps=[('selector', PCA(copy=True, iterated_power='auto', n_components=4, random_state=None,\n",
      "  svd_solver='auto', tol=0.0, whiten=False)), ('classifier', DecisionTreeClassifier(class_weight=None, criterion='entropy', max_depth=9,\n",
      "            max_features=None, max_leaf_nodes=None,\n",
      "            min_im...      min_weight_fraction_leaf=0.0, presort=False, random_state=None,\n",
      "            splitter='best'))])\n"
     ]
    }
   ],
   "source": [
    "#print(grid_search.best_params_)\n",
    "print(grid_search.best_estimator_)"
   ]
  },
  {
   "cell_type": "code",
   "execution_count": 45,
   "metadata": {},
   "outputs": [
    {
     "data": {
      "text/plain": [
       "0.4"
      ]
     },
     "execution_count": 45,
     "metadata": {},
     "output_type": "execute_result"
    }
   ],
   "source": [
    "grid_search.best_score_"
   ]
  },
  {
   "cell_type": "code",
   "execution_count": 46,
   "metadata": {},
   "outputs": [
    {
     "data": {
      "text/plain": [
       "0"
      ]
     },
     "execution_count": 46,
     "metadata": {},
     "output_type": "execute_result"
    }
   ],
   "source": [
    "grid_search.verbose"
   ]
  },
  {
   "cell_type": "code",
   "execution_count": 48,
   "metadata": {},
   "outputs": [
    {
     "data": {
      "text/plain": [
       "{'classifier__criterion': 'entropy',\n",
       " 'classifier__max_depth': 9,\n",
       " 'classifier__min_samples_leaf': 1,\n",
       " 'selector': PCA(copy=True, iterated_power='auto', n_components=4, random_state=None,\n",
       "   svd_solver='auto', tol=0.0, whiten=False),\n",
       " 'selector__n_components': 4}"
      ]
     },
     "execution_count": 48,
     "metadata": {},
     "output_type": "execute_result"
    }
   ],
   "source": [
    "grid_search.best_params_"
   ]
  },
  {
   "cell_type": "code",
   "execution_count": 52,
   "metadata": {},
   "outputs": [
    {
     "name": "stdout",
     "output_type": "stream",
     "text": [
      "Pipeline(memory=None,\n",
      "     steps=[('selector', PCA(copy=True, iterated_power='auto', n_components=4, random_state=None,\n",
      "  svd_solver='auto', tol=0.0, whiten=False)), ('classifier', DecisionTreeClassifier(class_weight=None, criterion='entropy', max_depth=9,\n",
      "            max_features=None, max_leaf_nodes=None,\n",
      "            min_im...      min_weight_fraction_leaf=0.0, presort=False, random_state=None,\n",
      "            splitter='best'))])\n",
      "\tAccuracy: 0.83867\tPrecision: 0.39706\tRecall: 0.40500\tF1: 0.40099\tF2: 0.40339\n",
      "\tTotal predictions: 1500\tTrue positives:   81\tFalse positives:  123\tFalse negatives:  119\tTrue negatives: 1177\n",
      "\n"
     ]
    }
   ],
   "source": [
    "from tester import test_classifier\n",
    "#from sklearn.tree import DecisionTreeClassifier # Already imported in poi_id.py\n",
    "# Training classifiers\n",
    "#clf1 = DecisionTreeClassifier(criterion='entropy', max_depth=3)\n",
    "#clf1 = DecisionTreeClassifier(criterion=grid_search.best_params_['dt_simple__criterion'],\n",
    "#                              max_depth=grid_search.best_params_['dt_simple__max_depth']\n",
    "#                              )\n",
    "#  min_samples_leaf=grid_search.best_params_['dt_simple__min_samples_leaf'] # Makes it worse\n",
    "\n",
    "#clf2 = KNeighborsClassifier(n_neighbors=7)\n",
    "#clf3 = SVC(gamma=.1, kernel='rbf', probability=True)\n",
    "#eclf = VotingClassifier(estimators=[('dt', clf1), ('knn', clf2),\n",
    "#                                    ('svc', clf3)],\n",
    "#                        voting='soft', weights=[2, 1, 2])\n",
    "\n",
    "# test_classifier(clf1, data_d, ['poi']+grid_search.best_params_[\"selector__attribute_names\"], folds=1000)\n",
    "test_classifier(grid_search.best_estimator_, data_d, ['poi']+list(f[~f.isin(['poi', 'email_address'])]), folds=100)"
   ]
  },
  {
   "cell_type": "code",
   "execution_count": 101,
   "metadata": {},
   "outputs": [],
   "source": [
    "from sklearn.tree import export_graphviz\n",
    "export_graphviz(\n",
    "    clf1,\n",
    "    out_file=\"files/DecisionTreeClassifier.dot\",\n",
    "    feature_names=grid_search.best_params_[\"selector__attribute_names\"], #features_list[1:],\n",
    "    class_names=[\"no\", \"yes\"],\n",
    "    rounded=True,\n",
    "    filled=True\n",
    ")"
   ]
  },
  {
   "cell_type": "code",
   "execution_count": 102,
   "metadata": {},
   "outputs": [],
   "source": [
    "%%bash\n",
    "dot -Tpng files/test_tree.dot -o files/DecisionTreeClassifier.png"
   ]
  },
  {
   "cell_type": "code",
   "execution_count": 103,
   "metadata": {},
   "outputs": [
    {
     "data": {
      "text/html": [
       "<img src=\"files/DecisionTreeClassifier.png?462490137\" alt=\"Decision tree\" height=\"100\">"
      ],
      "text/plain": [
       "<IPython.core.display.HTML object>"
      ]
     },
     "metadata": {},
     "output_type": "display_data"
    }
   ],
   "source": [
    "import random\n",
    "__counter__ = random.randint(0,2e9)\n",
    "display(HTML('<img src=\"files/DecisionTreeClassifier.png?%d\" alt=\"Decision tree\" height=\"100\">' % __counter__))"
   ]
  },
  {
   "cell_type": "markdown",
   "metadata": {},
   "source": [
    "## RandomForestClassifier"
   ]
  },
  {
   "cell_type": "code",
   "execution_count": 26,
   "metadata": {},
   "outputs": [
    {
     "name": "stdout",
     "output_type": "stream",
     "text": [
      "CPU times: user 20.4 s, sys: 245 ms, total: 20.6 s\n",
      "Wall time: 1min 30s\n"
     ]
    },
    {
     "name": "stderr",
     "output_type": "stream",
     "text": [
      "/home/joerg/unisoned/arbeit/DataAnalyst/scikit-learn/sklearn/ensemble/forest.py:247: FutureWarning: The default value of n_estimators will change from 10 in version 0.20 to 100 in 0.22.\n",
      "  \"10 in version 0.20 to 100 in 0.22.\", FutureWarning)\n"
     ]
    }
   ],
   "source": [
    "%%time\n",
    "\n",
    "#from sklearn.ensemble import RandomForestClassifier\n",
    "#rnd_clf = RandomForestClassifier(n_estimators=500, max_leaf_nodes=16, n_jobs=-1)\n",
    "#rnd_clf.fit(X_train, y_train)\n",
    "#y_pred_rf = rnd_clf.predict(X_test)\n",
    "\n",
    "#from sklearn.svm               import LinearSVC\n",
    "clf = Pipeline([\n",
    "    ('feature_selection', SelectFromModel(RandomForestClassifier())),\n",
    "    (\"randomforest\", RandomForestClassifier())\n",
    "])\n",
    "\n",
    "param_grid =[{\n",
    "    \"randomforest__criterion\": [\"entropy\"],\n",
    "    \"randomforest__n_estimators\": [10, 50, 100],\n",
    "    \"randomforest__max_features\": [4, 5, 6, 7],\n",
    "    \"randomforest__max_depth\": [5, 6, 7, 8, None]\n",
    "}]\n",
    "\n",
    "\n",
    "\n",
    "\n",
    "sss = StratifiedShuffleSplit(n_splits=100, random_state=42)\n",
    "grid_search = GridSearchCV(clf, param_grid=param_grid, cv=sss, n_jobs=-1)\n",
    "\n",
    "f = pd.Series(df.columns)\n",
    "grid_search.fit(df[f[~f.isin(['poi', 'email_address'])]], df['poi'].values)"
   ]
  },
  {
   "cell_type": "code",
   "execution_count": 27,
   "metadata": {
    "scrolled": true
   },
   "outputs": [
    {
     "data": {
      "text/plain": [
       "{'randomforest__criterion': 'entropy',\n",
       " 'randomforest__max_depth': 5,\n",
       " 'randomforest__max_features': 4,\n",
       " 'randomforest__n_estimators': 100}"
      ]
     },
     "execution_count": 27,
     "metadata": {},
     "output_type": "execute_result"
    }
   ],
   "source": [
    "grid_search.best_params_"
   ]
  },
  {
   "cell_type": "code",
   "execution_count": 28,
   "metadata": {},
   "outputs": [
    {
     "data": {
      "text/plain": [
       "Pipeline(memory=None,\n",
       "     steps=[('feature_selection', SelectFromModel(estimator=RandomForestClassifier(bootstrap=True, class_weight=None, criterion='gini',\n",
       "            max_depth=None, max_features='auto', max_leaf_nodes=None,\n",
       "            min_impurity_decrease=0.0, min_impurity_split=None,\n",
       "            min_samples_leaf=1, min...obs=None,\n",
       "            oob_score=False, random_state=None, verbose=0,\n",
       "            warm_start=False))])"
      ]
     },
     "execution_count": 28,
     "metadata": {},
     "output_type": "execute_result"
    }
   ],
   "source": [
    "grid_search.best_estimator_"
   ]
  },
  {
   "cell_type": "code",
   "execution_count": 29,
   "metadata": {},
   "outputs": [
    {
     "name": "stderr",
     "output_type": "stream",
     "text": [
      "/home/joerg/unisoned/arbeit/DataAnalyst/scikit-learn/sklearn/ensemble/forest.py:247: FutureWarning: The default value of n_estimators will change from 10 in version 0.20 to 100 in 0.22.\n",
      "  \"10 in version 0.20 to 100 in 0.22.\", FutureWarning)\n",
      "/home/joerg/unisoned/arbeit/DataAnalyst/scikit-learn/sklearn/ensemble/forest.py:247: FutureWarning: The default value of n_estimators will change from 10 in version 0.20 to 100 in 0.22.\n",
      "  \"10 in version 0.20 to 100 in 0.22.\", FutureWarning)\n",
      "/home/joerg/unisoned/arbeit/DataAnalyst/scikit-learn/sklearn/ensemble/forest.py:247: FutureWarning: The default value of n_estimators will change from 10 in version 0.20 to 100 in 0.22.\n",
      "  \"10 in version 0.20 to 100 in 0.22.\", FutureWarning)\n",
      "/home/joerg/unisoned/arbeit/DataAnalyst/scikit-learn/sklearn/ensemble/forest.py:247: FutureWarning: The default value of n_estimators will change from 10 in version 0.20 to 100 in 0.22.\n",
      "  \"10 in version 0.20 to 100 in 0.22.\", FutureWarning)\n",
      "/home/joerg/unisoned/arbeit/DataAnalyst/scikit-learn/sklearn/ensemble/forest.py:247: FutureWarning: The default value of n_estimators will change from 10 in version 0.20 to 100 in 0.22.\n",
      "  \"10 in version 0.20 to 100 in 0.22.\", FutureWarning)\n",
      "/home/joerg/unisoned/arbeit/DataAnalyst/scikit-learn/sklearn/ensemble/forest.py:247: FutureWarning: The default value of n_estimators will change from 10 in version 0.20 to 100 in 0.22.\n",
      "  \"10 in version 0.20 to 100 in 0.22.\", FutureWarning)\n",
      "/home/joerg/unisoned/arbeit/DataAnalyst/scikit-learn/sklearn/ensemble/forest.py:247: FutureWarning: The default value of n_estimators will change from 10 in version 0.20 to 100 in 0.22.\n",
      "  \"10 in version 0.20 to 100 in 0.22.\", FutureWarning)\n",
      "/home/joerg/unisoned/arbeit/DataAnalyst/scikit-learn/sklearn/ensemble/forest.py:247: FutureWarning: The default value of n_estimators will change from 10 in version 0.20 to 100 in 0.22.\n",
      "  \"10 in version 0.20 to 100 in 0.22.\", FutureWarning)\n",
      "/home/joerg/unisoned/arbeit/DataAnalyst/scikit-learn/sklearn/ensemble/forest.py:247: FutureWarning: The default value of n_estimators will change from 10 in version 0.20 to 100 in 0.22.\n",
      "  \"10 in version 0.20 to 100 in 0.22.\", FutureWarning)\n",
      "/home/joerg/unisoned/arbeit/DataAnalyst/scikit-learn/sklearn/ensemble/forest.py:247: FutureWarning: The default value of n_estimators will change from 10 in version 0.20 to 100 in 0.22.\n",
      "  \"10 in version 0.20 to 100 in 0.22.\", FutureWarning)\n",
      "/home/joerg/unisoned/arbeit/DataAnalyst/scikit-learn/sklearn/ensemble/forest.py:247: FutureWarning: The default value of n_estimators will change from 10 in version 0.20 to 100 in 0.22.\n",
      "  \"10 in version 0.20 to 100 in 0.22.\", FutureWarning)\n",
      "/home/joerg/unisoned/arbeit/DataAnalyst/scikit-learn/sklearn/ensemble/forest.py:247: FutureWarning: The default value of n_estimators will change from 10 in version 0.20 to 100 in 0.22.\n",
      "  \"10 in version 0.20 to 100 in 0.22.\", FutureWarning)\n",
      "/home/joerg/unisoned/arbeit/DataAnalyst/scikit-learn/sklearn/ensemble/forest.py:247: FutureWarning: The default value of n_estimators will change from 10 in version 0.20 to 100 in 0.22.\n",
      "  \"10 in version 0.20 to 100 in 0.22.\", FutureWarning)\n",
      "/home/joerg/unisoned/arbeit/DataAnalyst/scikit-learn/sklearn/ensemble/forest.py:247: FutureWarning: The default value of n_estimators will change from 10 in version 0.20 to 100 in 0.22.\n",
      "  \"10 in version 0.20 to 100 in 0.22.\", FutureWarning)\n",
      "/home/joerg/unisoned/arbeit/DataAnalyst/scikit-learn/sklearn/ensemble/forest.py:247: FutureWarning: The default value of n_estimators will change from 10 in version 0.20 to 100 in 0.22.\n",
      "  \"10 in version 0.20 to 100 in 0.22.\", FutureWarning)\n",
      "/home/joerg/unisoned/arbeit/DataAnalyst/scikit-learn/sklearn/ensemble/forest.py:247: FutureWarning: The default value of n_estimators will change from 10 in version 0.20 to 100 in 0.22.\n",
      "  \"10 in version 0.20 to 100 in 0.22.\", FutureWarning)\n",
      "/home/joerg/unisoned/arbeit/DataAnalyst/scikit-learn/sklearn/ensemble/forest.py:247: FutureWarning: The default value of n_estimators will change from 10 in version 0.20 to 100 in 0.22.\n",
      "  \"10 in version 0.20 to 100 in 0.22.\", FutureWarning)\n",
      "/home/joerg/unisoned/arbeit/DataAnalyst/scikit-learn/sklearn/ensemble/forest.py:247: FutureWarning: The default value of n_estimators will change from 10 in version 0.20 to 100 in 0.22.\n",
      "  \"10 in version 0.20 to 100 in 0.22.\", FutureWarning)\n",
      "/home/joerg/unisoned/arbeit/DataAnalyst/scikit-learn/sklearn/ensemble/forest.py:247: FutureWarning: The default value of n_estimators will change from 10 in version 0.20 to 100 in 0.22.\n",
      "  \"10 in version 0.20 to 100 in 0.22.\", FutureWarning)\n",
      "/home/joerg/unisoned/arbeit/DataAnalyst/scikit-learn/sklearn/ensemble/forest.py:247: FutureWarning: The default value of n_estimators will change from 10 in version 0.20 to 100 in 0.22.\n",
      "  \"10 in version 0.20 to 100 in 0.22.\", FutureWarning)\n",
      "/home/joerg/unisoned/arbeit/DataAnalyst/scikit-learn/sklearn/ensemble/forest.py:247: FutureWarning: The default value of n_estimators will change from 10 in version 0.20 to 100 in 0.22.\n",
      "  \"10 in version 0.20 to 100 in 0.22.\", FutureWarning)\n",
      "/home/joerg/unisoned/arbeit/DataAnalyst/scikit-learn/sklearn/ensemble/forest.py:247: FutureWarning: The default value of n_estimators will change from 10 in version 0.20 to 100 in 0.22.\n",
      "  \"10 in version 0.20 to 100 in 0.22.\", FutureWarning)\n",
      "/home/joerg/unisoned/arbeit/DataAnalyst/scikit-learn/sklearn/ensemble/forest.py:247: FutureWarning: The default value of n_estimators will change from 10 in version 0.20 to 100 in 0.22.\n",
      "  \"10 in version 0.20 to 100 in 0.22.\", FutureWarning)\n",
      "/home/joerg/unisoned/arbeit/DataAnalyst/scikit-learn/sklearn/ensemble/forest.py:247: FutureWarning: The default value of n_estimators will change from 10 in version 0.20 to 100 in 0.22.\n",
      "  \"10 in version 0.20 to 100 in 0.22.\", FutureWarning)\n",
      "/home/joerg/unisoned/arbeit/DataAnalyst/scikit-learn/sklearn/ensemble/forest.py:247: FutureWarning: The default value of n_estimators will change from 10 in version 0.20 to 100 in 0.22.\n",
      "  \"10 in version 0.20 to 100 in 0.22.\", FutureWarning)\n",
      "/home/joerg/unisoned/arbeit/DataAnalyst/scikit-learn/sklearn/ensemble/forest.py:247: FutureWarning: The default value of n_estimators will change from 10 in version 0.20 to 100 in 0.22.\n",
      "  \"10 in version 0.20 to 100 in 0.22.\", FutureWarning)\n",
      "/home/joerg/unisoned/arbeit/DataAnalyst/scikit-learn/sklearn/ensemble/forest.py:247: FutureWarning: The default value of n_estimators will change from 10 in version 0.20 to 100 in 0.22.\n",
      "  \"10 in version 0.20 to 100 in 0.22.\", FutureWarning)\n",
      "/home/joerg/unisoned/arbeit/DataAnalyst/scikit-learn/sklearn/ensemble/forest.py:247: FutureWarning: The default value of n_estimators will change from 10 in version 0.20 to 100 in 0.22.\n",
      "  \"10 in version 0.20 to 100 in 0.22.\", FutureWarning)\n",
      "/home/joerg/unisoned/arbeit/DataAnalyst/scikit-learn/sklearn/ensemble/forest.py:247: FutureWarning: The default value of n_estimators will change from 10 in version 0.20 to 100 in 0.22.\n",
      "  \"10 in version 0.20 to 100 in 0.22.\", FutureWarning)\n",
      "/home/joerg/unisoned/arbeit/DataAnalyst/scikit-learn/sklearn/ensemble/forest.py:247: FutureWarning: The default value of n_estimators will change from 10 in version 0.20 to 100 in 0.22.\n",
      "  \"10 in version 0.20 to 100 in 0.22.\", FutureWarning)\n",
      "/home/joerg/unisoned/arbeit/DataAnalyst/scikit-learn/sklearn/ensemble/forest.py:247: FutureWarning: The default value of n_estimators will change from 10 in version 0.20 to 100 in 0.22.\n",
      "  \"10 in version 0.20 to 100 in 0.22.\", FutureWarning)\n",
      "/home/joerg/unisoned/arbeit/DataAnalyst/scikit-learn/sklearn/ensemble/forest.py:247: FutureWarning: The default value of n_estimators will change from 10 in version 0.20 to 100 in 0.22.\n",
      "  \"10 in version 0.20 to 100 in 0.22.\", FutureWarning)\n",
      "/home/joerg/unisoned/arbeit/DataAnalyst/scikit-learn/sklearn/ensemble/forest.py:247: FutureWarning: The default value of n_estimators will change from 10 in version 0.20 to 100 in 0.22.\n",
      "  \"10 in version 0.20 to 100 in 0.22.\", FutureWarning)\n",
      "/home/joerg/unisoned/arbeit/DataAnalyst/scikit-learn/sklearn/ensemble/forest.py:247: FutureWarning: The default value of n_estimators will change from 10 in version 0.20 to 100 in 0.22.\n",
      "  \"10 in version 0.20 to 100 in 0.22.\", FutureWarning)\n",
      "/home/joerg/unisoned/arbeit/DataAnalyst/scikit-learn/sklearn/ensemble/forest.py:247: FutureWarning: The default value of n_estimators will change from 10 in version 0.20 to 100 in 0.22.\n",
      "  \"10 in version 0.20 to 100 in 0.22.\", FutureWarning)\n",
      "/home/joerg/unisoned/arbeit/DataAnalyst/scikit-learn/sklearn/ensemble/forest.py:247: FutureWarning: The default value of n_estimators will change from 10 in version 0.20 to 100 in 0.22.\n",
      "  \"10 in version 0.20 to 100 in 0.22.\", FutureWarning)\n"
     ]
    },
    {
     "name": "stderr",
     "output_type": "stream",
     "text": [
      "/home/joerg/unisoned/arbeit/DataAnalyst/scikit-learn/sklearn/ensemble/forest.py:247: FutureWarning: The default value of n_estimators will change from 10 in version 0.20 to 100 in 0.22.\n",
      "  \"10 in version 0.20 to 100 in 0.22.\", FutureWarning)\n",
      "/home/joerg/unisoned/arbeit/DataAnalyst/scikit-learn/sklearn/ensemble/forest.py:247: FutureWarning: The default value of n_estimators will change from 10 in version 0.20 to 100 in 0.22.\n",
      "  \"10 in version 0.20 to 100 in 0.22.\", FutureWarning)\n",
      "/home/joerg/unisoned/arbeit/DataAnalyst/scikit-learn/sklearn/ensemble/forest.py:247: FutureWarning: The default value of n_estimators will change from 10 in version 0.20 to 100 in 0.22.\n",
      "  \"10 in version 0.20 to 100 in 0.22.\", FutureWarning)\n",
      "/home/joerg/unisoned/arbeit/DataAnalyst/scikit-learn/sklearn/ensemble/forest.py:247: FutureWarning: The default value of n_estimators will change from 10 in version 0.20 to 100 in 0.22.\n",
      "  \"10 in version 0.20 to 100 in 0.22.\", FutureWarning)\n",
      "/home/joerg/unisoned/arbeit/DataAnalyst/scikit-learn/sklearn/ensemble/forest.py:247: FutureWarning: The default value of n_estimators will change from 10 in version 0.20 to 100 in 0.22.\n",
      "  \"10 in version 0.20 to 100 in 0.22.\", FutureWarning)\n",
      "/home/joerg/unisoned/arbeit/DataAnalyst/scikit-learn/sklearn/ensemble/forest.py:247: FutureWarning: The default value of n_estimators will change from 10 in version 0.20 to 100 in 0.22.\n",
      "  \"10 in version 0.20 to 100 in 0.22.\", FutureWarning)\n",
      "/home/joerg/unisoned/arbeit/DataAnalyst/scikit-learn/sklearn/ensemble/forest.py:247: FutureWarning: The default value of n_estimators will change from 10 in version 0.20 to 100 in 0.22.\n",
      "  \"10 in version 0.20 to 100 in 0.22.\", FutureWarning)\n",
      "/home/joerg/unisoned/arbeit/DataAnalyst/scikit-learn/sklearn/ensemble/forest.py:247: FutureWarning: The default value of n_estimators will change from 10 in version 0.20 to 100 in 0.22.\n",
      "  \"10 in version 0.20 to 100 in 0.22.\", FutureWarning)\n",
      "/home/joerg/unisoned/arbeit/DataAnalyst/scikit-learn/sklearn/ensemble/forest.py:247: FutureWarning: The default value of n_estimators will change from 10 in version 0.20 to 100 in 0.22.\n",
      "  \"10 in version 0.20 to 100 in 0.22.\", FutureWarning)\n",
      "/home/joerg/unisoned/arbeit/DataAnalyst/scikit-learn/sklearn/ensemble/forest.py:247: FutureWarning: The default value of n_estimators will change from 10 in version 0.20 to 100 in 0.22.\n",
      "  \"10 in version 0.20 to 100 in 0.22.\", FutureWarning)\n",
      "/home/joerg/unisoned/arbeit/DataAnalyst/scikit-learn/sklearn/ensemble/forest.py:247: FutureWarning: The default value of n_estimators will change from 10 in version 0.20 to 100 in 0.22.\n",
      "  \"10 in version 0.20 to 100 in 0.22.\", FutureWarning)\n",
      "/home/joerg/unisoned/arbeit/DataAnalyst/scikit-learn/sklearn/ensemble/forest.py:247: FutureWarning: The default value of n_estimators will change from 10 in version 0.20 to 100 in 0.22.\n",
      "  \"10 in version 0.20 to 100 in 0.22.\", FutureWarning)\n",
      "/home/joerg/unisoned/arbeit/DataAnalyst/scikit-learn/sklearn/ensemble/forest.py:247: FutureWarning: The default value of n_estimators will change from 10 in version 0.20 to 100 in 0.22.\n",
      "  \"10 in version 0.20 to 100 in 0.22.\", FutureWarning)\n",
      "/home/joerg/unisoned/arbeit/DataAnalyst/scikit-learn/sklearn/ensemble/forest.py:247: FutureWarning: The default value of n_estimators will change from 10 in version 0.20 to 100 in 0.22.\n",
      "  \"10 in version 0.20 to 100 in 0.22.\", FutureWarning)\n",
      "/home/joerg/unisoned/arbeit/DataAnalyst/scikit-learn/sklearn/ensemble/forest.py:247: FutureWarning: The default value of n_estimators will change from 10 in version 0.20 to 100 in 0.22.\n",
      "  \"10 in version 0.20 to 100 in 0.22.\", FutureWarning)\n",
      "/home/joerg/unisoned/arbeit/DataAnalyst/scikit-learn/sklearn/ensemble/forest.py:247: FutureWarning: The default value of n_estimators will change from 10 in version 0.20 to 100 in 0.22.\n",
      "  \"10 in version 0.20 to 100 in 0.22.\", FutureWarning)\n",
      "/home/joerg/unisoned/arbeit/DataAnalyst/scikit-learn/sklearn/ensemble/forest.py:247: FutureWarning: The default value of n_estimators will change from 10 in version 0.20 to 100 in 0.22.\n",
      "  \"10 in version 0.20 to 100 in 0.22.\", FutureWarning)\n",
      "/home/joerg/unisoned/arbeit/DataAnalyst/scikit-learn/sklearn/ensemble/forest.py:247: FutureWarning: The default value of n_estimators will change from 10 in version 0.20 to 100 in 0.22.\n",
      "  \"10 in version 0.20 to 100 in 0.22.\", FutureWarning)\n",
      "/home/joerg/unisoned/arbeit/DataAnalyst/scikit-learn/sklearn/ensemble/forest.py:247: FutureWarning: The default value of n_estimators will change from 10 in version 0.20 to 100 in 0.22.\n",
      "  \"10 in version 0.20 to 100 in 0.22.\", FutureWarning)\n",
      "/home/joerg/unisoned/arbeit/DataAnalyst/scikit-learn/sklearn/ensemble/forest.py:247: FutureWarning: The default value of n_estimators will change from 10 in version 0.20 to 100 in 0.22.\n",
      "  \"10 in version 0.20 to 100 in 0.22.\", FutureWarning)\n",
      "/home/joerg/unisoned/arbeit/DataAnalyst/scikit-learn/sklearn/ensemble/forest.py:247: FutureWarning: The default value of n_estimators will change from 10 in version 0.20 to 100 in 0.22.\n",
      "  \"10 in version 0.20 to 100 in 0.22.\", FutureWarning)\n",
      "/home/joerg/unisoned/arbeit/DataAnalyst/scikit-learn/sklearn/ensemble/forest.py:247: FutureWarning: The default value of n_estimators will change from 10 in version 0.20 to 100 in 0.22.\n",
      "  \"10 in version 0.20 to 100 in 0.22.\", FutureWarning)\n",
      "/home/joerg/unisoned/arbeit/DataAnalyst/scikit-learn/sklearn/ensemble/forest.py:247: FutureWarning: The default value of n_estimators will change from 10 in version 0.20 to 100 in 0.22.\n",
      "  \"10 in version 0.20 to 100 in 0.22.\", FutureWarning)\n",
      "/home/joerg/unisoned/arbeit/DataAnalyst/scikit-learn/sklearn/ensemble/forest.py:247: FutureWarning: The default value of n_estimators will change from 10 in version 0.20 to 100 in 0.22.\n",
      "  \"10 in version 0.20 to 100 in 0.22.\", FutureWarning)\n",
      "/home/joerg/unisoned/arbeit/DataAnalyst/scikit-learn/sklearn/ensemble/forest.py:247: FutureWarning: The default value of n_estimators will change from 10 in version 0.20 to 100 in 0.22.\n",
      "  \"10 in version 0.20 to 100 in 0.22.\", FutureWarning)\n",
      "/home/joerg/unisoned/arbeit/DataAnalyst/scikit-learn/sklearn/ensemble/forest.py:247: FutureWarning: The default value of n_estimators will change from 10 in version 0.20 to 100 in 0.22.\n",
      "  \"10 in version 0.20 to 100 in 0.22.\", FutureWarning)\n",
      "/home/joerg/unisoned/arbeit/DataAnalyst/scikit-learn/sklearn/ensemble/forest.py:247: FutureWarning: The default value of n_estimators will change from 10 in version 0.20 to 100 in 0.22.\n",
      "  \"10 in version 0.20 to 100 in 0.22.\", FutureWarning)\n",
      "/home/joerg/unisoned/arbeit/DataAnalyst/scikit-learn/sklearn/ensemble/forest.py:247: FutureWarning: The default value of n_estimators will change from 10 in version 0.20 to 100 in 0.22.\n",
      "  \"10 in version 0.20 to 100 in 0.22.\", FutureWarning)\n",
      "/home/joerg/unisoned/arbeit/DataAnalyst/scikit-learn/sklearn/ensemble/forest.py:247: FutureWarning: The default value of n_estimators will change from 10 in version 0.20 to 100 in 0.22.\n",
      "  \"10 in version 0.20 to 100 in 0.22.\", FutureWarning)\n",
      "/home/joerg/unisoned/arbeit/DataAnalyst/scikit-learn/sklearn/ensemble/forest.py:247: FutureWarning: The default value of n_estimators will change from 10 in version 0.20 to 100 in 0.22.\n",
      "  \"10 in version 0.20 to 100 in 0.22.\", FutureWarning)\n",
      "/home/joerg/unisoned/arbeit/DataAnalyst/scikit-learn/sklearn/ensemble/forest.py:247: FutureWarning: The default value of n_estimators will change from 10 in version 0.20 to 100 in 0.22.\n",
      "  \"10 in version 0.20 to 100 in 0.22.\", FutureWarning)\n",
      "/home/joerg/unisoned/arbeit/DataAnalyst/scikit-learn/sklearn/ensemble/forest.py:247: FutureWarning: The default value of n_estimators will change from 10 in version 0.20 to 100 in 0.22.\n",
      "  \"10 in version 0.20 to 100 in 0.22.\", FutureWarning)\n",
      "/home/joerg/unisoned/arbeit/DataAnalyst/scikit-learn/sklearn/ensemble/forest.py:247: FutureWarning: The default value of n_estimators will change from 10 in version 0.20 to 100 in 0.22.\n",
      "  \"10 in version 0.20 to 100 in 0.22.\", FutureWarning)\n",
      "/home/joerg/unisoned/arbeit/DataAnalyst/scikit-learn/sklearn/ensemble/forest.py:247: FutureWarning: The default value of n_estimators will change from 10 in version 0.20 to 100 in 0.22.\n",
      "  \"10 in version 0.20 to 100 in 0.22.\", FutureWarning)\n",
      "/home/joerg/unisoned/arbeit/DataAnalyst/scikit-learn/sklearn/ensemble/forest.py:247: FutureWarning: The default value of n_estimators will change from 10 in version 0.20 to 100 in 0.22.\n",
      "  \"10 in version 0.20 to 100 in 0.22.\", FutureWarning)\n",
      "/home/joerg/unisoned/arbeit/DataAnalyst/scikit-learn/sklearn/ensemble/forest.py:247: FutureWarning: The default value of n_estimators will change from 10 in version 0.20 to 100 in 0.22.\n",
      "  \"10 in version 0.20 to 100 in 0.22.\", FutureWarning)\n"
     ]
    },
    {
     "name": "stderr",
     "output_type": "stream",
     "text": [
      "/home/joerg/unisoned/arbeit/DataAnalyst/scikit-learn/sklearn/ensemble/forest.py:247: FutureWarning: The default value of n_estimators will change from 10 in version 0.20 to 100 in 0.22.\n",
      "  \"10 in version 0.20 to 100 in 0.22.\", FutureWarning)\n",
      "/home/joerg/unisoned/arbeit/DataAnalyst/scikit-learn/sklearn/ensemble/forest.py:247: FutureWarning: The default value of n_estimators will change from 10 in version 0.20 to 100 in 0.22.\n",
      "  \"10 in version 0.20 to 100 in 0.22.\", FutureWarning)\n",
      "/home/joerg/unisoned/arbeit/DataAnalyst/scikit-learn/sklearn/ensemble/forest.py:247: FutureWarning: The default value of n_estimators will change from 10 in version 0.20 to 100 in 0.22.\n",
      "  \"10 in version 0.20 to 100 in 0.22.\", FutureWarning)\n",
      "/home/joerg/unisoned/arbeit/DataAnalyst/scikit-learn/sklearn/ensemble/forest.py:247: FutureWarning: The default value of n_estimators will change from 10 in version 0.20 to 100 in 0.22.\n",
      "  \"10 in version 0.20 to 100 in 0.22.\", FutureWarning)\n",
      "/home/joerg/unisoned/arbeit/DataAnalyst/scikit-learn/sklearn/ensemble/forest.py:247: FutureWarning: The default value of n_estimators will change from 10 in version 0.20 to 100 in 0.22.\n",
      "  \"10 in version 0.20 to 100 in 0.22.\", FutureWarning)\n",
      "/home/joerg/unisoned/arbeit/DataAnalyst/scikit-learn/sklearn/ensemble/forest.py:247: FutureWarning: The default value of n_estimators will change from 10 in version 0.20 to 100 in 0.22.\n",
      "  \"10 in version 0.20 to 100 in 0.22.\", FutureWarning)\n",
      "/home/joerg/unisoned/arbeit/DataAnalyst/scikit-learn/sklearn/ensemble/forest.py:247: FutureWarning: The default value of n_estimators will change from 10 in version 0.20 to 100 in 0.22.\n",
      "  \"10 in version 0.20 to 100 in 0.22.\", FutureWarning)\n",
      "/home/joerg/unisoned/arbeit/DataAnalyst/scikit-learn/sklearn/ensemble/forest.py:247: FutureWarning: The default value of n_estimators will change from 10 in version 0.20 to 100 in 0.22.\n",
      "  \"10 in version 0.20 to 100 in 0.22.\", FutureWarning)\n",
      "/home/joerg/unisoned/arbeit/DataAnalyst/scikit-learn/sklearn/ensemble/forest.py:247: FutureWarning: The default value of n_estimators will change from 10 in version 0.20 to 100 in 0.22.\n",
      "  \"10 in version 0.20 to 100 in 0.22.\", FutureWarning)\n",
      "/home/joerg/unisoned/arbeit/DataAnalyst/scikit-learn/sklearn/ensemble/forest.py:247: FutureWarning: The default value of n_estimators will change from 10 in version 0.20 to 100 in 0.22.\n",
      "  \"10 in version 0.20 to 100 in 0.22.\", FutureWarning)\n",
      "/home/joerg/unisoned/arbeit/DataAnalyst/scikit-learn/sklearn/ensemble/forest.py:247: FutureWarning: The default value of n_estimators will change from 10 in version 0.20 to 100 in 0.22.\n",
      "  \"10 in version 0.20 to 100 in 0.22.\", FutureWarning)\n",
      "/home/joerg/unisoned/arbeit/DataAnalyst/scikit-learn/sklearn/ensemble/forest.py:247: FutureWarning: The default value of n_estimators will change from 10 in version 0.20 to 100 in 0.22.\n",
      "  \"10 in version 0.20 to 100 in 0.22.\", FutureWarning)\n",
      "/home/joerg/unisoned/arbeit/DataAnalyst/scikit-learn/sklearn/ensemble/forest.py:247: FutureWarning: The default value of n_estimators will change from 10 in version 0.20 to 100 in 0.22.\n",
      "  \"10 in version 0.20 to 100 in 0.22.\", FutureWarning)\n",
      "/home/joerg/unisoned/arbeit/DataAnalyst/scikit-learn/sklearn/ensemble/forest.py:247: FutureWarning: The default value of n_estimators will change from 10 in version 0.20 to 100 in 0.22.\n",
      "  \"10 in version 0.20 to 100 in 0.22.\", FutureWarning)\n",
      "/home/joerg/unisoned/arbeit/DataAnalyst/scikit-learn/sklearn/ensemble/forest.py:247: FutureWarning: The default value of n_estimators will change from 10 in version 0.20 to 100 in 0.22.\n",
      "  \"10 in version 0.20 to 100 in 0.22.\", FutureWarning)\n",
      "/home/joerg/unisoned/arbeit/DataAnalyst/scikit-learn/sklearn/ensemble/forest.py:247: FutureWarning: The default value of n_estimators will change from 10 in version 0.20 to 100 in 0.22.\n",
      "  \"10 in version 0.20 to 100 in 0.22.\", FutureWarning)\n",
      "/home/joerg/unisoned/arbeit/DataAnalyst/scikit-learn/sklearn/ensemble/forest.py:247: FutureWarning: The default value of n_estimators will change from 10 in version 0.20 to 100 in 0.22.\n",
      "  \"10 in version 0.20 to 100 in 0.22.\", FutureWarning)\n",
      "/home/joerg/unisoned/arbeit/DataAnalyst/scikit-learn/sklearn/ensemble/forest.py:247: FutureWarning: The default value of n_estimators will change from 10 in version 0.20 to 100 in 0.22.\n",
      "  \"10 in version 0.20 to 100 in 0.22.\", FutureWarning)\n",
      "/home/joerg/unisoned/arbeit/DataAnalyst/scikit-learn/sklearn/ensemble/forest.py:247: FutureWarning: The default value of n_estimators will change from 10 in version 0.20 to 100 in 0.22.\n",
      "  \"10 in version 0.20 to 100 in 0.22.\", FutureWarning)\n",
      "/home/joerg/unisoned/arbeit/DataAnalyst/scikit-learn/sklearn/ensemble/forest.py:247: FutureWarning: The default value of n_estimators will change from 10 in version 0.20 to 100 in 0.22.\n",
      "  \"10 in version 0.20 to 100 in 0.22.\", FutureWarning)\n",
      "/home/joerg/unisoned/arbeit/DataAnalyst/scikit-learn/sklearn/ensemble/forest.py:247: FutureWarning: The default value of n_estimators will change from 10 in version 0.20 to 100 in 0.22.\n",
      "  \"10 in version 0.20 to 100 in 0.22.\", FutureWarning)\n",
      "/home/joerg/unisoned/arbeit/DataAnalyst/scikit-learn/sklearn/ensemble/forest.py:247: FutureWarning: The default value of n_estimators will change from 10 in version 0.20 to 100 in 0.22.\n",
      "  \"10 in version 0.20 to 100 in 0.22.\", FutureWarning)\n",
      "/home/joerg/unisoned/arbeit/DataAnalyst/scikit-learn/sklearn/ensemble/forest.py:247: FutureWarning: The default value of n_estimators will change from 10 in version 0.20 to 100 in 0.22.\n",
      "  \"10 in version 0.20 to 100 in 0.22.\", FutureWarning)\n",
      "/home/joerg/unisoned/arbeit/DataAnalyst/scikit-learn/sklearn/ensemble/forest.py:247: FutureWarning: The default value of n_estimators will change from 10 in version 0.20 to 100 in 0.22.\n",
      "  \"10 in version 0.20 to 100 in 0.22.\", FutureWarning)\n",
      "/home/joerg/unisoned/arbeit/DataAnalyst/scikit-learn/sklearn/ensemble/forest.py:247: FutureWarning: The default value of n_estimators will change from 10 in version 0.20 to 100 in 0.22.\n",
      "  \"10 in version 0.20 to 100 in 0.22.\", FutureWarning)\n",
      "/home/joerg/unisoned/arbeit/DataAnalyst/scikit-learn/sklearn/ensemble/forest.py:247: FutureWarning: The default value of n_estimators will change from 10 in version 0.20 to 100 in 0.22.\n",
      "  \"10 in version 0.20 to 100 in 0.22.\", FutureWarning)\n",
      "/home/joerg/unisoned/arbeit/DataAnalyst/scikit-learn/sklearn/ensemble/forest.py:247: FutureWarning: The default value of n_estimators will change from 10 in version 0.20 to 100 in 0.22.\n",
      "  \"10 in version 0.20 to 100 in 0.22.\", FutureWarning)\n",
      "/home/joerg/unisoned/arbeit/DataAnalyst/scikit-learn/sklearn/ensemble/forest.py:247: FutureWarning: The default value of n_estimators will change from 10 in version 0.20 to 100 in 0.22.\n",
      "  \"10 in version 0.20 to 100 in 0.22.\", FutureWarning)\n"
     ]
    },
    {
     "name": "stdout",
     "output_type": "stream",
     "text": [
      "Pipeline(memory=None,\n",
      "     steps=[('feature_selection', SelectFromModel(estimator=RandomForestClassifier(bootstrap=True, class_weight=None, criterion='gini',\n",
      "            max_depth=None, max_features='auto', max_leaf_nodes=None,\n",
      "            min_impurity_decrease=0.0, min_impurity_split=None,\n",
      "            min_samples_leaf=1, min...obs=None,\n",
      "            oob_score=False, random_state=None, verbose=0,\n",
      "            warm_start=False))])\n",
      "\tAccuracy: 0.87000\tPrecision: 0.53086\tRecall: 0.21500\tF1: 0.30605\tF2: 0.24404\n",
      "\tTotal predictions: 1500\tTrue positives:   43\tFalse positives:   38\tFalse negatives:  157\tTrue negatives: 1262\n",
      "\n",
      "CPU times: user 9.57 s, sys: 7.15 ms, total: 9.58 s\n",
      "Wall time: 9.56 s\n"
     ]
    }
   ],
   "source": [
    "%%time\n",
    "clf2 = RandomForestClassifier(criterion=grid_search.best_params_['randomforest__criterion'],\n",
    "                              max_depth=grid_search.best_params_['randomforest__max_depth'],\n",
    "                              max_features=grid_search.best_params_['randomforest__max_features'],\n",
    "                              n_estimators=grid_search.best_params_['randomforest__n_estimators'])\n",
    "#clf2 = KNeighborsClassifier(n_neighbors=7)\n",
    "#clf3 = SVC(gamma=.1, kernel='rbf', probability=True)\n",
    "#eclf = VotingClassifier(estimators=[('dt', clf1), ('knn', clf2),\n",
    "#                                    ('svc', clf3)],\n",
    "#                        voting='soft', weights=[2, 1, 2])\n",
    "\n",
    "test_classifier(grid_search.best_estimator_, data_d, ['poi']+list(f[~f.isin(['poi', 'email_address'])]), folds=100)"
   ]
  },
  {
   "cell_type": "code",
   "execution_count": 28,
   "metadata": {},
   "outputs": [
    {
     "data": {
      "image/png": "[encoded data removed]",
      "text/plain": [
       "<Figure size 864x648 with 1 Axes>"
      ]
     },
     "metadata": {},
     "output_type": "display_data"
    }
   ],
   "source": [
    "def plot_importance(df):\n",
    "    y = df['poi']\n",
    "    X = df.drop(['poi'], axis=1)\n",
    "\n",
    "    #selector = SelectPercentile(percentile=100)\n",
    "    selector = SelectKBest(k=2)\n",
    "    a = selector.fit(X, y)\n",
    "    plt.figure(figsize=(12,9))\n",
    "    sns.barplot(y=X.columns, x=a.scores_)\n",
    "plot_importance(df[features_list])"
   ]
  },
  {
   "cell_type": "code",
   "execution_count": 39,
   "metadata": {},
   "outputs": [
    {
     "data": {
      "text/plain": [
       "['fraction_deferred_income', 'fraction_restricted_stock_deferred']"
      ]
     },
     "execution_count": 39,
     "metadata": {},
     "output_type": "execute_result"
    }
   ],
   "source": [
    "features_fractions_lost"
   ]
  },
  {
   "cell_type": "code",
   "execution_count": 66,
   "metadata": {},
   "outputs": [
    {
     "data": {
      "text/plain": [
       "array([1.])"
      ]
     },
     "execution_count": 66,
     "metadata": {},
     "output_type": "execute_result"
    }
   ],
   "source": [
    "clf.predict([[-0.1, 0.0]])"
   ]
  },
  {
   "cell_type": "code",
   "execution_count": null,
   "metadata": {},
   "outputs": [],
   "source": [
    "from sklearn.model_selection import GridSearchCV\n",
    "from sklearn.linear_model import LogisticRegression\n",
    "from sklearn.pipeline import Pipeline\n",
    "clf = Pipeline([\n",
    "    (\"kpca\", KernelPCA(n_components=2)),\n",
    "    (\"log_reg\", LogisticRegression())\n",
    "])\n",
    "param_grid = [{\n",
    "    \"kpca__gamma\": np.linspace(0.03, 0.05, 10),\n",
    "    \"kpca__kernel\": [\"rbf\", \"sigmoid\"]\n",
    "}]\n",
    "grid_search = GridSearchCV(clf, param_grid, cv=3)\n",
    "grid_search.fit(X, y)\n",
    "# The best kernel and hyperparameters are then available through the best_params_ variable:\n",
    "print(grid_search.best_params_)\n",
    "# {'kpca__gamma': 0.043333333333333335, 'kpca__kernel': 'rbf'}"
   ]
  },
  {
   "cell_type": "code",
   "execution_count": 37,
   "metadata": {},
   "outputs": [
    {
     "data": {
      "text/plain": [
       "array([0., 0., 0., 0., 0., 0., 0., 1., 0., 0., 0., 0., 0., 0., 0., 1., 0.,\n",
       "       0., 0., 0., 1., 0., 1., 0., 0., 0., 1., 0., 0., 0., 0., 1., 0., 0.,\n",
       "       0., 0., 0., 0., 0., 0., 0., 0., 0., 1., 0., 0., 0., 1., 0., 0., 0.,\n",
       "       0., 0., 0., 1., 0., 0., 0., 0., 1., 0., 0., 0., 0., 0., 1., 0., 0.,\n",
       "       0., 0., 0., 0., 0., 0., 0., 0., 1., 1., 0., 1., 0., 0., 0., 0., 0.,\n",
       "       0., 0., 0., 0., 0., 0., 0., 0., 0., 0., 0., 0., 0., 0., 0., 0., 0.,\n",
       "       0., 0., 0., 0., 0., 0., 0., 0., 0., 0., 1., 1., 0., 0., 0., 0., 0.,\n",
       "       1., 0., 0., 1., 0., 0., 0., 0., 0., 0., 0., 0., 0., 0., 0., 0., 0.,\n",
       "       0., 0., 0., 0., 0., 0., 1., 0.])"
      ]
     },
     "execution_count": 37,
     "metadata": {},
     "output_type": "execute_result"
    }
   ],
   "source": [
    "df['poi'].values"
   ]
  },
  {
   "cell_type": "code",
   "execution_count": 67,
   "metadata": {},
   "outputs": [
    {
     "name": "stderr",
     "output_type": "stream",
     "text": [
      "DeprecationWarning: Class DecisionBoundariesVisualizer is deprecated; Will be moved to yellowbrick.contrib in v0.8 [deprecation.py:58]\n"
     ]
    },
    {
     "data": {
      "image/png": "[encoded data removed]",
      "text/plain": [
       "<Figure size 576x396 with 1 Axes>"
      ]
     },
     "metadata": {},
     "output_type": "display_data"
    }
   ],
   "source": [
    "#from class_vis import prettyPicture\n",
    "#prettyPicture(clf, features_test, labels_test)\n",
    "\n",
    "#from sklearn.neighbors import KNeighborsClassifier\n",
    "from yellowbrick.contrib.classifier import DecisionViz\n",
    "\n",
    "viz = DecisionViz(clf, title=\"Simple Decision Tree\", features=features_fractions_lost, classes=['0.0', '1.0'])\n",
    "\n",
    "viz.fit(df[features_fractions_lost].values, df['poi'].values)\n",
    "viz.draw(df[features_fractions_lost].values, df['poi'].values)\n",
    "# viz.draw(X_test, y_test)\n",
    "# viz.poof(outpath=\"images/knn_decisionviz.png\")"
   ]
  },
  {
   "cell_type": "code",
   "execution_count": 68,
   "metadata": {},
   "outputs": [
    {
     "ename": "ModuleNotFoundError",
     "evalue": "No module named 'scikitplot'",
     "output_type": "error",
     "traceback": [
      "\u001b[0;31m---------------------------------------------------------------------------\u001b[0m",
      "\u001b[0;31mModuleNotFoundError\u001b[0m                       Traceback (most recent call last)",
      "\u001b[0;32m<ipython-input-68-1b8f6cd7465e>\u001b[0m in \u001b[0;36m<module>\u001b[0;34m()\u001b[0m\n\u001b[0;32m----> 1\u001b[0;31m \u001b[0;32mimport\u001b[0m \u001b[0mscikitplot\u001b[0m \u001b[0;32mas\u001b[0m \u001b[0mskplt\u001b[0m\u001b[0;34m\u001b[0m\u001b[0m\n\u001b[0m",
      "\u001b[0;31mModuleNotFoundError\u001b[0m: No module named 'scikitplot'"
     ]
    }
   ],
   "source": [
    "import scikitplot as skplt"
   ]
  },
  {
   "cell_type": "code",
   "execution_count": 27,
   "metadata": {},
   "outputs": [
    {
     "data": {
      "text/html": [
       "<table border=\"1\" class=\"dataframe\">\n",
       "  <thead>\n",
       "    <tr style=\"text-align: right;\">\n",
       "      <th></th>\n",
       "      <th>salary</th>\n",
       "      <th>to_messages</th>\n",
       "      <th>deferral_payments</th>\n",
       "      <th>total_payments</th>\n",
       "      <th>loan_advances</th>\n",
       "      <th>bonus</th>\n",
       "      <th>email_address</th>\n",
       "      <th>restricted_stock_deferred</th>\n",
       "      <th>deferred_income</th>\n",
       "      <th>total_stock_value</th>\n",
       "      <th>expenses</th>\n",
       "      <th>from_poi_to_this_person</th>\n",
       "      <th>exercised_stock_options</th>\n",
       "      <th>from_messages</th>\n",
       "      <th>other</th>\n",
       "      <th>from_this_person_to_poi</th>\n",
       "      <th>poi</th>\n",
       "      <th>long_term_incentive</th>\n",
       "      <th>shared_receipt_with_poi</th>\n",
       "      <th>restricted_stock</th>\n",
       "      <th>director_fees</th>\n",
       "      <th>fraction_from_poi_to_this_person</th>\n",
       "      <th>fraction_from_this_person_to_poi</th>\n",
       "    </tr>\n",
       "  </thead>\n",
       "  <tbody>\n",
       "    <tr>\n",
       "      <th>HUMPHREY GENE E</th>\n",
       "      <td>130724.0</td>\n",
       "      <td>128.0</td>\n",
       "      <td>2964506.0</td>\n",
       "      <td>3100224.0</td>\n",
       "      <td>NaN</td>\n",
       "      <td>NaN</td>\n",
       "      <td>gene.humphrey@enron.com</td>\n",
       "      <td>NaN</td>\n",
       "      <td>NaN</td>\n",
       "      <td>2282768.0</td>\n",
       "      <td>4994.0</td>\n",
       "      <td>10.0</td>\n",
       "      <td>2282768.0</td>\n",
       "      <td>17.0</td>\n",
       "      <td>NaN</td>\n",
       "      <td>17.0</td>\n",
       "      <td>0.0</td>\n",
       "      <td>NaN</td>\n",
       "      <td>119.0</td>\n",
       "      <td>NaN</td>\n",
       "      <td>NaN</td>\n",
       "      <td>0.078125</td>\n",
       "      <td>1.000000</td>\n",
       "    </tr>\n",
       "    <tr>\n",
       "      <th>SHERRICK JEFFREY B</th>\n",
       "      <td>NaN</td>\n",
       "      <td>613.0</td>\n",
       "      <td>NaN</td>\n",
       "      <td>NaN</td>\n",
       "      <td>NaN</td>\n",
       "      <td>NaN</td>\n",
       "      <td>jeffrey.sherrick@enron.com</td>\n",
       "      <td>NaN</td>\n",
       "      <td>NaN</td>\n",
       "      <td>1832468.0</td>\n",
       "      <td>NaN</td>\n",
       "      <td>39.0</td>\n",
       "      <td>1426469.0</td>\n",
       "      <td>25.0</td>\n",
       "      <td>NaN</td>\n",
       "      <td>18.0</td>\n",
       "      <td>0.0</td>\n",
       "      <td>NaN</td>\n",
       "      <td>583.0</td>\n",
       "      <td>405999.0</td>\n",
       "      <td>NaN</td>\n",
       "      <td>0.063622</td>\n",
       "      <td>0.720000</td>\n",
       "    </tr>\n",
       "    <tr>\n",
       "      <th>DONAHUE JR JEFFREY M</th>\n",
       "      <td>278601.0</td>\n",
       "      <td>865.0</td>\n",
       "      <td>NaN</td>\n",
       "      <td>875760.0</td>\n",
       "      <td>NaN</td>\n",
       "      <td>800000.0</td>\n",
       "      <td>jeff.donahue@enron.com</td>\n",
       "      <td>NaN</td>\n",
       "      <td>-300000.0</td>\n",
       "      <td>1080988.0</td>\n",
       "      <td>96268.0</td>\n",
       "      <td>188.0</td>\n",
       "      <td>765920.0</td>\n",
       "      <td>22.0</td>\n",
       "      <td>891.0</td>\n",
       "      <td>11.0</td>\n",
       "      <td>0.0</td>\n",
       "      <td>NaN</td>\n",
       "      <td>772.0</td>\n",
       "      <td>315068.0</td>\n",
       "      <td>NaN</td>\n",
       "      <td>0.217341</td>\n",
       "      <td>0.500000</td>\n",
       "    </tr>\n",
       "    <tr>\n",
       "      <th>HANNON KEVIN P</th>\n",
       "      <td>243293.0</td>\n",
       "      <td>1045.0</td>\n",
       "      <td>NaN</td>\n",
       "      <td>288682.0</td>\n",
       "      <td>NaN</td>\n",
       "      <td>1500000.0</td>\n",
       "      <td>kevin.hannon@enron.com</td>\n",
       "      <td>NaN</td>\n",
       "      <td>-3117011.0</td>\n",
       "      <td>6391065.0</td>\n",
       "      <td>34039.0</td>\n",
       "      <td>32.0</td>\n",
       "      <td>5538001.0</td>\n",
       "      <td>32.0</td>\n",
       "      <td>11350.0</td>\n",
       "      <td>21.0</td>\n",
       "      <td>1.0</td>\n",
       "      <td>1617011.0</td>\n",
       "      <td>1035.0</td>\n",
       "      <td>853064.0</td>\n",
       "      <td>NaN</td>\n",
       "      <td>0.030622</td>\n",
       "      <td>0.656250</td>\n",
       "    </tr>\n",
       "    <tr>\n",
       "      <th>GARLAND C KEVIN</th>\n",
       "      <td>231946.0</td>\n",
       "      <td>209.0</td>\n",
       "      <td>NaN</td>\n",
       "      <td>1566469.0</td>\n",
       "      <td>NaN</td>\n",
       "      <td>850000.0</td>\n",
       "      <td>kevin.garland@enron.com</td>\n",
       "      <td>NaN</td>\n",
       "      <td>NaN</td>\n",
       "      <td>896153.0</td>\n",
       "      <td>48405.0</td>\n",
       "      <td>10.0</td>\n",
       "      <td>636246.0</td>\n",
       "      <td>44.0</td>\n",
       "      <td>60814.0</td>\n",
       "      <td>27.0</td>\n",
       "      <td>0.0</td>\n",
       "      <td>375304.0</td>\n",
       "      <td>178.0</td>\n",
       "      <td>259907.0</td>\n",
       "      <td>NaN</td>\n",
       "      <td>0.047847</td>\n",
       "      <td>0.613636</td>\n",
       "    </tr>\n",
       "  </tbody>\n",
       "</table>"
      ],
      "text/plain": [
       "<IPython.core.display.HTML object>"
      ]
     },
     "execution_count": 27,
     "metadata": {},
     "output_type": "execute_result"
    }
   ],
   "source": [
    "poi_communicator = (df['fraction_from_poi_to_this_person'] + df['fraction_from_this_person_to_poi']).sort_values(ascending=False)\n",
    "poi_communicator.index\n",
    "HTML(df.loc[poi_communicator.index].head(5).to_html())\n",
    "#df_outliers = df[outliers]"
   ]
  },
  {
   "cell_type": "markdown",
   "metadata": {},
   "source": [
    "### Considerations about using the features `from_poi_to_this_person` and `from_this_person_to_poi`\n",
    "Because they contain derived information about the POI which in turn is the label. In case we want to identify a new POI, at least, this values must be update for all records."
   ]
  },
  {
   "cell_type": "code",
   "execution_count": 7,
   "metadata": {},
   "outputs": [
    {
     "name": "stdout",
     "output_type": "stream",
     "text": [
      "['poi', 'salary', 'bonus', 'exercised_stock_options', 'total_stock_value']\n"
     ]
    },
    {
     "data": {
      "image/png": "[encoded data removed]",
      "text/plain": [
       "<Figure size 864x864 with 2 Axes>"
      ]
     },
     "metadata": {},
     "output_type": "display_data"
    }
   ],
   "source": [
    "\n",
    "# fig, ax = plt.subplots()\n",
    "\n",
    "def demo_plot_2features(ax, df):\n",
    "    cols = df.columns[~df.columns.isin(['poi'])]\n",
    "    def plot_s(d, color=None, label=None):\n",
    "        X = d[cols[0]]\n",
    "        Y = d[cols[1]]\n",
    "        ax.plot(X,Y, 'o', marker='o', color=color)# color, label=label)\n",
    "    d_npoi = df[df['poi'] == False]\n",
    "    plot_s(d_npoi, color='blue', label='not POI')\n",
    "    \n",
    "    d_poi = df[df['poi'] == True]\n",
    "    plot_s(d_poi, color='red', label='is POI')\n",
    "    ax.set_xlabel(cols[0])\n",
    "    ax.set_ylabel(cols[1])\n",
    "\n",
    "#fig = plt.figure(figsize=(12,9))\n",
    "#(ax1, ax2, ax3) = fig.add_subplot(3, 1, 1)\n",
    "# fig, (ax1, ax2, ax3, ax4) = plt.subplots(4, figsize=(12,12))\n",
    "features2plot = ['poi'] + features_financial_basic + features_financial_stock\n",
    "print(features2plot)\n",
    "pnum = 2 #len(test_countries)\n",
    "fig, ax = plt.subplots(pnum, figsize=(12,12))\n",
    "\n",
    "for pos in range(pnum):\n",
    "    demo_plot_2features(ax[pos], df)\n",
    "    #ax[pos].plot([ testi[pos]['Median GDP per capita'], testi[pos]['GDP per capita'] ], [0,0], 'o')\n",
    "#ax[pnum-1].set_xlabel(\"Categories (bins) of income in $\")\n",
    "\n",
    "plt.show()"
   ]
  },
  {
   "cell_type": "code",
   "execution_count": 18,
   "metadata": {},
   "outputs": [
    {
     "name": "stdout",
     "output_type": "stream",
     "text": [
      "Number of records in the dataset: 146\n"
     ]
    }
   ],
   "source": [
    "print(\"Number of records in the dataset: {}\".format(len(df.index)))"
   ]
  },
  {
   "cell_type": "markdown",
   "metadata": {},
   "source": [
    "The dataset contains 146"
   ]
  },
  {
   "cell_type": "code",
   "execution_count": null,
   "metadata": {},
   "outputs": [],
   "source": []
  },
  {
   "cell_type": "markdown",
   "metadata": {},
   "source": [
    "> What features did you end up using in your POI identifier, and what selection process did you use to pick them? Did you have to do any scaling? Why or why not? As part of the assignment, you should attempt to engineer your own feature that does not come ready-made in the dataset -- explain what feature you tried to make, and the rationale behind it. (You do not necessarily have to use it in the final analysis, only engineer and test it.) In your feature selection step, if you used an algorithm like a decision tree, please also give the feature importances of the features that you use, and if you used an automated feature selection function like SelectKBest, please report the feature scores and reasons for your choice of parameter values.  [relevant rubric items: “create new features”, “intelligently select features”, “properly scale features”]\n",
    "\n",
    "> What algorithm did you end up using? What other one(s) did you try? How did model performance differ between algorithms?  [relevant rubric item: “pick an algorithm”]\n",
    "\n",
    ">  What does it mean to tune the parameters of an algorithm, and what can happen if you don’t do this well?  How did you tune the parameters of your particular algorithm? What parameters did you tune? (Some algorithms do not have parameters that you need to tune -- if this is the case for the one you picked, identify and briefly explain how you would have done it for the model that was not your final choice or a different model that does utilize parameter tuning, e.g. a decision tree classifier).  [relevant rubric items: “discuss parameter tuning”, “tune the algorithm”]\n",
    "\n",
    "> What is validation, and what’s a classic mistake you can make if you do it wrong? How did you validate your analysis?  [relevant rubric items: “discuss validation”, “validation strategy”]\n",
    "\n",
    "> Give at least 2 evaluation metrics and your average performance for each of them.  Explain an interpretation of your metrics that says something human-understandable about your algorithm’s performance. [relevant rubric item: “usage of evaluation metrics”]"
   ]
  },
  {
   "cell_type": "code",
   "execution_count": null,
   "metadata": {},
   "outputs": [],
   "source": []
  }
 ],
 "metadata": {
  "kernelspec": {
   "display_name": "Python 3",
   "language": "python",
   "name": "python3"
  },
  "language_info": {
   "codemirror_mode": {
    "name": "ipython",
    "version": 3
   },
   "file_extension": ".py",
   "mimetype": "text/x-python",
   "name": "python",
   "nbconvert_exporter": "python",
   "pygments_lexer": "ipython3",
   "version": "3.6.5"
  }
 },
 "nbformat": 4,
 "nbformat_minor": 2
}
