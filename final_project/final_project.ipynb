{
 "cells": [
  {
   "cell_type": "raw",
   "metadata": {},
   "source": [
    "<script>\n",
    "  function code_toggle() {\n",
    "    if (code_shown){\n",
    "      $('div.input').hide('500');\n",
    "      $('#toggleButton').val('Show Code')\n",
    "    } else {\n",
    "      $('div.input').show('500');\n",
    "      $('#toggleButton').val('Hide Code')\n",
    "    }\n",
    "    code_shown = !code_shown\n",
    "  }\n",
    "\n",
    "  $( document ).ready(function(){\n",
    "    code_shown=false;\n",
    "    $('div.input').hide()\n",
    "  });\n",
    "</script>\n",
    "<form action=\"javascript:code_toggle()\"><input type=\"submit\" id=\"toggleButton\" value=\"Show Code\"></form>"
   ]
  },
  {
   "cell_type": "code",
   "execution_count": 1,
   "metadata": {},
   "outputs": [
    {
     "name": "stdout",
     "output_type": "stream",
     "text": [
      "env: SKLEARN_SITE_JOBLIB=1\n"
     ]
    }
   ],
   "source": [
    "%env SKLEARN_SITE_JOBLIB=1\n",
    "# https://github.com/scikit-learn/scikit-learn/issues/10533\n",
    "# https://github.com/scikit-learn/scikit-learn/issues/12250\n",
    "# %env LOKY_PICKLER='cloudpickle' \n",
    "# import multiprocessing\n",
    "# multiprocessing.set_start_method('forkserver')\n",
    "# import cloudpickle"
   ]
  },
  {
   "cell_type": "code",
   "execution_count": 2,
   "metadata": {},
   "outputs": [],
   "source": [
    "import numpy as np\n",
    "import pandas as pd\n",
    "from IPython.display import HTML, display\n",
    "import matplotlib.pyplot as plt\n",
    "import seaborn as sns\n",
    "%matplotlib inline\n",
    "\n",
    "new_filename = \"final_project_dataset_PROVEN.pkl\"\n",
    "exec(open(\"poi_id.py\").read())"
   ]
  },
  {
   "cell_type": "markdown",
   "metadata": {},
   "source": [
    "# Udacity Final Project: Identify Fraud from Enron Email\n",
    "From [Wikipedia:](https://en.wikipedia.org/wiki/Enron)\n",
    "> Enron Corporation was an American energy, commodities, and services company based in Houston, Texas. It was founded in 1985 as a merger between Houston Natural Gas and InterNorth, both relatively small regional companies. Before its bankruptcy on December 3, 2001, Enron employed approximately 29,000 staff and was a major electricity, natural gas, communications and pulp and paper company, with claimed revenues of nearly $101 billion during 2000.[1] Fortune named Enron \"America's Most Innovative Company\" for six consecutive years.\n",
    "\n",
    "> At the end of 2001, it was revealed that Enron's reported financial condition was sustained by institutionalized, systematic, and creatively planned accounting fraud, known since as the Enron scandal. Enron has since become a well-known example of willful corporate fraud and corruption. The scandal also brought into question the accounting practices and activities of many corporations in the United States and was a factor in the enactment of the Sarbanes–Oxley Act of 2002. The scandal also affected the greater business world by causing the dissolution of the Arthur Andersen accounting firm, which had been Enron's main auditor for years.\n",
    "\n",
    "The goal of this project is to create a model that is capable to classifiy if a person is likely a POI or not from data. The data to use is:\n",
    "- A document of insider payments, such as salary and bonus\n",
    "- Aggregated E-mail metadata, such as the number of E-Mails that were send to and recieved from a POI\n",
    "\n",
    "From human observation and experience, there are probably some patterns and correlations in the data, that makes a person suspicious to be a POI, e.g.:\n",
    "- high income\n",
    "- high bonus (probably in relation to the regular salary)\n",
    "- secured personal company stocks before the company went into bancrupcy because of insider knowledge\n",
    "- high rate of E-Mail exchange with other POI's\n",
    "\n",
    "In case such patterns exist, an appropriate machine learning algorithm would be able to learn them and perform predictions of wheather a person is likely a POI or not. One might argue, that e.g. the police or intelligence agencies could be interested in such methods to set priorities for investigations/tracings."
   ]
  },
  {
   "cell_type": "markdown",
   "metadata": {},
   "source": [
    "## Runing this Notebook, `poi_id.py` and `tester.py`\n",
    "Scikit-learn support for Python 2.7 was discontinued since version 0.20, I decided do this project with state of the art technology and use the more recent standard version 3.6.5. A few changes to `poi_id.py` and `tester.py` were required for their usage in a Python 3 environment.\n",
    "\n",
    "The most relevant packages were used in these versions:"
   ]
  },
  {
   "cell_type": "code",
   "execution_count": 427,
   "metadata": {},
   "outputs": [
    {
     "name": "stdout",
     "output_type": "stream",
     "text": [
      "Python version: 3.6.5 \n",
      "scikit-learn:   0.21.dev0\n",
      "joblib:         0.13.0\n",
      "pandas:         0.23.4\n",
      "numpy:          1.15.4\n"
     ]
    }
   ],
   "source": [
    "import sklearn\n",
    "import joblib\n",
    "print(\"Python version: {0}\".format(sys.version.split(\"(\")[0] ))\n",
    "print(\"scikit-learn:   {0}\".format(sklearn.__version__))\n",
    "print(\"joblib:         {0}\".format(joblib.__version__))\n",
    "print(\"pandas:         {0}\".format(pd.__version__))\n",
    "print(\"numpy:          {0}\".format(np.__version__))"
   ]
  },
  {
   "cell_type": "markdown",
   "metadata": {},
   "source": [
    "## Overview of the Dataset and Removal of Outliers\n",
    "The job of every good Data Analysts starts by understanding the task and the provided datasets."
   ]
  },
  {
   "cell_type": "code",
   "execution_count": 3,
   "metadata": {},
   "outputs": [
    {
     "name": "stdout",
     "output_type": "stream",
     "text": [
      "Number of records: 146\n"
     ]
    }
   ],
   "source": [
    "print(\"Number of records: {}\".format(len(data_dict_raw)))"
   ]
  },
  {
   "cell_type": "code",
   "execution_count": 3,
   "metadata": {},
   "outputs": [
    {
     "name": "stdout",
     "output_type": "stream",
     "text": [
      "Number of parameters: 21\n"
     ]
    }
   ],
   "source": [
    "print(\"Number of parameters: {}\".format(len(df.columns)))"
   ]
  },
  {
   "cell_type": "markdown",
   "metadata": {},
   "source": [
    "### List of parameters:"
   ]
  },
  {
   "cell_type": "code",
   "execution_count": 4,
   "metadata": {},
   "outputs": [
    {
     "data": {
      "text/plain": [
       "Index(['salary', 'to_messages', 'deferral_payments', 'total_payments',\n",
       "       'loan_advances', 'bonus', 'email_address', 'restricted_stock_deferred',\n",
       "       'deferred_income', 'total_stock_value', 'expenses',\n",
       "       'from_poi_to_this_person', 'exercised_stock_options', 'from_messages',\n",
       "       'other', 'from_this_person_to_poi', 'poi', 'long_term_incentive',\n",
       "       'shared_receipt_with_poi', 'restricted_stock', 'director_fees'],\n",
       "      dtype='object')"
      ]
     },
     "execution_count": 4,
     "metadata": {},
     "output_type": "execute_result"
    }
   ],
   "source": [
    "df.columns"
   ]
  },
  {
   "cell_type": "markdown",
   "metadata": {},
   "source": [
    "The label `POI` indicates, if a person has been identified as a ***Person Of Interest***. The parameters/features provide financial data (e.g. salary, stock value, etc.) and E-mail communication metadata."
   ]
  },
  {
   "cell_type": "markdown",
   "metadata": {},
   "source": [
    "## Financial Data\n",
    "The document `enron61702insiderpay.pdf` contains all the data and documentation.\n",
    "\n",
    "![Enron Insider Pay](enron61702insiderpay_snap.png)\n",
    "\n",
    "### Payments\n",
    "1. `salary` Reflects items such as base salary, executive cash allowances, and benefits payments.\n",
    "2. `bonus`Reflects annual cash incentives paid based upon company performance. Also may include other retention payments.\n",
    "3. `long_term_incentive` Reflects long-term incentive cash payments from various long-term incentive programs designed to tie executive compensation to long-term success as measured against key performance drivers and business objectives over a multi-year period, generally 3 to 5 years.\n",
    "4. `deferred_income` Reflects voluntary executive deferrals of salary, annual cash incentives, and long-term cash incentives as well as cash fees deferred by non-employee directors under a deferred compensation arrangement. May also reflect deferrals under a stock option or phantom stock unit in lieu of cash arrangement.\n",
    "5. `deferral payments` Reflects distributions from a deferred compensation arrangement due to termination of employment or due to in-service withdrawals as per plan provisions.\n",
    "6. `loan_advances` Reflects total amount of loan advances, excluding repayments, provided by the Debtor in return for a promise of repayment. In certain instances, the terms of the promissory notes allow for the option to repay with stock of the company.\n",
    "7. `other` Reflects items such as payments for severence, consulting services, relocation costs, tax advances and allowances for employees on international assignment (i.e. housing allowances, cost of living allowances, payments under Enron’s Tax Equalization Program, etc.). May also include payments provided with respect to employment agreements, as well as imputed income amounts for such things as use of corporate aircraft.\n",
    "8. `expenses` Reflects reimbursements of business expenses. May include fees paid for consulting services.\n",
    "9. `director_fees` Reflects cash payments and/or value of stock grants made in lieu of cash payments to non-employee directors.\n",
    "\n",
    "### Stock Value\n",
    "10. `exercised_stock_options` Reflects amounts from exercised stock options which equal the market value in excess of the exercise price on the date the options were exercised either through cashless (same-day sale), stock swap or cash exercises. The reflected gain may differ from that realized by the insider due to fluctuations in the market price and the timing of any subsequent sale of the securities.\n",
    "11. `restricted_stock` Reflects the gross fair market value of shares and accrued dividends (and/or phantom units and dividend equivalents) on the date of release due to lapse of vesting\n",
    "periods, regardless of whether deferred.\n",
    "12. `restricted_stock_deferred` Reflects value of restricted stock voluntarily deferred prior to release under a deferred compensation arrangement.\n",
    "\n",
    "\n",
    "## E-mail data\n",
    "Some metadata about the E-mail communication of these persons is provided too:"
   ]
  },
  {
   "cell_type": "code",
   "execution_count": 5,
   "metadata": {},
   "outputs": [
    {
     "name": "stdout",
     "output_type": "stream",
     "text": [
      "['from_messages', 'from_this_person_to_poi', 'to_messages', 'from_poi_to_this_person', 'shared_receipt_with_poi']\n"
     ]
    }
   ],
   "source": [
    "print(features_email_stats)"
   ]
  },
  {
   "cell_type": "markdown",
   "metadata": {},
   "source": [
    "## Quality Check of the Provided Dataset\n",
    "Regarding the financial data, the parameters `total_payments` and `total_stock_value` may serve as a kind of checksum, i.e. to ensure the integrity of the dataset.\n",
    "\n",
    "Unfortunately, there are at least"
   ]
  },
  {
   "cell_type": "code",
   "execution_count": 6,
   "metadata": {},
   "outputs": [
    {
     "name": "stdout",
     "output_type": "stream",
     "text": [
      "2\n"
     ]
    }
   ],
   "source": [
    "def checksum_df(df, cols, expected_sum):\n",
    "    \"\"\"Returns all rows that do not match expected_sum\"\"\"\n",
    "    df[expected_sum[0]] = df[expected_sum[0]].fillna(0.0)\n",
    "    df_wrong_checksum = df[df[cols].sum(axis=1)!=df[expected_sum[0]]]\n",
    "    df_wrong_checksum = df_wrong_checksum[cols+expected_sum]\n",
    "    df_wrong_checksum = df_wrong_checksum[df_wrong_checksum.any(axis=1)]\n",
    "    return df_wrong_checksum\n",
    "\n",
    "df_salary_wrong_checksum = checksum_df(df, features_financial_salary, features_financial_salary_total)\n",
    "print(len(df_salary_wrong_checksum))"
   ]
  },
  {
   "cell_type": "markdown",
   "metadata": {},
   "source": [
    "rows, where `total_payments` does not sum up to the expected value.\n",
    "\n",
    "These are the rows:"
   ]
  },
  {
   "cell_type": "code",
   "execution_count": 7,
   "metadata": {},
   "outputs": [
    {
     "data": {
      "text/html": [
       "<table border=\"1\" class=\"dataframe\">\n",
       "  <thead>\n",
       "    <tr style=\"text-align: right;\">\n",
       "      <th></th>\n",
       "      <th>salary</th>\n",
       "      <th>bonus</th>\n",
       "      <th>long_term_incentive</th>\n",
       "      <th>deferred_income</th>\n",
       "      <th>deferral_payments</th>\n",
       "      <th>loan_advances</th>\n",
       "      <th>other</th>\n",
       "      <th>expenses</th>\n",
       "      <th>director_fees</th>\n",
       "      <th>total_payments</th>\n",
       "    </tr>\n",
       "  </thead>\n",
       "  <tbody>\n",
       "    <tr>\n",
       "      <th>BELFER ROBERT</th>\n",
       "      <td>NaN</td>\n",
       "      <td>NaN</td>\n",
       "      <td>NaN</td>\n",
       "      <td>NaN</td>\n",
       "      <td>-102500.0</td>\n",
       "      <td>NaN</td>\n",
       "      <td>NaN</td>\n",
       "      <td>NaN</td>\n",
       "      <td>3285.0</td>\n",
       "      <td>102500.0</td>\n",
       "    </tr>\n",
       "    <tr>\n",
       "      <th>BHATNAGAR SANJAY</th>\n",
       "      <td>NaN</td>\n",
       "      <td>NaN</td>\n",
       "      <td>NaN</td>\n",
       "      <td>NaN</td>\n",
       "      <td>NaN</td>\n",
       "      <td>NaN</td>\n",
       "      <td>137864.0</td>\n",
       "      <td>NaN</td>\n",
       "      <td>137864.0</td>\n",
       "      <td>15456290.0</td>\n",
       "    </tr>\n",
       "  </tbody>\n",
       "</table>"
      ],
      "text/plain": [
       "<IPython.core.display.HTML object>"
      ]
     },
     "execution_count": 7,
     "metadata": {},
     "output_type": "execute_result"
    }
   ],
   "source": [
    "HTML(df_salary_wrong_checksum.to_html())"
   ]
  },
  {
   "cell_type": "markdown",
   "metadata": {},
   "source": [
    "The same problem is present for the `total_stock_value`, for this number of rows:"
   ]
  },
  {
   "cell_type": "code",
   "execution_count": 8,
   "metadata": {},
   "outputs": [
    {
     "name": "stdout",
     "output_type": "stream",
     "text": [
      "2\n"
     ]
    }
   ],
   "source": [
    "df_stock_wrong_checksum = checksum_df(df, features_financial_stock, features_financial_stock_total)\n",
    "print(len(df_stock_wrong_checksum))"
   ]
  },
  {
   "cell_type": "markdown",
   "metadata": {},
   "source": [
    "This table is showing the corrupt rows:"
   ]
  },
  {
   "cell_type": "code",
   "execution_count": 9,
   "metadata": {
    "scrolled": true
   },
   "outputs": [
    {
     "data": {
      "text/html": [
       "<table border=\"1\" class=\"dataframe\">\n",
       "  <thead>\n",
       "    <tr style=\"text-align: right;\">\n",
       "      <th></th>\n",
       "      <th>exercised_stock_options</th>\n",
       "      <th>restricted_stock</th>\n",
       "      <th>restricted_stock_deferred</th>\n",
       "      <th>total_stock_value</th>\n",
       "    </tr>\n",
       "  </thead>\n",
       "  <tbody>\n",
       "    <tr>\n",
       "      <th>BELFER ROBERT</th>\n",
       "      <td>3285.0</td>\n",
       "      <td>NaN</td>\n",
       "      <td>44093.0</td>\n",
       "      <td>-44093.0</td>\n",
       "    </tr>\n",
       "    <tr>\n",
       "      <th>BHATNAGAR SANJAY</th>\n",
       "      <td>2604490.0</td>\n",
       "      <td>-2604490.0</td>\n",
       "      <td>15456290.0</td>\n",
       "      <td>0.0</td>\n",
       "    </tr>\n",
       "  </tbody>\n",
       "</table>"
      ],
      "text/plain": [
       "<IPython.core.display.HTML object>"
      ]
     },
     "execution_count": 9,
     "metadata": {},
     "output_type": "execute_result"
    }
   ],
   "source": [
    "HTML(df_stock_wrong_checksum.head(5).to_html())"
   ]
  },
  {
   "cell_type": "markdown",
   "metadata": {},
   "source": [
    "Obviously, the quality of the provided data cannot be trusted. There may be two reasons for this:\n",
    "1. The original data is already corrupt.\n",
    "- The provided derived dataset `final_project_dataset.pkl` is corrupt due to human mistake.\n",
    "\n",
    "In case of human mistake, it is possible to check the values in `enron61702insiderpay.pdf`.\n",
    "Apparently, the original document has different values for the suspicious records. So there is at least a few obvious human errors.\n",
    "\n",
    "However, there might be many more errors, although the checksum is correct.\n",
    "\n",
    "## Correction of the provided input dataset\n",
    "In order to correct human error in the process, it is neccessary to compare the dataset row by row.\n",
    "\n",
    "### Parsing the full table from `enron61702insiderpay.pdf`\n",
    "is required, since this is the original document."
   ]
  },
  {
   "cell_type": "code",
   "execution_count": 10,
   "metadata": {},
   "outputs": [],
   "source": [
    "import re\n",
    "import numpy as np\n",
    "\n",
    "street_type_re = re.compile(r'\\b\\S+\\.?$', re.IGNORECASE)\n",
    "has_numbers_re = re.compile(r'[0-9]+')\n",
    "\n",
    "# INSIDERNAME_re = re.compile(r'(^[A-Z .]+, [A-Z]+ [A-Z])|(^[A-Z]+, [A-Z]+)')\n",
    "INSIDERNAME_re = re.compile(r'(^[A-Z .]+, [A-Z]+ [A-Z .]+)|(^[A-Z-]+, [A-Z]+)')\n",
    "FOOTNOTE_re = re.compile(r'^\\([a-z]\\)')\n",
    "NUMBER_re = re.compile(r'(^\\(\\$([0-9,_]+)\\))|(^\\(([0-9,_]+)\\))|(^\\$[0-9,]+)|(^[0-9,]+)')\n",
    "# SPACES_re = re.compile(r'[^\\S\\n\\t]+') # https://stackoverflow.com/questions/38162444/python-regex-match-space-only\n",
    "SPACES_re = re.compile(r'^\\ ') # https://stackoverflow.com/questions/38162444/python-regex-match-space-only\n",
    "\n",
    "tablestr = \"ALLEN, PHILLIP K   $1233,43423  ($999,9) $324,001BADUM JR., JAMES P  25,234,000 (d) (21,123) 435,325,455BERBERIAN, DAVID 235,111\"\n",
    "\n",
    "def check_re(robj, s):\n",
    "    m = robj.search(s)\n",
    "    if m:\n",
    "        name = m.group()\n",
    "        return name\n",
    "    else:\n",
    "        return None\n",
    "\n",
    "def parse_row(s):\n",
    "    rowelements = []\n",
    "    row_incomplete = True\n",
    "    space = 0\n",
    "    while row_incomplete:\n",
    "        footnote = check_re(FOOTNOTE_re, s)\n",
    "        number = check_re(NUMBER_re, s)        \n",
    "        if not s:\n",
    "            break\n",
    "        if s[0] == ' ':\n",
    "            s = s.split(' ', 1)[1]\n",
    "            space += 1\n",
    "        elif footnote:\n",
    "            s = s.split(footnote, 1)[1]\n",
    "        elif number:\n",
    "            s = s.split(number, 1)[1]\n",
    "            number = float(int(number.replace(\"$\",\"\").replace(\",\",\"\").replace(\"(\",\"\").replace(\")\",\"\")))\n",
    "            rowelements.append(number)\n",
    "            #print(space)\n",
    "            space = 0\n",
    "        elif s[0] == '-':\n",
    "            s = s.split('-', 1)[1]\n",
    "            rowelements.append(np.nan)\n",
    "            #print(space)\n",
    "            space = 0            \n",
    "        else:\n",
    "            row_incomplete = False\n",
    "    new_s = s\n",
    "    return new_s, rowelements\n",
    "\n",
    "def parse_table(tablestr):\n",
    "    d = {}\n",
    "    table_incomplete = True\n",
    "    while table_incomplete:\n",
    "        n = check_re(INSIDERNAME_re, tablestr)\n",
    "        if n:\n",
    "            #print(\"name found: {}\".format(n))\n",
    "            tablestr = tablestr.split(n, 1)[1]\n",
    "            tablestr, row = parse_row(tablestr)\n",
    "            if row:\n",
    "                n = n.replace(\",\",\"\").replace(\".\",\"\")\n",
    "                d.update({n:row})\n",
    "            else:\n",
    "                table_incomplete = False\n",
    "            #print(tablestr)\n",
    "        else:\n",
    "            table_incomplete = False\n",
    "    return d\n",
    "\n",
    "# For testing the functions\n",
    "#dd = parse_table(tablestr)\n",
    "#print(tablestr)\n",
    "#print(dd)\n"
   ]
  },
  {
   "cell_type": "code",
   "execution_count": 11,
   "metadata": {},
   "outputs": [
    {
     "name": "stdout",
     "output_type": "stream",
     "text": [
      "Parsing page #0...\n",
      "Parsing page #1...\n",
      "Parsing page #2...\n",
      "Parsing page #3...\n"
     ]
    }
   ],
   "source": [
    "# https://automatetheboringstuff.com/chapter13/\n",
    "import PyPDF2\n",
    "\n",
    "pdfReader = PyPDF2.PdfFileReader(open('enron61702insiderpay.pdf', 'rb'))\n",
    "pages = [0,1,2,3]\n",
    "data_dict = {}\n",
    "for page in pages:\n",
    "    print(\"Parsing page #{}...\".format(page))\n",
    "    pageObj = pdfReader.getPage(page)\n",
    "    text = pageObj.extractText()\n",
    "    table = text.split(\"Total Stock Value\",1)[1]\n",
    "    dd = parse_table(table)\n",
    "    data_dict.update(dd)"
   ]
  },
  {
   "cell_type": "code",
   "execution_count": 12,
   "metadata": {},
   "outputs": [],
   "source": [
    "cols = features_financial_salary + features_financial_salary_total + features_financial_stock + features_financial_stock_total\n",
    "df_pdf = pd.DataFrame.from_dict(data_dict, columns=cols, orient='index')\n",
    "# Deferral items are negative...\n",
    "df_pdf['deferred_income'] = -df_pdf['deferred_income']\n",
    "df_pdf['restricted_stock_deferred'] = -df_pdf['restricted_stock_deferred']\n",
    "#df_pdf['deferral_payments'] = -df_pdf['deferral_payments']"
   ]
  },
  {
   "cell_type": "code",
   "execution_count": 13,
   "metadata": {},
   "outputs": [
    {
     "name": "stdout",
     "output_type": "stream",
     "text": [
      "2\n"
     ]
    }
   ],
   "source": [
    "df_salary_wrong_checksum_pdf = checksum_df(df_pdf, features_financial_salary, features_financial_salary_total)\n",
    "print(len(df_salary_wrong_checksum_pdf))"
   ]
  },
  {
   "cell_type": "code",
   "execution_count": 14,
   "metadata": {
    "scrolled": false
   },
   "outputs": [
    {
     "data": {
      "text/html": [
       "<table border=\"1\" class=\"dataframe\">\n",
       "  <thead>\n",
       "    <tr style=\"text-align: right;\">\n",
       "      <th></th>\n",
       "      <th>salary</th>\n",
       "      <th>bonus</th>\n",
       "      <th>long_term_incentive</th>\n",
       "      <th>deferred_income</th>\n",
       "      <th>deferral_payments</th>\n",
       "      <th>loan_advances</th>\n",
       "      <th>other</th>\n",
       "      <th>expenses</th>\n",
       "      <th>director_fees</th>\n",
       "      <th>total_payments</th>\n",
       "    </tr>\n",
       "  </thead>\n",
       "  <tbody>\n",
       "    <tr>\n",
       "      <th>BHATNAGAR SANJAY</th>\n",
       "      <td>NaN</td>\n",
       "      <td>NaN</td>\n",
       "      <td>NaN</td>\n",
       "      <td>NaN</td>\n",
       "      <td>NaN</td>\n",
       "      <td>NaN</td>\n",
       "      <td>137864.0</td>\n",
       "      <td>NaN</td>\n",
       "      <td>137864.0</td>\n",
       "      <td>15456290.0</td>\n",
       "    </tr>\n",
       "    <tr>\n",
       "      <th>YEAP SOON</th>\n",
       "      <td>NaN</td>\n",
       "      <td>55097.0</td>\n",
       "      <td>NaN</td>\n",
       "      <td>-55097.0</td>\n",
       "      <td>192758.0</td>\n",
       "      <td>NaN</td>\n",
       "      <td>NaN</td>\n",
       "      <td>192758.0</td>\n",
       "      <td>NaN</td>\n",
       "      <td>0.0</td>\n",
       "    </tr>\n",
       "  </tbody>\n",
       "</table>"
      ],
      "text/plain": [
       "<IPython.core.display.HTML object>"
      ]
     },
     "execution_count": 14,
     "metadata": {},
     "output_type": "execute_result"
    }
   ],
   "source": [
    "HTML(df_salary_wrong_checksum_pdf.to_html())\n"
   ]
  },
  {
   "cell_type": "code",
   "execution_count": 15,
   "metadata": {
    "scrolled": true
   },
   "outputs": [
    {
     "name": "stdout",
     "output_type": "stream",
     "text": [
      ",salary,bonus,long_term_incentive,deferred_income,deferral_payments,loan_advances,other,expenses,director_fees,total_payments\n",
      "BHATNAGAR SANJAY,,,,,,,137864.0,,137864.0,15456290.0\n",
      "YEAP SOON,,55097.0,,-55097.0,192758.0,,,192758.0,,0.0\n",
      "\n"
     ]
    }
   ],
   "source": [
    "print(df_salary_wrong_checksum_pdf.to_csv())"
   ]
  },
  {
   "cell_type": "markdown",
   "metadata": {},
   "source": [
    "The few suspicious rows are due to missing delimiters in the original document.\n",
    "\n",
    "The values are corrected \"by hand\". The number of incorrect checksum is now for `features_financial_salary_total`:"
   ]
  },
  {
   "cell_type": "code",
   "execution_count": 16,
   "metadata": {},
   "outputs": [],
   "source": [
    "ff = features_financial_salary+features_financial_salary_total + features_financial_stock + features_financial_stock_total"
   ]
  },
  {
   "cell_type": "code",
   "execution_count": 17,
   "metadata": {},
   "outputs": [],
   "source": [
    "bs=[np.nan,np.nan,np.nan,np.nan,np.nan,np.nan,np.nan,137864.0, np.nan,137864.0, 15456290.0, 2604490.0, -2604490.0, 15456290.0]\n",
    "ys = [np.nan, np.nan, np.nan, np.nan, np.nan, np.nan, np.nan, 55097.0, np.nan, 55097.0, 192758.0, np.nan, np.nan, 192758.0]\n",
    "df_pdf.loc['BHATNAGAR SANJAY'] = pd.Series(bs, index=ff)\n",
    "df_pdf.loc['poi', 'BHATNAGAR SANJAY'] = 0.0\n",
    "df_pdf.loc['YEAP SOON'] = pd.Series(ys, index=ff)"
   ]
  },
  {
   "cell_type": "markdown",
   "metadata": {},
   "source": [
    "After correcting the identifierd rows, the number of rows with wrong checksum should be \"0\":"
   ]
  },
  {
   "cell_type": "code",
   "execution_count": 18,
   "metadata": {},
   "outputs": [
    {
     "name": "stdout",
     "output_type": "stream",
     "text": [
      "0\n"
     ]
    }
   ],
   "source": [
    "df_salary_wrong_checksum_pdf = checksum_df(df_pdf, features_financial_salary, features_financial_salary_total)\n",
    "print(len(df_salary_wrong_checksum_pdf))"
   ]
  },
  {
   "cell_type": "markdown",
   "metadata": {},
   "source": [
    "and for `features_financial_stock_total`:"
   ]
  },
  {
   "cell_type": "code",
   "execution_count": 19,
   "metadata": {},
   "outputs": [
    {
     "name": "stdout",
     "output_type": "stream",
     "text": [
      "0\n"
     ]
    }
   ],
   "source": [
    "df_stock_wrong_checksum_pdf = checksum_df(df_pdf, features_financial_stock, features_financial_stock_total)\n",
    "print(len(df_stock_wrong_checksum_pdf))"
   ]
  },
  {
   "cell_type": "markdown",
   "metadata": {},
   "source": [
    "Finally, the following table shows all the rows from the new self-parsed dataset that are different from the provided dataset. There are apparently 9 differences in a dataset of less than 150 records. However, a few are just the names that were parsed in a different way."
   ]
  },
  {
   "cell_type": "code",
   "execution_count": 20,
   "metadata": {
    "scrolled": true
   },
   "outputs": [
    {
     "data": {
      "text/html": [
       "<table border=\"1\" class=\"dataframe\">\n",
       "  <thead>\n",
       "    <tr style=\"text-align: right;\">\n",
       "      <th></th>\n",
       "      <th>index</th>\n",
       "      <th>salary</th>\n",
       "      <th>bonus</th>\n",
       "      <th>long_term_incentive</th>\n",
       "      <th>deferred_income</th>\n",
       "      <th>deferral_payments</th>\n",
       "      <th>loan_advances</th>\n",
       "      <th>other</th>\n",
       "      <th>expenses</th>\n",
       "      <th>director_fees</th>\n",
       "      <th>total_payments</th>\n",
       "      <th>exercised_stock_options</th>\n",
       "      <th>restricted_stock</th>\n",
       "      <th>restricted_stock_deferred</th>\n",
       "      <th>total_stock_value</th>\n",
       "    </tr>\n",
       "  </thead>\n",
       "  <tbody>\n",
       "    <tr>\n",
       "      <th>146</th>\n",
       "      <td>BAXTER JOHN C</td>\n",
       "      <td>267102.0</td>\n",
       "      <td>1200000.0</td>\n",
       "      <td>1586055.0</td>\n",
       "      <td>-1386055.0</td>\n",
       "      <td>1295738.0</td>\n",
       "      <td>NaN</td>\n",
       "      <td>2660303.0</td>\n",
       "      <td>11200.0</td>\n",
       "      <td>NaN</td>\n",
       "      <td>5634343.0</td>\n",
       "      <td>6680544.0</td>\n",
       "      <td>3942714.0</td>\n",
       "      <td>NaN</td>\n",
       "      <td>10623258.0</td>\n",
       "    </tr>\n",
       "    <tr>\n",
       "      <th>147</th>\n",
       "      <td>BELFER ROBERT A</td>\n",
       "      <td>NaN</td>\n",
       "      <td>NaN</td>\n",
       "      <td>NaN</td>\n",
       "      <td>-102500.0</td>\n",
       "      <td>NaN</td>\n",
       "      <td>NaN</td>\n",
       "      <td>NaN</td>\n",
       "      <td>3285.0</td>\n",
       "      <td>102500.0</td>\n",
       "      <td>3285.0</td>\n",
       "      <td>NaN</td>\n",
       "      <td>44093.0</td>\n",
       "      <td>-44093.0</td>\n",
       "      <td>0.0</td>\n",
       "    </tr>\n",
       "    <tr>\n",
       "      <th>148</th>\n",
       "      <td>BHATNAGAR SANJAY</td>\n",
       "      <td>NaN</td>\n",
       "      <td>NaN</td>\n",
       "      <td>NaN</td>\n",
       "      <td>NaN</td>\n",
       "      <td>NaN</td>\n",
       "      <td>NaN</td>\n",
       "      <td>NaN</td>\n",
       "      <td>137864.0</td>\n",
       "      <td>NaN</td>\n",
       "      <td>137864.0</td>\n",
       "      <td>15456290.0</td>\n",
       "      <td>2604490.0</td>\n",
       "      <td>-2604490.0</td>\n",
       "      <td>15456290.0</td>\n",
       "    </tr>\n",
       "    <tr>\n",
       "      <th>149</th>\n",
       "      <td>BLAKE JR NORMAN P</td>\n",
       "      <td>NaN</td>\n",
       "      <td>NaN</td>\n",
       "      <td>NaN</td>\n",
       "      <td>-113784.0</td>\n",
       "      <td>NaN</td>\n",
       "      <td>NaN</td>\n",
       "      <td>NaN</td>\n",
       "      <td>1279.0</td>\n",
       "      <td>113784.0</td>\n",
       "      <td>1279.0</td>\n",
       "      <td>NaN</td>\n",
       "      <td>NaN</td>\n",
       "      <td>NaN</td>\n",
       "      <td>0.0</td>\n",
       "    </tr>\n",
       "    <tr>\n",
       "      <th>150</th>\n",
       "      <td>DERRICK JR JAMES V</td>\n",
       "      <td>492375.0</td>\n",
       "      <td>800000.0</td>\n",
       "      <td>484000.0</td>\n",
       "      <td>-1284000.0</td>\n",
       "      <td>NaN</td>\n",
       "      <td>NaN</td>\n",
       "      <td>7482.0</td>\n",
       "      <td>51124.0</td>\n",
       "      <td>NaN</td>\n",
       "      <td>550981.0</td>\n",
       "      <td>8831913.0</td>\n",
       "      <td>1787380.0</td>\n",
       "      <td>-1787380.0</td>\n",
       "      <td>8831913.0</td>\n",
       "    </tr>\n",
       "    <tr>\n",
       "      <th>151</th>\n",
       "      <td>LAY KENNETH L</td>\n",
       "      <td>1072321.0</td>\n",
       "      <td>7000000.0</td>\n",
       "      <td>3600000.0</td>\n",
       "      <td>-300000.0</td>\n",
       "      <td>202911.0</td>\n",
       "      <td>81525000.0</td>\n",
       "      <td>10359729.0</td>\n",
       "      <td>99832.0</td>\n",
       "      <td>NaN</td>\n",
       "      <td>103559793.0</td>\n",
       "      <td>34348384.0</td>\n",
       "      <td>14761694.0</td>\n",
       "      <td>NaN</td>\n",
       "      <td>49110078.0</td>\n",
       "    </tr>\n",
       "    <tr>\n",
       "      <th>152</th>\n",
       "      <td>PEREIRA PAULO V FERRAZ</td>\n",
       "      <td>NaN</td>\n",
       "      <td>NaN</td>\n",
       "      <td>NaN</td>\n",
       "      <td>-101250.0</td>\n",
       "      <td>NaN</td>\n",
       "      <td>NaN</td>\n",
       "      <td>NaN</td>\n",
       "      <td>27942.0</td>\n",
       "      <td>101250.0</td>\n",
       "      <td>27942.0</td>\n",
       "      <td>NaN</td>\n",
       "      <td>NaN</td>\n",
       "      <td>NaN</td>\n",
       "      <td>0.0</td>\n",
       "    </tr>\n",
       "    <tr>\n",
       "      <th>153</th>\n",
       "      <td>WINOKUR JR HERBERT S</td>\n",
       "      <td>NaN</td>\n",
       "      <td>NaN</td>\n",
       "      <td>NaN</td>\n",
       "      <td>-25000.0</td>\n",
       "      <td>NaN</td>\n",
       "      <td>NaN</td>\n",
       "      <td>NaN</td>\n",
       "      <td>1413.0</td>\n",
       "      <td>108579.0</td>\n",
       "      <td>84992.0</td>\n",
       "      <td>NaN</td>\n",
       "      <td>NaN</td>\n",
       "      <td>NaN</td>\n",
       "      <td>0.0</td>\n",
       "    </tr>\n",
       "    <tr>\n",
       "      <th>154</th>\n",
       "      <td>poi</td>\n",
       "      <td>NaN</td>\n",
       "      <td>NaN</td>\n",
       "      <td>NaN</td>\n",
       "      <td>NaN</td>\n",
       "      <td>NaN</td>\n",
       "      <td>NaN</td>\n",
       "      <td>NaN</td>\n",
       "      <td>NaN</td>\n",
       "      <td>NaN</td>\n",
       "      <td>0.0</td>\n",
       "      <td>NaN</td>\n",
       "      <td>NaN</td>\n",
       "      <td>NaN</td>\n",
       "      <td>0.0</td>\n",
       "    </tr>\n",
       "  </tbody>\n",
       "</table>"
      ],
      "text/plain": [
       "<IPython.core.display.HTML object>"
      ]
     },
     "execution_count": 20,
     "metadata": {},
     "output_type": "execute_result"
    }
   ],
   "source": [
    "# https://stackoverflow.com/questions/19917545/comparing-two-pandas-dataframes-for-differences\n",
    "def get_different_rows(source_df, new_df):\n",
    "    \"\"\"Returns just the rows from the new dataframe that differ from the source dataframe\"\"\"\n",
    "    merged_df = source_df.merge(new_df, indicator=True, how='outer')\n",
    "    changed_rows_df = merged_df[merged_df['_merge'] == 'right_only']\n",
    "    return changed_rows_df.drop('_merge', axis=1)\n",
    "#features_financial_salary+features_financial_salary_total #\n",
    "\n",
    "df1 = df[ff].reset_index()\n",
    "df2 = df_pdf[ff].reset_index()#.drop('index', axis=1)\n",
    "df_diff12 = get_different_rows(df1, df2)\n",
    "df_diff21 = get_different_rows(df2, df1)\n",
    "\n",
    "HTML(df_diff12.to_html())"
   ]
  },
  {
   "cell_type": "markdown",
   "metadata": {},
   "source": [
    "Most of the differences are due to inconsistently parsed names. However, there are only 2 rows with wrong numbers (which was at least expected). The correct numbers are shown in the following table:"
   ]
  },
  {
   "cell_type": "code",
   "execution_count": 21,
   "metadata": {},
   "outputs": [
    {
     "data": {
      "text/html": [
       "<table border=\"1\" class=\"dataframe\">\n",
       "  <thead>\n",
       "    <tr style=\"text-align: right;\">\n",
       "      <th></th>\n",
       "      <th>salary</th>\n",
       "      <th>bonus</th>\n",
       "      <th>long_term_incentive</th>\n",
       "      <th>deferred_income</th>\n",
       "      <th>deferral_payments</th>\n",
       "      <th>loan_advances</th>\n",
       "      <th>other</th>\n",
       "      <th>expenses</th>\n",
       "      <th>director_fees</th>\n",
       "      <th>total_payments</th>\n",
       "      <th>exercised_stock_options</th>\n",
       "      <th>restricted_stock</th>\n",
       "      <th>restricted_stock_deferred</th>\n",
       "      <th>total_stock_value</th>\n",
       "      <th>index</th>\n",
       "    </tr>\n",
       "  </thead>\n",
       "  <tbody>\n",
       "    <tr>\n",
       "      <th>147</th>\n",
       "      <td>NaN</td>\n",
       "      <td>NaN</td>\n",
       "      <td>NaN</td>\n",
       "      <td>-102500.0</td>\n",
       "      <td>NaN</td>\n",
       "      <td>NaN</td>\n",
       "      <td>NaN</td>\n",
       "      <td>3285.0</td>\n",
       "      <td>102500.0</td>\n",
       "      <td>3285.0</td>\n",
       "      <td>NaN</td>\n",
       "      <td>44093.0</td>\n",
       "      <td>-44093.0</td>\n",
       "      <td>0.0</td>\n",
       "      <td>BELFER ROBERT A</td>\n",
       "    </tr>\n",
       "    <tr>\n",
       "      <th>148</th>\n",
       "      <td>NaN</td>\n",
       "      <td>NaN</td>\n",
       "      <td>NaN</td>\n",
       "      <td>NaN</td>\n",
       "      <td>NaN</td>\n",
       "      <td>NaN</td>\n",
       "      <td>NaN</td>\n",
       "      <td>137864.0</td>\n",
       "      <td>NaN</td>\n",
       "      <td>137864.0</td>\n",
       "      <td>15456290.0</td>\n",
       "      <td>2604490.0</td>\n",
       "      <td>-2604490.0</td>\n",
       "      <td>15456290.0</td>\n",
       "      <td>BHATNAGAR SANJAY</td>\n",
       "    </tr>\n",
       "  </tbody>\n",
       "</table>"
      ],
      "text/plain": [
       "<IPython.core.display.HTML object>"
      ]
     },
     "execution_count": 21,
     "metadata": {},
     "output_type": "execute_result"
    }
   ],
   "source": [
    "df1 = df[ff].reset_index().drop('index', axis=1)\n",
    "df_diff12n = get_different_rows(df1, df2)\n",
    "HTML(df_diff12n.to_html())"
   ]
  },
  {
   "cell_type": "markdown",
   "metadata": {},
   "source": [
    "From the perspective of the provided dataset (final_project_dataset.pkl), the following additional rows are corrected:"
   ]
  },
  {
   "cell_type": "code",
   "execution_count": 22,
   "metadata": {},
   "outputs": [
    {
     "data": {
      "text/html": [
       "<table border=\"1\" class=\"dataframe\">\n",
       "  <thead>\n",
       "    <tr style=\"text-align: right;\">\n",
       "      <th></th>\n",
       "      <th>salary</th>\n",
       "      <th>bonus</th>\n",
       "      <th>long_term_incentive</th>\n",
       "      <th>deferred_income</th>\n",
       "      <th>deferral_payments</th>\n",
       "      <th>loan_advances</th>\n",
       "      <th>other</th>\n",
       "      <th>expenses</th>\n",
       "      <th>director_fees</th>\n",
       "      <th>total_payments</th>\n",
       "      <th>exercised_stock_options</th>\n",
       "      <th>restricted_stock</th>\n",
       "      <th>restricted_stock_deferred</th>\n",
       "      <th>total_stock_value</th>\n",
       "      <th>index</th>\n",
       "    </tr>\n",
       "  </thead>\n",
       "  <tbody>\n",
       "    <tr>\n",
       "      <th>145</th>\n",
       "      <td>NaN</td>\n",
       "      <td>NaN</td>\n",
       "      <td>NaN</td>\n",
       "      <td>NaN</td>\n",
       "      <td>-102500.0</td>\n",
       "      <td>NaN</td>\n",
       "      <td>NaN</td>\n",
       "      <td>NaN</td>\n",
       "      <td>3285.0</td>\n",
       "      <td>102500.0</td>\n",
       "      <td>3285.0</td>\n",
       "      <td>NaN</td>\n",
       "      <td>44093.0</td>\n",
       "      <td>-44093.0</td>\n",
       "      <td>BELFER ROBERT</td>\n",
       "    </tr>\n",
       "    <tr>\n",
       "      <th>146</th>\n",
       "      <td>NaN</td>\n",
       "      <td>NaN</td>\n",
       "      <td>NaN</td>\n",
       "      <td>NaN</td>\n",
       "      <td>NaN</td>\n",
       "      <td>NaN</td>\n",
       "      <td>137864.0</td>\n",
       "      <td>NaN</td>\n",
       "      <td>137864.0</td>\n",
       "      <td>15456290.0</td>\n",
       "      <td>2604490.0</td>\n",
       "      <td>-2604490.0</td>\n",
       "      <td>15456290.0</td>\n",
       "      <td>0.0</td>\n",
       "      <td>BHATNAGAR SANJAY</td>\n",
       "    </tr>\n",
       "    <tr>\n",
       "      <th>147</th>\n",
       "      <td>NaN</td>\n",
       "      <td>NaN</td>\n",
       "      <td>NaN</td>\n",
       "      <td>NaN</td>\n",
       "      <td>NaN</td>\n",
       "      <td>NaN</td>\n",
       "      <td>362096.0</td>\n",
       "      <td>NaN</td>\n",
       "      <td>NaN</td>\n",
       "      <td>362096.0</td>\n",
       "      <td>NaN</td>\n",
       "      <td>NaN</td>\n",
       "      <td>NaN</td>\n",
       "      <td>0.0</td>\n",
       "      <td>THE TRAVEL AGENCY IN THE PARK</td>\n",
       "    </tr>\n",
       "    <tr>\n",
       "      <th>148</th>\n",
       "      <td>26704229.0</td>\n",
       "      <td>97343619.0</td>\n",
       "      <td>48521928.0</td>\n",
       "      <td>-27992891.0</td>\n",
       "      <td>32083396.0</td>\n",
       "      <td>83925000.0</td>\n",
       "      <td>42667589.0</td>\n",
       "      <td>5235198.0</td>\n",
       "      <td>1398517.0</td>\n",
       "      <td>309886585.0</td>\n",
       "      <td>311764000.0</td>\n",
       "      <td>130322299.0</td>\n",
       "      <td>-7576788.0</td>\n",
       "      <td>434509511.0</td>\n",
       "      <td>TOTAL</td>\n",
       "    </tr>\n",
       "  </tbody>\n",
       "</table>"
      ],
      "text/plain": [
       "<IPython.core.display.HTML object>"
      ]
     },
     "execution_count": 22,
     "metadata": {},
     "output_type": "execute_result"
    }
   ],
   "source": [
    "df1 = df[ff].reset_index()\n",
    "df2 = df_pdf[ff].reset_index().drop('index', axis=1)\n",
    "df_diff21 = get_different_rows(df2, df1)\n",
    "HTML(df_diff21.to_html())"
   ]
  },
  {
   "cell_type": "markdown",
   "metadata": {},
   "source": [
    "*TOTAL* is appently no person but the sum of all records and is removed from the records. *THE TRAVEL AGENCY IN THE PARK* is the companies traavel agency. However, it *was* co-owned by the sister of Enron's former Chairman [from: Insider Payments, Footnote (j)]. I decide to remove this record too.\n",
    "\n",
    "A further inconsistency was found by chance: *FREVERT MARK A* is listed as a *POI* in the second table, but not in the first one. Lacking further information, it is decided to handle him as a *POI* as well, because his payments / stock value is in the same order of magnitude of the other *POI's*."
   ]
  },
  {
   "cell_type": "code",
   "execution_count": 23,
   "metadata": {},
   "outputs": [
    {
     "data": {
      "text/html": [
       "<div>\n",
       "<style scoped>\n",
       "    .dataframe tbody tr th:only-of-type {\n",
       "        vertical-align: middle;\n",
       "    }\n",
       "\n",
       "    .dataframe tbody tr th {\n",
       "        vertical-align: top;\n",
       "    }\n",
       "\n",
       "    .dataframe thead th {\n",
       "        text-align: right;\n",
       "    }\n",
       "</style>\n",
       "<table border=\"1\" class=\"dataframe\">\n",
       "  <thead>\n",
       "    <tr style=\"text-align: right;\">\n",
       "      <th></th>\n",
       "      <th>salary</th>\n",
       "      <th>bonus</th>\n",
       "      <th>long_term_incentive</th>\n",
       "      <th>deferred_income</th>\n",
       "      <th>deferral_payments</th>\n",
       "      <th>loan_advances</th>\n",
       "      <th>other</th>\n",
       "      <th>expenses</th>\n",
       "      <th>director_fees</th>\n",
       "      <th>total_payments</th>\n",
       "      <th>exercised_stock_options</th>\n",
       "      <th>restricted_stock</th>\n",
       "      <th>restricted_stock_deferred</th>\n",
       "      <th>total_stock_value</th>\n",
       "      <th>BHATNAGAR SANJAY</th>\n",
       "    </tr>\n",
       "  </thead>\n",
       "  <tbody>\n",
       "    <tr>\n",
       "      <th>FREVERT MARK A</th>\n",
       "      <td>1060932.0</td>\n",
       "      <td>2000000.0</td>\n",
       "      <td>1617011.0</td>\n",
       "      <td>-3367011.0</td>\n",
       "      <td>6426990.0</td>\n",
       "      <td>2000000.0</td>\n",
       "      <td>7427621.0</td>\n",
       "      <td>86987.0</td>\n",
       "      <td>NaN</td>\n",
       "      <td>17252530.0</td>\n",
       "      <td>10433518.0</td>\n",
       "      <td>4188667.0</td>\n",
       "      <td>NaN</td>\n",
       "      <td>14622185.0</td>\n",
       "      <td>NaN</td>\n",
       "    </tr>\n",
       "  </tbody>\n",
       "</table>\n",
       "</div>"
      ],
      "text/plain": [
       "                   salary      bonus  long_term_incentive  deferred_income  \\\n",
       "FREVERT MARK A  1060932.0  2000000.0            1617011.0       -3367011.0   \n",
       "\n",
       "                deferral_payments  loan_advances      other  expenses  \\\n",
       "FREVERT MARK A          6426990.0      2000000.0  7427621.0   86987.0   \n",
       "\n",
       "                director_fees  total_payments  exercised_stock_options  \\\n",
       "FREVERT MARK A            NaN      17252530.0               10433518.0   \n",
       "\n",
       "                restricted_stock  restricted_stock_deferred  \\\n",
       "FREVERT MARK A         4188667.0                        NaN   \n",
       "\n",
       "                total_stock_value  BHATNAGAR SANJAY  \n",
       "FREVERT MARK A         14622185.0               NaN  "
      ]
     },
     "execution_count": 23,
     "metadata": {},
     "output_type": "execute_result"
    }
   ],
   "source": [
    "df_pdf[df_pdf.index.isin(['FREVERT MARK A'])]"
   ]
  },
  {
   "cell_type": "markdown",
   "metadata": {},
   "source": [
    "The corrected dataset is saved to `final_project_dataset_PROVEN.pkl` and will be used from now."
   ]
  },
  {
   "cell_type": "code",
   "execution_count": 24,
   "metadata": {},
   "outputs": [],
   "source": [
    "bs = [np.nan, np.nan, np.nan, np.nan, np.nan, np.nan, np.nan,137864.0, np.nan,137864.0, 15456290.0, 2604490.0, -2604490.0, 15456290.0]\n",
    "ys = [np.nan, np.nan, np.nan, np.nan, np.nan, np.nan, np.nan, 55097.0, np.nan, 55097.0, 192758.0, np.nan, np.nan, 192758.0]\n",
    "df.loc['BHATNAGAR SANJAY'] = pd.Series(bs, index=ff)\n",
    "df.loc['BHATNAGAR SANJAY','poi'] = 0\n",
    "df.loc['YEAP SOON'] = pd.Series(ys, index=ff)\n",
    "df.loc['FREVERT MARK A','poi'] = 1\n",
    "df.loc['BELFER ROBERT', ff] = df_pdf.loc['BELFER ROBERT A', ff]\n",
    "try:\n",
    "    df.drop(['TOTAL', 'THE TRAVEL AGENCY IN THE PARK'], inplace=True)\n",
    "except:\n",
    "    print(\"Drop already done...\")"
   ]
  },
  {
   "cell_type": "code",
   "execution_count": 25,
   "metadata": {
    "scrolled": true
   },
   "outputs": [
    {
     "data": {
      "text/plain": [
       "0.0"
      ]
     },
     "execution_count": 25,
     "metadata": {},
     "output_type": "execute_result"
    }
   ],
   "source": [
    "df.loc['BHATNAGAR SANJAY', 'poi']"
   ]
  },
  {
   "cell_type": "markdown",
   "metadata": {},
   "source": [
    "Finally, the corrected dataset is written to a pkl-file, which is from now used as the starting point of the furter investigations.\n",
    "\n",
    "Note that furter **cleaning of outliers is not done**, because every valid record contains valuable information for this \"application\". Hence, the extraordinary salary of the CEO, which is a POI is keeped in the dataset."
   ]
  },
  {
   "cell_type": "code",
   "execution_count": 27,
   "metadata": {},
   "outputs": [],
   "source": [
    "df.to_pickle(new_filename)"
   ]
  },
  {
   "cell_type": "markdown",
   "metadata": {},
   "source": [
    "## Manual Exploration and Considerations on the Dataset\n",
    "Since there are less than 150 records in the dataset, some patterns come apparent just by watching the table of financial data:\n",
    "- \"Director Fees\" have never received by a POI\n",
    "- Persons that have gotten a director fee, have never gotten a salary or bonus\n",
    "- Except for one case, a POI has always a salary\n",
    "- POI's have a high fraction of exercised stock options\n",
    "- `deferred_income` was most likely lost for the person, because the company went into bancrupcy\n",
    "- `restricted_stock_deferred` is the part of the restricted_stock, that a person has most likely never gotten because Enron went into bancrupcy before. This value is likely small or 0 for a (smart) POI.\n",
    "- Persons that have lost money, are likely no POI's\n",
    "- `Expenses` are likely unimportant\n",
    "\n",
    "## Engineering new features\n",
    "Sometimes numbers are less important than relations or proportions to an aggregated value.\n",
    "One example is the value of `restricted_stock_deferred`, which is the part of a persons stock value that its owner has certainly lost when Enron went into bankrupcy. More interesting would be the relation of lost stock value to the total stock value. As a hypothesis, POI's would likely have lost a very small proportion of its total stock value because the are certainly well informed about the (real) state of the company."
   ]
  },
  {
   "cell_type": "code",
   "execution_count": 3,
   "metadata": {},
   "outputs": [],
   "source": [
    "df = pd.read_pickle(new_filename)\n",
    "df = df.replace(np.nan, 0.0)"
   ]
  },
  {
   "cell_type": "code",
   "execution_count": 4,
   "metadata": {},
   "outputs": [],
   "source": [
    "# Relevant and engineered features due to \"engineering judgement\"\n",
    "# gotten versus deferral payments (sum it up)\n",
    "\n",
    "f = pd.Series(features_financial_salary)\n",
    "df['total_payments_corr'] = df[f[~f.isin(['deferred_income'])]].sum(axis=1)\n",
    "\n",
    "f = pd.Series(features_financial_stock)\n",
    "df['total_stock_value_corr'] = df[f[~f.isin(['restricted_stock_deferred'])]].sum(axis=1)\n",
    "df['total_cash'] = df['total_payments_corr'] + df['total_stock_value_corr']\n",
    "\n",
    "df['total_payments_corr'].replace(0.0, 1.0, inplace=True)\n",
    "df['total_stock_value_corr'].replace(0.0, 1.0, inplace=True)\n",
    "df['to_messages'].replace(0.0, 1.0, inplace=True)\n",
    "df['from_messages'].replace(0.0, 1.0, inplace=True)\n",
    "df['salary'].replace(0.0, 1.0, inplace=True)\n",
    "\n",
    "df[\"bonus_to_salary\"]                    = df[\"bonus\"]                     / df[\"salary\"]\n",
    "\n",
    "df['fraction_salary']                    = df['salary']                    / df['total_payments_corr']\n",
    "df['fraction_bonus']                     = df['bonus']                     / df['total_payments_corr']\n",
    "df['fraction_long_term_incentive']       = df['long_term_incentive']       / df['total_payments_corr']\n",
    "df['fraction_deferral_payments']         = df['deferral_payments']          / df['total_payments_corr']\n",
    "\n",
    "df['fraction_deferred_income']           = df['deferred_income']           / df['total_payments_corr'] # lost cash\n",
    "\n",
    "df['fraction_exercised_stock_options']   = df['exercised_stock_options']   / df['total_stock_value_corr']\n",
    "df['fraction_restricted_stock_deferred'] = df['restricted_stock_deferred'] / df['total_stock_value_corr'] # lost stock\n",
    "df['fraction_restricted_stock']          = df['restricted_stock']          / df['total_stock_value_corr']\n",
    "\n",
    "df['fraction_employer_direct_cash']  = df['fraction_salary'] + df['fraction_bonus'] + df['fraction_long_term_incentive']\n",
    "df['fraction_employer_stock_cash']   = df['total_stock_value'] / df['total_stock_value_corr']\n",
    "df['fraction_director_direct_cash']  = df['director_fees'] / df['total_payments_corr']\n",
    "\n",
    "df['fraction_from_poi_to_this_person'] = df['from_poi_to_this_person'] / df['to_messages']\n",
    "df['fraction_shared_receipt_with_poi'] = df['shared_receipt_with_poi'] / df['to_messages']\n",
    "df['fraction_from_this_person_to_poi'] = df['from_this_person_to_poi'] / df['from_messages']\n",
    "\n",
    "\n",
    "features_fractions_lost = ['fraction_deferred_income', 'fraction_restricted_stock_deferred']\n",
    "features_fractions_cash = ['fraction_employer_direct_cash', 'fraction_employer_stock_cash']\n",
    "features_absolute_cash  = ['total_payments_corr', 'total_stock_value_corr', 'bonus_to_salary']\n",
    "features_email = ['to_messages', 'from_messages', 'fraction_from_poi_to_this_person', 'fraction_shared_receipt_with_poi', 'fraction_from_this_person_to_poi']\n",
    "\n",
    "df = df.drop([\"email_address\", \"salary\", \"bonus\", \"long_term_incentive\", \"deferral_payments\",\n",
    "             \"deferred_income\", \"exercised_stock_options\", \"restricted_stock_deferred\", \"restricted_stock\",\n",
    "             \"from_poi_to_this_person\", \"shared_receipt_with_poi\", \"from_this_person_to_poi\"], axis=1)"
   ]
  },
  {
   "cell_type": "markdown",
   "metadata": {},
   "source": [
    "The newly derived fractions features do not contain new information but make values easier to understand for humans and might help some of the classifiers.\n",
    "\n",
    "The derived feature `bonus_to_salary` indicates, if a person performed well in the eyes of a person at a higher level in hierarchy. And since the \"smartest guys\" are likely POI's, this is likely a powerful feature.\n",
    "\n",
    "Additionally, the application of transformed features might be appropriate in some cases. The usage of `PolynomialFeatures` seems to be very common. For this application, sqrt or even logarithmic transformation might be a good model of manager's greed and will likely result in the most normally distributed data. This would be possible using the [FunctionTransformer](https://scikit-learn.org/stable/modules/preprocessing.html#custom-transformers).\n",
    "\n",
    "#### Considerations about using the features `from_poi_to_this_person`, `from_this_person_to_poi` and `shared_receipt_with_poi`\n",
    "These features contain apparently derived information about the label POI. In case we (would) want to use our data to identify a new POI, at least, this values must be updated for all records and re-fit iteratively.\n",
    "\n",
    "## Graphical Visualization of the Data using PairPlot/PairGrid\n",
    "This is a good concept to start getting an overview of the actual dataset and is herby a good visual representation of the previous hypotheses. E.g. the `fraction_restricted_stock_deferred` is not existing for all POI's."
   ]
  },
  {
   "cell_type": "code",
   "execution_count": 393,
   "metadata": {},
   "outputs": [],
   "source": [
    "bigboss = df['total_payments_corr'].idxmax()\n",
    "# print(\"Big Boss: {}\".format(bigboss))"
   ]
  },
  {
   "cell_type": "code",
   "execution_count": 6,
   "metadata": {
    "scrolled": false
   },
   "outputs": [
    {
     "data": {
      "text/plain": [
       "<seaborn.axisgrid.PairGrid at 0x7fa1b0fb1470>"
      ]
     },
     "execution_count": 6,
     "metadata": {},
     "output_type": "execute_result"
    },
    {
     "data": {
      "image/png": "[encoded data removed]",
      "text/plain": [
       "<Figure size 953.25x900 with 30 Axes>"
      ]
     },
     "metadata": {
      "needs_background": "light"
     },
     "output_type": "display_data"
    }
   ],
   "source": [
    "# https://towardsdatascience.com/the-art-of-effective-visualization-of-multi-dimensional-data-6c7202990c57\n",
    "# http://scikit-learn.org/stable/auto_examples/ensemble/plot_partial_dependence.html\n",
    "# https://jakevdp.github.io/PythonDataScienceHandbook/04.14-visualization-with-seaborn.html\n",
    "# https://seaborn.pydata.org/tutorial/axis_grids.html\n",
    "# df = df_pdf\n",
    "# df = pd.DataFrame.from_dict(my_dataset, orient='index') #.replace('NaN', np.nan) # Load cleaned dataset\n",
    "\n",
    "df2plot = deepcopy(df)\n",
    "\n",
    "df2plot['poi'] = df2plot['poi'].replace(True, 'yes')\n",
    "df2plot['poi'] = df2plot['poi'].replace(False, 'no')\n",
    "# features2plot = features_financial_salary+features_financial_stock + features_email + ['poi']\n",
    "features2plot = features_absolute_cash + features_fractions_lost + ['poi']\n",
    "\n",
    "\n",
    "df2plot = df2plot[features2plot]\n",
    "#df2plot = df2plot[~(df2plot.isna().sum(axis=1)>0)] # plot only existing data\n",
    "#g = sns.pairplot(df2plot, hue=\"poi\") # \n",
    "\n",
    "g = sns.PairGrid(df2plot, hue=\"poi\")\n",
    "#g = sns.PairGrid(df2plot, vars=df2plot.columns[~df2plot.columns.isin(['poi'])].tolist(), hue=\"poi\")\n",
    "#g = sns.PairGrid(df2plot, vars=df2plot.columns.tolist())\n",
    "#g = g.map(plt.scatter)\n",
    "g.fig.subplots_adjust(wspace=.02, hspace=.1);\n",
    "#g.fig.subplots_adjust(wspace=.02, hspace=.02);\n",
    "g = g.map_upper(plt.scatter)\n",
    "g = g.map_diag(plt.hist, histtype=\"step\", linewidth=3)\n",
    "#g.map_diag(sns.kdeplot, lw=3, legend=False);\n",
    "#g.map_lower(sns.kdeplot)\n",
    "g = g.map_lower(plt.scatter)\n",
    "g.add_legend()\n",
    "#g.map_offdiag(plt.scatter)\n"
   ]
  },
  {
   "cell_type": "markdown",
   "metadata": {},
   "source": [
    "Since the dataset has many features, a relatively small number of records and is additionally pretty sparse, the usual training/testing splitting is not very approproate. Instead, the whole dataset is used for training and cross validation for testing. An appropriate function is `test_classifier()`, which has already been provided by Udacity as part of the module **[tester](tester.py)**."
   ]
  },
  {
   "cell_type": "code",
   "execution_count": 7,
   "metadata": {},
   "outputs": [],
   "source": [
    "#df[['poi']+features_fractions_lost].values\n",
    "#features_list = ['poi']+features_fractions_lost\n",
    "# features_list = ['poi']+features_fractions_lost+features_absolute_cash\n",
    "data_d = df.to_dict(orient='index') # Required for Udacitiy's test_classifier\n",
    "# len(data_d.keys())"
   ]
  },
  {
   "cell_type": "markdown",
   "metadata": {},
   "source": [
    "## Selection of Classifieres and Exploration of Feature Selection Methods\n",
    "A set of diverse promising classification methods is selected and applied with the manual and automatic feature selection methods (if applicable). The selected classifiers are:\n",
    "\n",
    "- **DecisionTreeClassifier**: From the book: \"Decision Trees are versatile Machine Learning algorithms that can perform both classification and regression tasks, and even multioutput tasks. They are very powerful algorithms, capable of fitting complex datasets.\"\n",
    "\n",
    "- **RandomForest**: \"Decision Trees are also the fundamental components of Random Forests, which are among the most powerful Machine Learning algorithms available today.\"\n",
    "\n",
    "- **NearestCentroid**: is a very simple method that is based on distance calculation (to each class centroid). It might be appropriate for simple problems / few training samples, which is the case in this application. It allows no further tuning as a distribution of data assumed.\n",
    "\n",
    "- **LogisticRegression**: is a regression algorithm that is appropriately adapted to be used as a classifier:  \"Logistic Regression (also called Logit Regression) is commonly used to estimate the probability that an instance belongs to a particular class (e.g., what is the probability that this email is spam? -or that a person is a POI?). If the estimated probability is greater than 50%, then the model predicts that the instance belongs to that class (called the positive class, labeled “1”), or else it predicts that it does not (i.e., it belongs to the negative class, labeled “0”). This makes it a binary classifier.\" Furthermore, \n",
    "\n",
    "The performance of a classification algorithm depends on the set of provided input features. There are many feature selection functions belonging to a few different concepts. Hence, if applicable, every classifier is combined to each of the (selected) feature selection function. These feature selection functions are investigated and applied:\n",
    "\n",
    "- **No feature selection**: Simply trying the classifier(s) of choice with all available features of the dataset is probably most straightforward and provides quick results to develop further...\n",
    "\n",
    "- **Manual feature selection**: Expert knowledge and human intuition will certainly support (or even replace) the automatic feature selection process, especially when the features and can be understood by humans and their number is adequately small, as it is the case for the Enron dataset. The class `DataFrameSelector` is used in a pipeline to filter preselected combinations of promising features.\n",
    "\n",
    "- **Univariate feature selection**: The class `SelectKBest` can be used with a few different statistical tests to calculate scores and select a specific number of features. The performance of a classifier might depend on the characteristics of a specific (set) of features in combination with the characteristics of the respective classifiers. However, this approach does not consider the nature of the classifier which is applied on a later stage.\n",
    "\n",
    "- **Recursive Feature Elimination (RFE)**: `RFE` and `SelectFromModel` are feature selection methods, which make use of the `.feature_importances_` or `.coef_` attribute that is provided with some classifiers. Both effectively try to achieve the same result but the methodology used by each technique varies a little: `RFE` removes least significant features over iterations. It first removes a few features which are least important and then fits, removes again, fits and so on. It repeats this iteration until it reaches a predefined number of features. `SelectFromModel` is a little less robust as it just removes less important features based on a threshold given as a parameter, but saves apparently some computation time. `RFE` is selected here, because the dataset is very small but complex.\n",
    "\n",
    "- **Principal Component Analysis (PCA)**: \"is by far the most popular dimensionality reduction algorithm. First it identifies the hyperplane that lies closest to the data, and then it projects the data onto it.\" Obviously, the PCA method is also unrelated to another classification method.\n",
    "\n",
    "Please note that, if applicable, the actual values of the feature importance are not discussed because of usage of an automatic process (RFE)"
   ]
  },
  {
   "cell_type": "code",
   "execution_count": 8,
   "metadata": {},
   "outputs": [],
   "source": [
    "sss = StratifiedShuffleSplit(n_splits=100, random_state=42) # Applied for ALL models"
   ]
  },
  {
   "cell_type": "markdown",
   "metadata": {},
   "source": [
    "## Notes on the Analysis and Challenges of the Implementation\n",
    "- The `Pipeline` class is applied to implement multiple sequential transformations\n",
    "- `GridSearchCV` is applied with `StratifiedShuffleSplit` to find the best set of parameters of the full Pipeline\n",
    "- The usage of `StratifiedShuffleSplit` reliably prevents overfitting off a classifer this small dataset.\n",
    "- `GridSearchCV` is sequentially called in loops with every element of a `param_grid` (while every element defines itself define a parameter grid). The the resulting best classifier of every element is then stored in the list `clf_results`.\n",
    "- The concept of `RFE` turned out to be very complex to implement when applied with `GridSearchCV` and a pipeline with many steps. As RFE is applied to the selected classifier, the classifier including the actual set of parameters must be provided as a parameter. This breaks the concept of GridSearchCV. I found and tested two methods to apply RFE with a pipeline:\n",
    "    - Application of the helper function `handle_grid_with_RFE(param_grid)` creates a new modified ParameterGrid to enforce, that RFE gets always provided the same classifier that is applied in the following step of the pipeline.\n",
    "    - Passing RFE with the whole pipeline as a parameter to GridSearchCV: `GridSearchCV(RFE(**{\"estimator\":mypipe, **rfe_kwargs}), param_grid=[param_grid_clf], cv=sss, scoring=\"f1\", n_jobs=1)`. Unfortunately, `n_jobs` must be set to 1 due to a bug in joblib or sklearn resulting in extremely poor computation times.\n",
    "    \n",
    "## Evaluation Metrics\n",
    "The most common evaluation metrics are \\\\(accuracy\\\\), \\\\(precision\\\\), \\\\(recall\\\\) and the \\\\(F_1 \\\\) score.\n",
    "\n",
    "### Accuracy\n",
    "The accuracy is simply the ratio of correctly predicted labels to the total predictions.\n",
    "\n",
    "\\\\( accuracy = \\frac{TP+TN}{total predictions} \\\\)\n",
    "\n",
    "\\\\(TP\\\\) and \\\\(TN\\\\) are the number of true positives and true negatives. However, accuracy is probably an inappropriate metric especially when the number of records of each class is very imbalanced as it is the case here.\n",
    "\n",
    "### Precision\n",
    "Precision is the ratio of correct classifications over all observations with a given predicted label.\n",
    "\n",
    "\\\\( precision = \\frac{TP}{TP+FP} \\\\)\n",
    "\n",
    "Here, it is the ratio of true POI’s over all predicted POI’s.\n",
    "\n",
    "### Recall\n",
    "Precision is typically used along with another metric named recall. Its the ratio of positive instances that are correctly detected by the classifier:\n",
    "\n",
    "\\\\( recall = \\frac{TP}{TP+FN} \\\\)\n",
    "\n",
    "FN is the number of false negatives.\n",
    "\n",
    "\n",
    "### F1 Score\n",
    "It is often convenient to combine precision and recall into a single metric called the \\\\(F_1 \\\\) score, in\n",
    "particular if you need a simple way to compare two classifiers. The \\\\(F_1 \\\\) score is the harmonic mean of\n",
    "precision and recall.\n",
    "\n",
    "\\\\( F_1 = \\frac{2}{\\frac{1}{precision}+\\frac{1}{recall}} = \\frac{TP}{TP + \\frac{FN+FP}{2} } \\\\)\n",
    "\n",
    "So, the \\\\(F_1 \\\\) score favors classifiers that have similar precision and recall. \\\\(F_1 \\\\) scoring is selected in `GridSearchCV`.\n"
   ]
  },
  {
   "cell_type": "code",
   "execution_count": 9,
   "metadata": {
    "scrolled": false
   },
   "outputs": [],
   "source": [
    "\n",
    "# https://www.w3cschool.cn/doc_scikit_learn/scikit_learn-modules-pipeline.html\n",
    "# TODO: First do manual feature selection by thinking.\n",
    "\n",
    "class myPipe(Pipeline):\n",
    "\n",
    "    def fit(self, X,y):\n",
    "        \"\"\"Calls last elements .coef_ method.\n",
    "        Based on the sourcecode for decision_function(X).\n",
    "        Link: https://github.com/scikit-learn/scikit-learn/blob/master/sklearn/pipeline.py\n",
    "        ----------\n",
    "        \"\"\"\n",
    "\n",
    "        super(myPipe, self).fit(X,y)\n",
    "\n",
    "        self.coef_=self.steps[-1][-1].coef_\n",
    "        return\n",
    "\n",
    "pipe_params = [\n",
    "    #(\"selector0\", None),\n",
    "    (\"scaler0\", None),\n",
    "    (\"selector\", None),\n",
    "    #(\"scaler1\", None),\n",
    "    #(\"dimreducer\", None),\n",
    "    (\"classifier\", None)\n",
    "]\n",
    "\n",
    "pipe = Pipeline(pipe_params)\n",
    "mypipe = myPipe(pipe_params)\n",
    "\n",
    "\n",
    "d_humansel = {\n",
    "        \"selector\": [DataFrameSelector()],\n",
    "        \"selector__attribute_names\": [\n",
    "                                  features_absolute_cash+features_fractions_lost,\n",
    "                                  features_absolute_cash+features_fractions_cash,\n",
    "                                  features_absolute_cash+features_fractions_lost+features_fractions_cash,\n",
    "                                  ['total_cash']+features_fractions_lost,\n",
    "                                  ['total_cash']+['fraction_director_direct_cash']+features_fractions_lost,\n",
    "                                  features_email+features_absolute_cash+features_fractions_lost,\n",
    "                                  features_email+features_absolute_cash+features_fractions_cash,\n",
    "                                  features_email+features_absolute_cash+features_fractions_lost+features_fractions_cash,\n",
    "                                  features_email+['total_cash']+features_fractions_lost,\n",
    "                                  features_email+['total_cash']+['fraction_director_direct_cash']+features_fractions_lost                                      \n",
    "                                 ]\n",
    "    }\n",
    "d_RFE = {\n",
    "        \"selector\": \"RFE\"\n",
    "        #\"selector__n_features_to_select\": [None, 3,4,5,6,7,8,9,10,11,12,13,14]\n",
    "}\n",
    "d_RFE_params = {\n",
    "        \"selector__n_features_to_select\": [None, 3,4,5,6,7,8,9,10,11,12,13,14,15,16]\n",
    "}\n",
    "d_PCA = {\n",
    "        \"selector\": [PCA(random_state=42)],\n",
    "        \"selector__n_components\": [None, 0.97, 0.94, 0.9, 0.8] # [None,3,4,5,6,7],\n",
    "    }\n",
    "\n",
    "d_PCA_only = {\n",
    "        \"selector\": [PCA(random_state=42)],\n",
    "        \"selector__n_components\": [None, 3,4,5,6,7,8,9,10,11,12,13,14,15,16]\n",
    "    }\n",
    "\n",
    "d_SelectKBest_only = {\n",
    "        #\"dimreducer\": [SelectKBest(chi2)],\n",
    "        \"selector\": [SelectKBest(f_classif)],\n",
    "        \"selector__k\": [3,4,5,6,7,8,9,10,11,12,13,14,15,16]\n",
    "    }\n",
    "\n",
    "\n",
    "d_kPCA = { # really computational intensive\n",
    "        \"scaler\": [MinMaxScaler()],\n",
    "        \"selector\": [KernelPCA(random_state=42)],\n",
    "        \"selector__kernel\": [\"poly\"],#, \"linear\", \"poly\", \"rbf\", \"sigmoid\"],\n",
    "        \"selector__n_components\": [3,2,None] # [None,3,4,5,6,7],\n",
    "    }\n",
    "d_scaler0 = {\n",
    "        \"scaler0\": [StandardScaler(), MaxAbsScaler()] # RobustScaler(), MaxAbsScaler(), MinMaxScaler()\n",
    "    }\n",
    "\n",
    "d_scaler1 = {\n",
    "        \"scaler1\": [StandardScaler(), MaxAbsScaler()] #, MinMaxScaler()]\n",
    "    }\n",
    "\n",
    "d_dt = {\n",
    "        \"classifier\": [DecisionTreeClassifier(random_state=42)],\n",
    "        \"classifier__criterion\": [\"entropy\"],\n",
    "        \"classifier__max_depth\": [5,6,7,8,9,10,11, None]\n",
    "        #\"classifier__min_samples_leaf\": [1,2,3,4,5] # Makes it worse\n",
    "    }\n",
    "d_extratrees = {\n",
    "        \"classifier\": [ExtraTreesClassifier(random_state=42)],\n",
    "        \"classifier__criterion\": [\"entropy\"],\n",
    "        \"classifier__n_estimators\": [10, 100],\n",
    "        \"classifier__max_depth\": [5,6,7,8,9,10,11, None],\n",
    "        \"classifier__bootstrap\": [True]\n",
    "        #\"classifier__max_depth\": [5,6,7,8,9,10,11, None]\n",
    "        #\"classifier__min_samples_leaf\": [1,2,3,4,5] # Makes it worse\n",
    "    }\n",
    "\n",
    "d_dt2 = {\n",
    "        \"estimator__classifier\": [DecisionTreeClassifier(random_state=42)],\n",
    "        \"estimator__classifier__criterion\": [\"entropy\"],\n",
    "        \"estimator__classifier__max_depth\": [9,None] # [5,6,7,8,9,10,11, None]\n",
    "        #\"classifier__max_depth\": [5,6,7,8,9,10,11, None]\n",
    "        #\"classifier__min_samples_leaf\": [1,2,3,4,5] # Makes it worse\n",
    "    }\n",
    "d_logreg = {\n",
    "        \"classifier\": [LogisticRegression(random_state=42)],\n",
    "        \"classifier__C\": [0.05, 0.5, 1, 1e1, 1e2, 1e3, 1e5, 1e10],\n",
    "        \"classifier__tol\":[1e-1, 1e-2, 1e-4, 1e-5, 1e-6, 1e-10],\n",
    "        \"classifier__class_weight\":['balanced'],\n",
    "        \"classifier__solver\": [\"liblinear\"]\n",
    "    }\n",
    "d_logreg2 = {\n",
    "        \"estimator__classifier\": [LogisticRegression(random_state=42)],\n",
    "        \"estimator__classifier__C\": [0.05, 0.5, 1, 1e1, 1e2, 1e3, 1e5, 1e10],\n",
    "        \"estimator__classifier__tol\":[1e-1, 1e-2, 1e-4, 1e-5, 1e-6, 1e-10],\n",
    "        \"estimator__classifier__class_weight\":['balanced'],\n",
    "        \"estimator__classifier__solver\": [\"liblinear\"] #, \"newton-cg\"]\n",
    "    }\n",
    "d_rforest = {\n",
    "        \"classifier\": [RandomForestClassifier()],\n",
    "        \"classifier__criterion\": [\"entropy\"],\n",
    "        \"classifier__n_estimators\": [10, 50, 100],\n",
    "        #\"classifier__max_features\": [None, 4, 5],\n",
    "        \"classifier__max_depth\": [3, 4, 5, 6, 7, 8, None]\n",
    "    }\n",
    "\n",
    "d_lsvc = {\n",
    "        \"classifier\": [LinearSVC(random_state=42)],\n",
    "        \"classifier__C\": [0.1, 1.0, 10.0]\n",
    "}\n",
    "d_kNeighbors = {\n",
    "        \"classifier\": [KNeighborsClassifier()],\n",
    "        \"classifier__weights\": [\"uniform\", \"distance\"],\n",
    "        \"classifier__n_neighbors\": [1,3,5],\n",
    "        \"classifier__p\": [1,2]\n",
    "}\n",
    "d_kNearestCentroid = {\n",
    "        \"classifier\": [NearestCentroid()],\n",
    "        'classifier__metric': [\"euclidean\", \"manhattan\"],\n",
    "        'classifier__shrink_threshold': [None, 0.1, 1, 10]\n",
    "}\n",
    "\n",
    "# RFE müsste gewinnen!\n",
    "param_grid = [\n",
    "    #{**d_dt },\n",
    "    #{**d_scaler0_2, **d_logreg2 } # F1: \n",
    "    {**d_scaler0,**d_RFE, **d_logreg }, # F1: 0.53!\n",
    "    #{**d_scaler1,**d_humansel, **d_logreg }, # F1: 0.5!!!\n",
    "    #{**d_RFE, **d_rforest },\n",
    "    #{**d_RFE, **d_PCA, **d_dt }, # Doesn't work because RFE must be applied to complete Pipeline\n",
    "    #{**d_humansel, **d_dt}, # F1: 0.435\n",
    "    #{**d_humansel, **d_PCA, **d_logreg},\n",
    "    #{**d_humansel, **d_PCA, **d_dt}, # F1: 0.462\n",
    "    #{**d_humansel, **d_kPCA, **d_dt}, # F1: 0.469(poly), 0.4(rbf) Warning: Takes > 10min\n",
    "    #{**d_humansel, **d_PCA, **d_lsvc}, # F1: 0.39\n",
    "    #{**d_humansel, **d_PCA, **d_kNearestCentroid}, # F1: 0.45\n",
    "    #{**d_humansel, **d_scaler, **d_kNearestCentroid}, # 0.41\n",
    "    #{**d_humansel, **d_PCA, **d_kNeighbors} # F1: 0.4\n",
    "]\n",
    "\n",
    "\n",
    "def keep_or_remove_keys(list_of_dicts, keynames=[\"selector\", \"classifier\"], keep=True):\n",
    "    \"Quick'n dirty\"\n",
    "    if keep:\n",
    "        for step in list_of_dicts:\n",
    "            if step is not None:\n",
    "                step_copy = deepcopy(step)\n",
    "                for k in step_copy.keys():\n",
    "                    if not (k.startswith(\"classifier\") or k.startswith(\"selector\")):\n",
    "                        step.pop(k)\n",
    "    else: # Not keep -> remove\n",
    "        for step in list_of_dicts:\n",
    "            if step is not None:\n",
    "                step_copy = deepcopy(step)\n",
    "                for k in step_copy.keys():\n",
    "                    if k.startswith(\"classifier\") or k.startswith(\"selector\"):\n",
    "                        step.pop(k)\n",
    "    return list_of_dicts\n",
    "\n",
    "\n",
    "def handle_grid_with_RFE(param_grid):\n",
    "    # First, remove all without keys \"classifier\" or \"selector\"\n",
    "    param_grid_nRFE = deepcopy(param_grid)\n",
    "    param_grid = keep_or_remove_keys(param_grid)\n",
    "    param_grid_nRFE = keep_or_remove_keys(param_grid_nRFE, keep=False)\n",
    "\n",
    "    steps_with_RFE = [] # List with all steps with RFE\n",
    "    for step in param_grid:\n",
    "        if step[\"selector\"] == \"RFE\":\n",
    "            sel_kwargs_all = {} # All kwargs for the selector\n",
    "            step_c = deepcopy(step)\n",
    "            for k_sel in step.keys():\n",
    "                if k_sel.startswith(\"selector__\"):\n",
    "                    value = step[k_sel]\n",
    "                    k_name = k_sel.replace(\"selector__\", \"\")\n",
    "                    sel_kwargs_all.update({k_name:value})\n",
    "                    step_c.pop(k_sel)\n",
    "            #print(\"Selector kwargs:{}\".format(sel_kwargs_all))\n",
    "            #print(\"ParameterGrid:{}\".format(list(ParameterGrid(sel_kwargs_all))))\n",
    "            for sel_kwargs in list(ParameterGrid(sel_kwargs_all)):\n",
    "                substeps_with_RFE = []\n",
    "                step_with_RFE = deepcopy(step_c)\n",
    "                step_with_RFE.pop(\"selector\")\n",
    "                for s in list(ParameterGrid(step_with_RFE)):\n",
    "                    new_s = deepcopy(s) # New step!\n",
    "                    c_base = s[\"classifier\"] # Classifier base class\n",
    "                    c_class = c_base.__class__\n",
    "                    c_dict = c_base.__dict__\n",
    "                    new_kwargs = {} # dict of key word arguments\n",
    "                    for k in s.keys():\n",
    "                        if k.startswith(\"classifier__\"):\n",
    "                            value = s[k]\n",
    "                            k_name = k.replace(\"classifier__\", \"\")\n",
    "                            new_kwargs.update({k_name:value})\n",
    "                            new_s.pop(k)\n",
    "                    c_dict.update(new_kwargs)\n",
    "                    #print(\"DEBUG HERE\")\n",
    "                    #print(c_class)\n",
    "                    #print(c_dict)\n",
    "                    #try:\n",
    "                    #    d = c_dict[\"base_estimator\"]\n",
    "                    #    nclf = c_class(d)\n",
    "                    #    c_dict.pop(\"base_estimator\")\n",
    "                    #    c_dict.pop(\"estimator_params\")\n",
    "                    #except:\n",
    "                    #    print(\"no base_estimator removed\")\n",
    "                    nclf = c_class(**c_dict)\n",
    "                    new_s.update({\"classifier\":[nclf]})\n",
    "                    # nsel = RFE( **{\"estimator\":nclf, **sel_kwargs} )\n",
    "                    nsel = RFE( estimator=nclf )\n",
    "                    new_s.update({\"selector\":[nsel]})\n",
    "                    substeps_with_RFE = substeps_with_RFE + [ new_s ]\n",
    "                    #print(nc)\n",
    "                    #print(new_s)\n",
    "                    #print(substeps_with_RFE)\n",
    "                steps_with_RFE = steps_with_RFE + substeps_with_RFE\n",
    "                #param_grid.remove(step) # NACHDENKEN!\n",
    "        \n",
    "        # Finally merge back all the non-RFE related steps back to the list\n",
    "        for step in steps_with_RFE:\n",
    "            step.update(param_grid_nRFE[0])\n",
    "    return steps_with_RFE # list of RFE\n",
    "# pg = list(ParameterGrid(param_grid))\n",
    "#param_grid\n",
    "#param_grid = handle_grid_with_RFE(param_grid)\n",
    "#param_grid[0]"
   ]
  },
  {
   "cell_type": "code",
   "execution_count": 10,
   "metadata": {},
   "outputs": [],
   "source": [
    "# Store All Scores in the list\n",
    "clf_results = []"
   ]
  },
  {
   "cell_type": "code",
   "execution_count": null,
   "metadata": {},
   "outputs": [],
   "source": [
    "%%time\n",
    "#https://stackoverflow.com/questions/36683230/grid-search-with-recursive-feature-elimination-in-scikit-learn-pipeline-returns\n",
    "# WORKS! TODO: Store all results in a Pandas-DataFrame\n",
    "param_grid_all = [\n",
    "    #{**d_scaler0, **d_RFE, **d_rforest},\n",
    "    #{**d_scaler0, **d_RFE, **d_extratrees},\n",
    "    {**d_scaler0, **d_RFE, **d_dt }, # F1: 0.53!\n",
    "    {**d_scaler0, **d_RFE, **d_logreg } # F1: 0.53!\n",
    "]\n",
    "\n",
    "    #{**d_humansel, **d_PCA, **d_kNearestCentroid}, # F1: 0.45\n",
    "    #{**d_humansel, **d_scaler, **d_kNearestCentroid}, # 0.41\n",
    "    #{**d_humansel, **d_PCA, **d_kNeighbors} # F1: 0.4\n",
    "for param_grid_clf in param_grid_all:\n",
    "    print(param_grid_clf)\n",
    "    param_grid = handle_grid_with_RFE([param_grid_clf])\n",
    "    pg = list(ParameterGrid(d_RFE_params))\n",
    "    for rfe_kwargs in pg:\n",
    "        # Add kwargs for RFE\n",
    "        print(\"rfe_kwargs:{}\".format(rfe_kwargs))\n",
    "        for step in param_grid:\n",
    "            for rfe_key in rfe_kwargs.keys():\n",
    "                step.update({rfe_key: [ rfe_kwargs[rfe_key] ] })\n",
    "\n",
    "        grid_search = GridSearchCV(pipe, param_grid=param_grid, cv=sss, scoring=\"f1\", n_jobs=-1)\n",
    "\n",
    "        f = pd.Series(df.columns)\n",
    "        X_cols = f[~f.isin(['poi'])]\n",
    "        grid_search.fit(df[X_cols], df['poi'].values)\n",
    "        #best_clf = grid_search.best_estimator_\n",
    "        # Store selected feature names\n",
    "        best_selector = grid_search.best_estimator_.named_steps[\"selector\"]\n",
    "        # X_cols[best_selector.support_].tolist() # Get the feature names\n",
    "        clf_results.append( {\n",
    "                \"score\": grid_search.best_score_,\n",
    "                \"best_estimator\": grid_search.best_estimator_,\n",
    "                \"best_params_\": grid_search.best_params_\n",
    "                #\"best_selector\": best_selector\n",
    "            } )"
   ]
  },
  {
   "cell_type": "code",
   "execution_count": null,
   "metadata": {},
   "outputs": [],
   "source": [
    "%%time\n",
    "\n",
    "# KEEP ME! RFE-Nested Approach. Problems with joblib --> n_jobs=1\n",
    "\n",
    "# https://www.w3cschool.cn/doc_scikit_learn/scikit_learn-modules-pipeline.html\n",
    "# TODO: First do manual feature selection by thinking.\n",
    "\n",
    "class myPipe(Pipeline):\n",
    "    def fit(self, X,y):\n",
    "        \"\"\"Calls last elements .coef_ method.\n",
    "        Based on the sourcecode for decision_function(X).\n",
    "        Link: https://github.com/scikit-learn/scikit-learn/blob/master/sklearn/pipeline.py\n",
    "        ----------\n",
    "        \"\"\"\n",
    "        super(myPipe, self).fit(X,y)\n",
    "        #self.coef_=self.steps[-1][-1].coef_\n",
    "        self.coef_=self.steps[-1][-1].feature_importances_\n",
    "        return\n",
    "\n",
    "pipe_params = [\n",
    "    (\"scaler0\", None),\n",
    "    (\"selector\", None),\n",
    "    (\"classifier\", None)\n",
    "]\n",
    "d_scaler0_2 = {\n",
    "        \"estimator__scaler0\": [StandardScaler(), MaxAbsScaler()] #, MinMaxScaler()]\n",
    "    }\n",
    "d_dt2 = {\n",
    "        \"estimator__classifier\": [DecisionTreeClassifier(random_state=42)],\n",
    "        \"estimator__classifier__criterion\": [\"entropy\"],\n",
    "        \"estimator__classifier__max_depth\": [9,None] # [5,6,7,8,9,10,11, None]\n",
    "        #\"classifier__max_depth\": [5,6,7,8,9,10,11, None]\n",
    "        #\"classifier__min_samples_leaf\": [1,2,3,4,5] # Makes it worse\n",
    "    }\n",
    "\n",
    "d_logreg2 = {\n",
    "        \"estimator__classifier\": [LogisticRegression(random_state=42)],\n",
    "        \"estimator__classifier__C\": [0.05, 0.5, 1, 1e1, 1e2, 1e3, 1e5, 1e10],\n",
    "        \"estimator__classifier__tol\":[1e-1, 1e-2, 1e-4, 1e-5, 1e-6, 1e-10],\n",
    "        \"estimator__classifier__class_weight\":['balanced'],\n",
    "        \"estimator__classifier__solver\": [\"liblinear\"] #, \"newton-cg\"]\n",
    "    }\n",
    "d_rforest_2 = {\n",
    "        \"estimator__classifier\": [RandomForestClassifier()],\n",
    "        \"estimator__classifier__criterion\": [\"entropy\"],\n",
    "        \"estimator__classifier__n_estimators\": [10, 50, 100],\n",
    "        #\"classifier__max_features\": [None, 4, 5],\n",
    "        \"estimator__classifier__max_depth\": [3, 4, 5, 6, 7, 8, None]\n",
    "    }\n",
    "d_RFE_params_2 = {\n",
    "        \"n_features_to_select\": [None, 3,4,5,6,7,8,9,10,11,12,13,14,15,16]\n",
    "}\n",
    "\n",
    "pipe = Pipeline(pipe_params)\n",
    "mypipe = myPipe(pipe_params)\n",
    "\n",
    "param_grid_all = [\n",
    "    #{**d_scaler0_2, **d_dt2},\n",
    "    {**d_scaler0_2, **d_rforest_2},\n",
    "    #{**d_scaler0, **d_RFE, **d_extratrees},\n",
    "]\n",
    "\n",
    "\n",
    "for param_grid_clf in param_grid_all:\n",
    "    print(param_grid_clf)\n",
    "    #param_grid = handle_grid_with_RFE([param_grid_clf])\n",
    "    pg = list(ParameterGrid(d_RFE_params_2))\n",
    "    for rfe_kwargs in pg:\n",
    "        # Add kwargs for RFE\n",
    "        print(\"rfe_kwargs:{}\".format(rfe_kwargs))\n",
    "\n",
    "        selector = RFE(**{\"estimator\":mypipe, **rfe_kwargs})\n",
    "        grid_search = GridSearchCV(selector, param_grid=[param_grid_clf], cv=sss, scoring=\"f1\", n_jobs=1)\n",
    "\n",
    "        f = pd.Series(df.columns)\n",
    "        grid_search.fit(df[f[~f.isin(['poi'])]], df['poi'].values)\n",
    "        clf_results.append( {\n",
    "            \"score\": grid_search.best_score_,\n",
    "            \"best_estimator\": grid_search.best_estimator_,\n",
    "            \"best_params_\": grid_search.best_params_\n",
    "        } )"
   ]
  },
  {
   "cell_type": "code",
   "execution_count": null,
   "metadata": {},
   "outputs": [],
   "source": [
    "# Human selector: Apply DataFrameSelector\n",
    "\n",
    "%%time\n",
    "\n",
    "pipe_params = [\n",
    "    #(\"selector0\", None),\n",
    "    (\"selector\", None),\n",
    "    (\"scaler0\", None),\n",
    "    #(\"dimreducer\", None),\n",
    "    (\"classifier\", None)\n",
    "]\n",
    "\n",
    "pipe = Pipeline(pipe_params)\n",
    "\n",
    "\n",
    "# Neue Pipeline mit DataFrameSelector am Anfang machen\n",
    "param_grid_all = [\n",
    "    {**d_dt }, # F1: 0.53!\n",
    "    {**d_humansel, **d_dt }, # F1: 0.53!\n",
    "    {**d_scaler0, **d_humansel, **d_dt }, # F1: 0.53!\n",
    "    #{**d_scaler0, **d_PCA_only, **d_dt }, # WORKS\n",
    "\n",
    "    {**d_logreg },\n",
    "    {**d_scaler0, **d_logreg}, # WORKS\n",
    "    {**d_scaler0, **d_humansel, **d_logreg}, # WORKS\n",
    "    #{**d_scaler0, **d_PCA_only, **d_logreg },\n",
    "\n",
    "    {**d_kNearestCentroid}, # F1: WORKS\n",
    "    {**d_scaler0, **d_kNearestCentroid}, # F1: WORKS\n",
    "    {**d_scaler0, **d_humansel, **d_kNearestCentroid}, # F1: WORKS\n",
    "    #{**d_scaler0, **d_PCA_only, **d_kNearestCentroid}, # F1: 0.47\n",
    "    \n",
    "    {**d_rforest},\n",
    "    {**d_scaler0, **d_rforest},\n",
    "    {**d_scaler0, **d_humansel, **d_rforest}\n",
    "    #{**d_scaler0, **d_PCA_only, **d_rforest }, # WORKS\n",
    "]\n",
    "\n",
    "\n",
    "for param_grid_clf in param_grid_all:\n",
    "    pg=[param_grid_clf]\n",
    "    print(pg)\n",
    "    grid_search = GridSearchCV(pipe, param_grid=pg, cv=sss, scoring=\"f1\", n_jobs=-1)\n",
    "\n",
    "    f = pd.Series(df.columns)\n",
    "    X_cols = f[~f.isin(['poi'])]\n",
    "    grid_search.fit(df[X_cols], df['poi'].values)\n",
    "    clf_results.append( {\n",
    "            \"score\": grid_search.best_score_,\n",
    "            \"best_estimator\": grid_search.best_estimator_,\n",
    "            \"best_params_\": grid_search.best_params_\n",
    "        } )\n",
    "        #break"
   ]
  },
  {
   "cell_type": "code",
   "execution_count": null,
   "metadata": {},
   "outputs": [],
   "source": [
    "%%time\n",
    "# PCA and SelectLBest\n",
    "pipe_params = [\n",
    "    #(\"selector\", None),\n",
    "    (\"scaler0\", None),\n",
    "    (\"selector\", None),\n",
    "    (\"classifier\", None)\n",
    "]\n",
    "\n",
    "pipe = Pipeline(pipe_params)\n",
    "\n",
    "\n",
    "param_grid_all = [\n",
    "    {**d_scaler0, **d_PCA_only, **d_kNearestCentroid}, # F1: 0.47\n",
    "    {**d_scaler0, **d_PCA_only, **d_logreg }, # F1: 0.53!\n",
    "    {**d_scaler0, **d_PCA_only, **d_dt }, # WORKS\n",
    "    {**d_scaler0, **d_PCA_only, **d_rforest }, # WORKS\n",
    "    {**d_scaler0, **d_SelectKBest_only, **d_dt }, # F1: 0.53!\n",
    "    {**d_scaler0, **d_SelectKBest_only, **d_logreg }, # F1: 0.53!\n",
    "    {**d_scaler0, **d_SelectKBest_only, **d_kNearestCentroid}, # F1: 0.47\n",
    "    {**d_scaler0, **d_SelectKBest_only, **d_rforest},\n",
    "]\n",
    "\n",
    "for param_grid_clf in param_grid_all:\n",
    "    pg=[param_grid_clf]\n",
    "    print(pg)\n",
    "    grid_search = GridSearchCV(pipe, param_grid=pg, cv=sss, scoring=\"f1\", n_jobs=-1)\n",
    "\n",
    "    f = pd.Series(df.columns)\n",
    "    X_cols = f[~f.isin(['poi'])]\n",
    "    grid_search.fit(df[X_cols], df['poi'].values)\n",
    "    clf_results.append( {\n",
    "            \"score\": grid_search.best_score_,\n",
    "            \"best_estimator\": grid_search.best_estimator_,\n",
    "            \"best_params_\": grid_search.best_params_\n",
    "        } )\n",
    "        #break"
   ]
  },
  {
   "cell_type": "code",
   "execution_count": 511,
   "metadata": {},
   "outputs": [
    {
     "name": "stdout",
     "output_type": "stream",
     "text": [
      "yes\n"
     ]
    }
   ],
   "source": [
    "some_list = [\"aldk\", \"def\", \"abc\", \"asd\"]\n",
    "if any(\"abc\" == s for s in some_list):\n",
    "    print(\"yes\")"
   ]
  },
  {
   "cell_type": "code",
   "execution_count": 534,
   "metadata": {
    "scrolled": true
   },
   "outputs": [],
   "source": [
    "def clf_extract_stats(clf_list):\n",
    "    \"\"\"Function to extract some results from the list of (best) classifiers\"\"\"\n",
    "    f = pd.Series(df.columns)\n",
    "    X_cols = f[~f.isin(['poi'])]\n",
    "    # X_cols[best_selector.support_].tolist() # Get the feature names\n",
    "    new_list = []\n",
    "    for clf in clf_list:\n",
    "        c = clf[\"best_params_\"]\n",
    "        e = clf[\"best_estimator\"]\n",
    "        cn = {}\n",
    "        for ckey in clf.keys(): # Add scores to result if available\n",
    "            if any(ckey == s for s in [\"accuracy\",\"precision\",\"recall\",\"f1\",\"f2\"]):\n",
    "                cn[ckey] = clf[ckey]\n",
    "        cn[\"score\"] = clf[\"score\"]\n",
    "        for k in c.keys():\n",
    "            #print(k)\n",
    "            n = c[k].__class__.__name__ # :-D\n",
    "            cn[k] = n\n",
    "        try:\n",
    "            cn[\"selector\"]\n",
    "            if cn[\"selector\"] == \"SelectKBest\":\n",
    "                cn[\"features\"] = X_cols[ c[\"selector\"].get_support() ].tolist() # Get the feature names\n",
    "                cn[\"n_features\"] = len(cn[\"features\"])\n",
    "            if cn[\"selector\"] == \"RFE\":\n",
    "                cn[\"features\"] = X_cols[ c[\"selector\"].support_ ].tolist() # Get the feature names\n",
    "                cn[\"n_features\"] = c[\"selector\"].n_features_ #len(cn[\"features\"])\n",
    "            if cn[\"selector\"] == \"DataFrameSelector\":\n",
    "                cn[\"features\"] = c[\"selector__attribute_names\"]\n",
    "                cn[\"n_features\"] = len(cn[\"features\"])\n",
    "            if cn[\"selector\"] == \"PCA\":\n",
    "                #print(\"PCA!!!!!!!!!!!!!\")\n",
    "                cn[\"n_features\"] = c[\"selector__n_components\"]\n",
    "                #print(\"PCAn:{}\".format(cn[\"n_features\"]))\n",
    "            try:\n",
    "                cn[\"selector__n_features_to_select\"]\n",
    "                cn[\"selector__n_features_to_select\"] = c[\"selector__n_features_to_select\"]\n",
    "            except KeyError:\n",
    "                pass\n",
    "                #print(\"KE\")\n",
    "        except KeyError:\n",
    "            pass\n",
    "            #print(\"KeyError: No selector\")\n",
    "        try:\n",
    "            cn[\"estimator__classifier\"]\n",
    "            cn[\"classifier\"] = c[\"estimator__classifier\"].__class__.__name__\n",
    "            cn[\"selector\"] = \"RFE\"\n",
    "            cn[\"n_features\"] = e.n_features_\n",
    "            cn[\"features\"] = X_cols[ e.support_ ].tolist()\n",
    "        except:\n",
    "            pass\n",
    "            #print(\"KeyError: No RFE withe nested estimator\")\n",
    "        new_list.append(cn)\n",
    "        #print(cn)\n",
    "    return new_list\n",
    "\n",
    "df_results = pd.DataFrame.from_dict(clf_results)\n",
    "clf_results_h = clf_extract_stats(clf_results)\n",
    "df_results_h = pd.DataFrame.from_dict(clf_results_h)\n",
    "#HTML(df_results_h.to_html())\n",
    "#clf_results[34][\"best_params_\"][\"selector__attribute_names\"]"
   ]
  },
  {
   "cell_type": "code",
   "execution_count": 429,
   "metadata": {},
   "outputs": [],
   "source": [
    "#df_results[\"best_estimator\"].iloc[41].n_features_"
   ]
  },
  {
   "cell_type": "code",
   "execution_count": 431,
   "metadata": {
    "scrolled": true
   },
   "outputs": [],
   "source": [
    "clf_results_h = clf_extract_stats(clf_results)\n",
    "df_results_h = pd.DataFrame.from_dict(clf_results_h)\n",
    "df_results_h[\"selector\"] = df_results_h[\"selector\"].fillna(\"No selector\")\n",
    "df_results_h.sort_values([\"classifier\", \"selector\"])\n",
    "#df_results_h[\"dimreducer\"] = df_results_h[\"dimreducer\"].fillna(\"No reducer\")\n",
    "df_results_h_grp = df_results_h.groupby([\"classifier\", \"selector\"])\n",
    "df_result = pd.DataFrame() #(columns=[\"scaler0\", \"selector\", \"n_features\", \"features\", \"classifier\"])\n",
    "for grp, result in df_results_h_grp:\n",
    "    #print(grp)\n",
    "    posmax = result[\"score\"].idxmax()\n",
    "    #print(posmax)\n",
    "    df_row = result[[\"score\", \"scaler0\", \"selector\", \"n_features\", \"features\", \"classifier\"]].loc[posmax]\n",
    "    #print(df_row)\n",
    "    df_result = df_result.append(df_row, ignore_index=True)\n",
    "#HTML(df_result.to_html())"
   ]
  },
  {
   "cell_type": "markdown",
   "metadata": {},
   "source": [
    "## Selecting the Best Classifier and Pipeline\n",
    "\n",
    "The following figure compares all combinations of every best classifier with a feature selection function."
   ]
  },
  {
   "cell_type": "code",
   "execution_count": 118,
   "metadata": {
    "scrolled": false
   },
   "outputs": [
    {
     "data": {
      "image/png": "[encoded data removed]",
      "text/plain": [
       "<Figure size 1008x504 with 1 Axes>"
      ]
     },
     "metadata": {
      "needs_background": "light"
     },
     "output_type": "display_data"
    }
   ],
   "source": [
    "plt.figure(figsize=(14,7))\n",
    "COLORS = 'bgrcmyk'\n",
    "alignment = {'horizontalalignment': 'center', 'verticalalignment': 'baseline'}\n",
    "\n",
    "df_result_grp = df_result.groupby([\"classifier\"])\n",
    "nlabels = 5\n",
    "ngroups = 5 #len(df_result_grp)\n",
    "bar_offsets = pd.Series(index=np.sort(df_result[\"selector\"].unique()), data=np.arange(ngroups) * (nlabels + 1) + .5)\n",
    "xticks = []\n",
    "xlabels = []\n",
    "for i, (cname, elements) in enumerate(df_result_grp):\n",
    "    X = bar_offsets[elements[\"selector\"]] + i\n",
    "    plt.bar(X, elements[\"score\"], label=cname)\n",
    "    xticks.append(list(X))\n",
    "    xlabels.append(list(elements[\"n_features\"])) # + \", \" + str(elements[\"features\"]) ))\n",
    "\n",
    "l = zip(bar_offsets.index,bar_offsets.values)\n",
    "for name, x in l:\n",
    "    plt.text(x+1.5, 0.518, name, size='large', **alignment)\n",
    "plt.title(\"Comparing feature reduction techniques\")\n",
    "plt.xlabel('Best number of features')\n",
    "\n",
    "xpos = [item for sublist in xticks for item in sublist]\n",
    "xlab = [item for sublist in xlabels for item in sublist]\n",
    "plt.xticks(xpos, xlab, rotation=90)\n",
    "\n",
    "plt.ylabel('Classifier F1 score')\n",
    "#plt.ylim((0, 1))\n",
    "plt.legend(loc='lower left')\n",
    "\n",
    "plt.show()"
   ]
  },
  {
   "cell_type": "markdown",
   "metadata": {},
   "source": [
    "- The best scoring classifier is the LogisticRegression with RFE.\n",
    "- Number 2 is `NearestCentroid`, showing a robust performance with all feature selection functions.\n",
    "- The pre-selected feature combinations with the DataFrameSelector shows the \"most solid\" performance with all classifiers.\n",
    "- RFE performs surprisingly bad with `DecisionTreeClassifier` and `RandomForest`. A possible explanation is given in this blog post: [Beware Default Random Forest Importances](https://explained.ai/rf-importance/index.html)\n",
    "- However, the `DecisionTreeClassifier` and `RandomForest` constitute very simple classifiers with just a few features.\n",
    "- Note that the magnitudes may change a bit when the number of folds is increased from 100 to 1000.\n",
    "\n",
    "The complete list of the best pipelines with the selected features is shown in the following table. \"NaN\" inidcates that all features are applied."
   ]
  },
  {
   "cell_type": "code",
   "execution_count": 438,
   "metadata": {},
   "outputs": [
    {
     "data": {
      "text/html": [
       "<table border=\"1\" class=\"dataframe\">\n",
       "  <thead>\n",
       "    <tr style=\"text-align: right;\">\n",
       "      <th></th>\n",
       "      <th>score</th>\n",
       "      <th>classifier</th>\n",
       "      <th>selector</th>\n",
       "      <th>n_features</th>\n",
       "      <th>features</th>\n",
       "    </tr>\n",
       "  </thead>\n",
       "  <tbody>\n",
       "    <tr>\n",
       "      <th>0</th>\n",
       "      <td>0.512508</td>\n",
       "      <td>LogisticRegression</td>\n",
       "      <td>RFE</td>\n",
       "      <td>10.0</td>\n",
       "      <td>[total_stock_value, expenses, from_messages, total_stock_value_corr, total_cash, bonus_to_salary, fraction_exercised_stock_options, fraction_restricted_stock_deferred, fraction_employer_stock_cash, fraction_from_this_person_to_poi]</td>\n",
       "    </tr>\n",
       "    <tr>\n",
       "      <th>1</th>\n",
       "      <td>0.499619</td>\n",
       "      <td>NearestCentroid</td>\n",
       "      <td>DataFrameSelector</td>\n",
       "      <td>10.0</td>\n",
       "      <td>[to_messages, from_messages, fraction_from_poi_to_this_person, fraction_shared_receipt_with_poi, fraction_from_this_person_to_poi, total_payments_corr, total_stock_value_corr, bonus_to_salary, fraction_deferred_income, fraction_restricted_stock_deferred]</td>\n",
       "    </tr>\n",
       "    <tr>\n",
       "      <th>2</th>\n",
       "      <td>0.497714</td>\n",
       "      <td>NearestCentroid</td>\n",
       "      <td>No selector</td>\n",
       "      <td>NaN</td>\n",
       "      <td>NaN</td>\n",
       "    </tr>\n",
       "    <tr>\n",
       "      <th>3</th>\n",
       "      <td>0.497343</td>\n",
       "      <td>LogisticRegression</td>\n",
       "      <td>PCA</td>\n",
       "      <td>7.0</td>\n",
       "      <td>NaN</td>\n",
       "    </tr>\n",
       "    <tr>\n",
       "      <th>4</th>\n",
       "      <td>0.481589</td>\n",
       "      <td>LogisticRegression</td>\n",
       "      <td>SelectKBest</td>\n",
       "      <td>15.0</td>\n",
       "      <td>[total_payments, loan_advances, total_stock_value, expenses, other, total_payments_corr, total_stock_value_corr, total_cash, bonus_to_salary, fraction_salary, fraction_bonus, fraction_employer_stock_cash, fraction_from_poi_to_this_person, fraction_shared_receipt_with_poi, fraction_from_this_person_to_poi]</td>\n",
       "    </tr>\n",
       "    <tr>\n",
       "      <th>5</th>\n",
       "      <td>0.478422</td>\n",
       "      <td>LogisticRegression</td>\n",
       "      <td>No selector</td>\n",
       "      <td>NaN</td>\n",
       "      <td>NaN</td>\n",
       "    </tr>\n",
       "    <tr>\n",
       "      <th>6</th>\n",
       "      <td>0.477180</td>\n",
       "      <td>LogisticRegression</td>\n",
       "      <td>DataFrameSelector</td>\n",
       "      <td>10.0</td>\n",
       "      <td>[to_messages, from_messages, fraction_from_poi_to_this_person, fraction_shared_receipt_with_poi, fraction_from_this_person_to_poi, total_payments_corr, total_stock_value_corr, bonus_to_salary, fraction_deferred_income, fraction_restricted_stock_deferred]</td>\n",
       "    </tr>\n",
       "    <tr>\n",
       "      <th>7</th>\n",
       "      <td>0.469714</td>\n",
       "      <td>RandomForestClassifier</td>\n",
       "      <td>DataFrameSelector</td>\n",
       "      <td>3.0</td>\n",
       "      <td>[total_cash, fraction_deferred_income, fraction_restricted_stock_deferred]</td>\n",
       "    </tr>\n",
       "    <tr>\n",
       "      <th>8</th>\n",
       "      <td>0.466279</td>\n",
       "      <td>NearestCentroid</td>\n",
       "      <td>PCA</td>\n",
       "      <td>NaN</td>\n",
       "      <td>NaN</td>\n",
       "    </tr>\n",
       "    <tr>\n",
       "      <th>9</th>\n",
       "      <td>0.463567</td>\n",
       "      <td>NearestCentroid</td>\n",
       "      <td>SelectKBest</td>\n",
       "      <td>15.0</td>\n",
       "      <td>[total_payments, loan_advances, total_stock_value, expenses, other, total_payments_corr, total_stock_value_corr, total_cash, bonus_to_salary, fraction_salary, fraction_bonus, fraction_employer_stock_cash, fraction_from_poi_to_this_person, fraction_shared_receipt_with_poi, fraction_from_this_person_to_poi]</td>\n",
       "    </tr>\n",
       "    <tr>\n",
       "      <th>10</th>\n",
       "      <td>0.435333</td>\n",
       "      <td>DecisionTreeClassifier</td>\n",
       "      <td>DataFrameSelector</td>\n",
       "      <td>8.0</td>\n",
       "      <td>[to_messages, from_messages, fraction_from_poi_to_this_person, fraction_shared_receipt_with_poi, fraction_from_this_person_to_poi, total_cash, fraction_deferred_income, fraction_restricted_stock_deferred]</td>\n",
       "    </tr>\n",
       "    <tr>\n",
       "      <th>11</th>\n",
       "      <td>0.416952</td>\n",
       "      <td>DecisionTreeClassifier</td>\n",
       "      <td>RFE</td>\n",
       "      <td>14.0</td>\n",
       "      <td>[expenses, other, total_stock_value_corr, total_cash, bonus_to_salary, fraction_salary, fraction_deferred_income, fraction_exercised_stock_options, fraction_restricted_stock_deferred, fraction_restricted_stock, fraction_employer_direct_cash, fraction_employer_stock_cash, fraction_shared_receipt_with_poi, fraction_from_this_person_to_poi]</td>\n",
       "    </tr>\n",
       "    <tr>\n",
       "      <th>12</th>\n",
       "      <td>0.394548</td>\n",
       "      <td>DecisionTreeClassifier</td>\n",
       "      <td>No selector</td>\n",
       "      <td>NaN</td>\n",
       "      <td>NaN</td>\n",
       "    </tr>\n",
       "    <tr>\n",
       "      <th>13</th>\n",
       "      <td>0.374000</td>\n",
       "      <td>RandomForestClassifier</td>\n",
       "      <td>RFE</td>\n",
       "      <td>4.0</td>\n",
       "      <td>[expenses, other, total_cash, fraction_from_this_person_to_poi]</td>\n",
       "    </tr>\n",
       "    <tr>\n",
       "      <th>14</th>\n",
       "      <td>0.373778</td>\n",
       "      <td>DecisionTreeClassifier</td>\n",
       "      <td>SelectKBest</td>\n",
       "      <td>15.0</td>\n",
       "      <td>[total_payments, loan_advances, total_stock_value, expenses, other, total_payments_corr, total_stock_value_corr, total_cash, bonus_to_salary, fraction_salary, fraction_bonus, fraction_employer_stock_cash, fraction_from_poi_to_this_person, fraction_shared_receipt_with_poi, fraction_from_this_person_to_poi]</td>\n",
       "    </tr>\n",
       "    <tr>\n",
       "      <th>15</th>\n",
       "      <td>0.354333</td>\n",
       "      <td>RandomForestClassifier</td>\n",
       "      <td>SelectKBest</td>\n",
       "      <td>15.0</td>\n",
       "      <td>[total_payments, loan_advances, total_stock_value, expenses, other, total_payments_corr, total_stock_value_corr, total_cash, bonus_to_salary, fraction_salary, fraction_bonus, fraction_employer_stock_cash, fraction_from_poi_to_this_person, fraction_shared_receipt_with_poi, fraction_from_this_person_to_poi]</td>\n",
       "    </tr>\n",
       "    <tr>\n",
       "      <th>16</th>\n",
       "      <td>0.350667</td>\n",
       "      <td>RandomForestClassifier</td>\n",
       "      <td>No selector</td>\n",
       "      <td>NaN</td>\n",
       "      <td>NaN</td>\n",
       "    </tr>\n",
       "    <tr>\n",
       "      <th>17</th>\n",
       "      <td>0.327071</td>\n",
       "      <td>DecisionTreeClassifier</td>\n",
       "      <td>PCA</td>\n",
       "      <td>10.0</td>\n",
       "      <td>NaN</td>\n",
       "    </tr>\n",
       "    <tr>\n",
       "      <th>18</th>\n",
       "      <td>0.265667</td>\n",
       "      <td>RandomForestClassifier</td>\n",
       "      <td>PCA</td>\n",
       "      <td>4.0</td>\n",
       "      <td>NaN</td>\n",
       "    </tr>\n",
       "  </tbody>\n",
       "</table>"
      ],
      "text/plain": [
       "<IPython.core.display.HTML object>"
      ]
     },
     "metadata": {},
     "output_type": "display_data"
    }
   ],
   "source": [
    "old_width = pd.get_option('display.max_colwidth')\n",
    "pd.set_option('display.max_colwidth', -1)\n",
    "#open('some_file.html', 'w').write(some_data.to_html())\n",
    "#display(HTML(df_result[[\"score\",\"classifier\",\"selector\",\"n_features\", \"features\"]].sort_values([\"score\"], ascending=False).head(10).to_html()))\n",
    "display(HTML(df_result[\n",
    "        [\"score\",\"classifier\",\"selector\",\"n_features\", \"features\"]\n",
    "    ].sort_values([\"score\"], ascending=False).reset_index().drop(\"index\",axis=1).to_html()))\n",
    "pd.set_option('display.max_colwidth', old_width)"
   ]
  },
  {
   "cell_type": "markdown",
   "metadata": {},
   "source": [
    "It is worth to point out, that the best performing RandomForest uses three features only, namely [total_cash, fraction_deferred_income, fraction_restricted_stock_deferred], making use of the very common human perception that \"high performers\" with insider knowledge are likely evil criminals at the same time."
   ]
  },
  {
   "cell_type": "code",
   "execution_count": 175,
   "metadata": {},
   "outputs": [],
   "source": [
    "c = df_result[\"classifier\"]==\"RandomForestClassifier\"\n",
    "best_score_rf = df_result[\"score\"][c].max()\n",
    "best_rf_features = df_result.loc[df_result[\"score\"][c].idxmax(), \"features\"]\n",
    "best_rf = df_results.loc[ df_results[\"score\"]==best_score_rf, \"best_estimator\"].values[0]"
   ]
  },
  {
   "cell_type": "code",
   "execution_count": 434,
   "metadata": {},
   "outputs": [],
   "source": [
    "#best_rf.named_steps[\"selector\"]"
   ]
  },
  {
   "cell_type": "markdown",
   "metadata": {},
   "source": [
    "## Comparing The Best Results Using the Tester\n",
    "\n",
    "The pipeline with the best classifiers of each class is calculated again using the best scoring set of features and a more fine grained parameter grid. The reliability of the metrics and scores is increased through increase of n_splits to 1000.\n",
    "Finally, the optimization of the `LogisticRegression` is implemented in `poi_id.py` to generate the result files."
   ]
  },
  {
   "cell_type": "code",
   "execution_count": 620,
   "metadata": {},
   "outputs": [],
   "source": [
    "# Use best class of features\n",
    "sss_final = StratifiedShuffleSplit(n_splits=1000, random_state=42) # Applied for ALL models\n",
    "\n",
    "d_bestsel = {\n",
    "        \"selector\": [DataFrameSelector()],\n",
    "        \"selector__attribute_names\": [\n",
    "                                  [\"total_cash\", \"fraction_deferred_income\", \"fraction_restricted_stock_deferred\"],\n",
    "                                  [\"total_stock_value\", \"expenses\", \"from_messages\", \"total_stock_value_corr\", \"total_cash\",\n",
    "                                  \"bonus_to_salary\", \"fraction_exercised_stock_options\", \"fraction_restricted_stock_deferred\",\n",
    "                                  \"fraction_employer_stock_cash\", \"fraction_from_this_person_to_poi\"]\n",
    "                                 ]\n",
    "    }\n",
    "d_logreg = {\n",
    "        \"classifier\": [LogisticRegression(random_state=42)],\n",
    "        \"classifier__C\": [0.02, 0.03, 0.04, 0.05, 0.5, 1, 1e1, 1e2, 1e3, 1e5, 1e10],\n",
    "        \"classifier__tol\":[1e-1, 1e-2, 1e-3, 1e-4, 1e-5, 1e-6, 1e-10],\n",
    "        \"classifier__class_weight\":['balanced'],\n",
    "        \"classifier__solver\": [\"liblinear\"]\n",
    "    }\n",
    "d_dt_fine = {\n",
    "        \"classifier\": [DecisionTreeClassifier(random_state=42)],\n",
    "        \"classifier__criterion\": [\"entropy\"],\n",
    "        \"classifier__max_depth\": [5,6,7,8,9,10,11, None],\n",
    "        \"classifier__min_samples_leaf\": [1,2,3,4,5] # Makes it worse\n",
    "    }\n",
    "\n",
    "d_PCA_2 = {\n",
    "        \"dimreducer\": [PCA(random_state=42)],\n",
    "        \"dimreducer__n_components\": [None, 0.97, 0.94, 0.9, 0.8] # [None,3,4,5,6,7],\n",
    "    }\n",
    "clf_best_results = []  # The best classifiers are stored in a list."
   ]
  },
  {
   "cell_type": "code",
   "execution_count": 621,
   "metadata": {},
   "outputs": [
    {
     "name": "stdout",
     "output_type": "stream",
     "text": [
      "CPU times: user 2min 32s, sys: 1.49 s, total: 2min 34s\n",
      "Wall time: 3min\n"
     ]
    }
   ],
   "source": [
    "%%time\n",
    "\n",
    "pipe_params = [\n",
    "    #(\"selector0\", None),\n",
    "    (\"selector\", None),\n",
    "    (\"scaler0\", None),\n",
    "    #(\"dimreducer\", None),\n",
    "    (\"classifier\", None)\n",
    "]\n",
    "\n",
    "pipe = Pipeline(pipe_params)\n",
    "\n",
    "\n",
    "# Neue Pipeline mit DataFrameSelector am Anfang machen\n",
    "param_grid_all = [\n",
    "    {**d_bestsel, **d_dt_fine }, # Accuracy: 0.87207\tPrecision: 0.52920\tRecall: 0.36700\tF1: 0.43342\tF2: 0.39097\n",
    "    ##{**d_scaler0, **d_bestsel, **d_PCA_2, **d_dt_fine }, # Accuracy: 0.87207\tPrecision: 0.52920\tRecall: 0.36700\tF1: 0.43342\tF2: 0.39097\n",
    "    {**d_scaler0, **d_bestsel, **d_logreg}, # Accuracy: 0.77980\tPrecision: 0.36862\tRecall: 0.91400\tF1: 0.52536\tF2: 0.70530\n",
    "\n",
    "    \n",
    "    ##{**d_scaler0, **d_kNearestCentroid}, # Most simple one!\n",
    "    {**d_scaler0, **d_bestsel, **d_kNearestCentroid}, # F1: WORKS\n",
    "    \n",
    "    {**d_scaler0, **d_bestsel, **d_rforest} # Remove to make it work!\n",
    "    ##{**d_bestsel, **d_rforest} # Remove to make it work!\n",
    "]\n",
    "\n",
    "\n",
    "for param_grid_clf in param_grid_all:\n",
    "    pg=[param_grid_clf]\n",
    "    #print(pg)\n",
    "    grid_search = GridSearchCV(pipe, param_grid=pg, cv=sss, scoring=\"f1\", n_jobs=-1)\n",
    "\n",
    "    f = pd.Series(df.columns)\n",
    "    X_cols = f[~f.isin(['poi'])]\n",
    "    grid_search.fit(df[X_cols], df['poi'].values)\n",
    "    clf_best_results.append( {\n",
    "            \"score\": grid_search.best_score_,\n",
    "            \"best_estimator\": grid_search.best_estimator_,\n",
    "            \"best_params_\": grid_search.best_params_\n",
    "        } )"
   ]
  },
  {
   "cell_type": "code",
   "execution_count": 622,
   "metadata": {
    "scrolled": true
   },
   "outputs": [],
   "source": [
    "#%%time\n",
    "score_list = [c[\"score\"] for c in clf_best_results]\n",
    "best_params = clf_best_results[np.argmax(score_list)][\"best_params_\"]\n",
    "\n",
    "pipe_final_params = [\n",
    "    (\"scaler0\", best_params[\"scaler0\"]),\n",
    "    #(\"dimreducer\", best_estimator.named_steps[\"dimreducer\"]),\n",
    "    (\"classifier\", best_params[\"classifier\"])\n",
    "]\n",
    "\n",
    "pipe_final = Pipeline(pipe_final_params)\n",
    "features_final = best_params[\"selector__attribute_names\"]\n",
    "#features_final\n",
    "#X_cols.tolist()#, df['poi'].values"
   ]
  },
  {
   "cell_type": "markdown",
   "metadata": {},
   "source": [
    "The Pipeline and the selected features of the best classifier are extracted from the list of best results, in order to call Udacity's `test_classifier` in the next step."
   ]
  },
  {
   "cell_type": "code",
   "execution_count": 629,
   "metadata": {
    "scrolled": true
   },
   "outputs": [],
   "source": [
    "#print(\"Best F1 score:{}\".format(max(score_list)))"
   ]
  },
  {
   "cell_type": "code",
   "execution_count": 630,
   "metadata": {},
   "outputs": [
    {
     "data": {
      "text/plain": [
       "Pipeline(memory=None,\n",
       "     steps=[('scaler0', StandardScaler(copy=True, with_mean=True, with_std=True)), ('classifier', LogisticRegression(C=0.04, class_weight='balanced', dual=False,\n",
       "          fit_intercept=True, intercept_scaling=1, max_iter=100,\n",
       "          multi_class='warn', n_jobs=None, penalty='l2', random_state=42,\n",
       "          solver='liblinear', tol=0.01, verbose=0, warm_start=False))])"
      ]
     },
     "execution_count": 630,
     "metadata": {},
     "output_type": "execute_result"
    }
   ],
   "source": [
    "pipe_final"
   ]
  },
  {
   "cell_type": "code",
   "execution_count": 631,
   "metadata": {},
   "outputs": [
    {
     "name": "stdout",
     "output_type": "stream",
     "text": [
      "['total_stock_value', 'expenses', 'from_messages', 'total_stock_value_corr', 'total_cash', 'bonus_to_salary', 'fraction_exercised_stock_options', 'fraction_restricted_stock_deferred', 'fraction_employer_stock_cash', 'fraction_from_this_person_to_poi']\n"
     ]
    }
   ],
   "source": [
    "print(features_final)"
   ]
  },
  {
   "cell_type": "markdown",
   "metadata": {},
   "source": [
    "`test_classifier` is called here to provide the result for reference. Please note that the results might be slightly different, when a different versions of the Sklearn is used."
   ]
  },
  {
   "cell_type": "code",
   "execution_count": 632,
   "metadata": {},
   "outputs": [
    {
     "name": "stdout",
     "output_type": "stream",
     "text": [
      "Pipeline(memory=None,\n",
      "     steps=[('scaler0', StandardScaler(copy=True, with_mean=True, with_std=True)), ('classifier', LogisticRegression(C=0.04, class_weight='balanced', dual=False,\n",
      "          fit_intercept=True, intercept_scaling=1, max_iter=100,\n",
      "          multi_class='warn', n_jobs=None, penalty='l2', random_state=42,\n",
      "          solver='liblinear', tol=0.01, verbose=0, warm_start=False))])\n",
      "\tAccuracy: 0.77273\tPrecision: 0.36286\tRecall: 0.93200\tF1: 0.52235\tF2: 0.70945\n",
      "\tTotal predictions: 15000\tTrue positives: 1864\tFalse positives: 3273\tFalse negatives:  136\tTrue negatives: 9727\n",
      "\n",
      "CPU times: user 1.92 s, sys: 3.99 ms, total: 1.92 s\n",
      "Wall time: 1.92 s\n"
     ]
    }
   ],
   "source": [
    "%%time\n",
    "from tester import test_classifier\n",
    "# grid_search.fit(df[X_cols], df['poi'].values)\n",
    "test_classifier(pipe_final, data_d, ['poi']+features_final, folds=1000)"
   ]
  },
  {
   "cell_type": "markdown",
   "metadata": {},
   "source": [
    "The tester function `test_classifier2` is a modified variant of `test_classifier` in order to compare all metrics of all classifiers. It is called in a loop with the best pipeline of each classifier type to compare all their scores."
   ]
  },
  {
   "cell_type": "code",
   "execution_count": 652,
   "metadata": {},
   "outputs": [],
   "source": [
    "def test_classifier2(clf, dataset, feature_list, folds = 1000):\n",
    "    \"\"\"Returns the result scores\"\"\"\n",
    "    data = featureFormat(dataset, feature_list, sort_keys = True)\n",
    "    labels, features = targetFeatureSplit(data)\n",
    "    # cv = StratifiedShuffleSplit(labels, folds, random_state = 42)\n",
    "    cv = StratifiedShuffleSplit(n_splits=folds, random_state = 42)\n",
    "    true_negatives = 0\n",
    "    false_negatives = 0\n",
    "    true_positives = 0\n",
    "    false_positives = 0\n",
    "    # for train_idx, test_idx in cv:\n",
    "    for train_idx, test_idx in cv.split(features, labels):\n",
    "        features_train = []\n",
    "        features_test  = []\n",
    "        labels_train   = []\n",
    "        labels_test    = []\n",
    "        for ii in train_idx:\n",
    "            features_train.append( features[ii] )\n",
    "            labels_train.append( labels[ii] )\n",
    "        for jj in test_idx:\n",
    "            features_test.append( features[jj] )\n",
    "            labels_test.append( labels[jj] )\n",
    "\n",
    "        ### fit the classifier using training set, and test on test set\n",
    "        clf.fit(features_train, labels_train)\n",
    "        predictions = clf.predict(features_test)\n",
    "        for prediction, truth in zip(predictions, labels_test):\n",
    "            if prediction == 0 and truth == 0:\n",
    "                true_negatives += 1\n",
    "            elif prediction == 0 and truth == 1:\n",
    "                false_negatives += 1\n",
    "            elif prediction == 1 and truth == 0:\n",
    "                false_positives += 1\n",
    "            elif prediction == 1 and truth == 1:\n",
    "                true_positives += 1\n",
    "            else:\n",
    "                print(\"Warning: Found a predicted label not == 0 or 1.\")\n",
    "                print(\"All predictions should take value 0 or 1.\")\n",
    "                print(\"Evaluating performance for processed predictions:\")\n",
    "                break\n",
    "    result_dict = {}\n",
    "    try:\n",
    "        total_predictions = true_negatives + false_negatives + false_positives + true_positives\n",
    "        accuracy = 1.0*(true_positives + true_negatives)/total_predictions\n",
    "        precision = 1.0*true_positives/(true_positives+false_positives)\n",
    "        recall = 1.0*true_positives/(true_positives+false_negatives)\n",
    "        f1 = 2.0 * true_positives/(2*true_positives + false_positives+false_negatives)\n",
    "        f2 = (1+2.0*2.0) * precision*recall/(4*precision + recall)\n",
    "\n",
    "        result_dict = {\n",
    "            \"clf\": clf,\n",
    "            \"accuracy\":  accuracy,\n",
    "            \"precision\": precision,\n",
    "            \"recall\":    recall,\n",
    "            \"f1\":        f1,\n",
    "            \"f2\":        f2\n",
    "        }\n",
    "    except:\n",
    "        print(\"Got a divide by zero when trying out:\", clf)\n",
    "        print(\"Precision or recall may be undefined due to a lack of true positive predicitons.\")\n",
    "    return result_dict"
   ]
  },
  {
   "cell_type": "code",
   "execution_count": 654,
   "metadata": {},
   "outputs": [
    {
     "name": "stdout",
     "output_type": "stream",
     "text": [
      "CPU times: user 46.8 s, sys: 3.88 ms, total: 46.8 s\n",
      "Wall time: 46.8 s\n"
     ]
    }
   ],
   "source": [
    "%%time\n",
    "# Run test_classifier in a loop to get all the scores\n",
    "#from tester import test_classifier2\n",
    "clf_best_results_scores = []\n",
    "for c in clf_best_results:\n",
    "    best_params = c[\"best_params_\"]\n",
    "    try:\n",
    "        s0 = best_params[\"scaler0\"]\n",
    "    except KeyError:\n",
    "        s0 = None\n",
    "    pipe_final_params = [\n",
    "        (\"scaler0\", s0),\n",
    "        #(\"dimreducer\", best_estimator.named_steps[\"dimreducer\"]),\n",
    "        (\"classifier\", best_params[\"classifier\"])\n",
    "    ]\n",
    "    pipe_final = Pipeline(pipe_final_params)\n",
    "    #print(pipe_final)\n",
    "    features_final = best_params[\"selector__attribute_names\"]\n",
    "    scores = test_classifier2(pipe_final, data_d, ['poi']+features_final, folds=1000)\n",
    "    clf_best_results_scores.append({**c, **scores})"
   ]
  },
  {
   "cell_type": "code",
   "execution_count": 660,
   "metadata": {},
   "outputs": [],
   "source": [
    "# Plot decision tree\n",
    "dt_id = 0\n",
    "#pipe_dt_params = [(\"classifier\", clf_best_results_scores[dt_id][\"best_params_\"][\"classifier\"])]\n",
    "#pipe_dt = Pipeline(pipe_final_params)\n",
    "pipe_dt =clf_best_results_scores[dt_id][\"clf\"].named_steps[\"classifier\"]\n",
    "features_final = clf_best_results_scores[dt_id][\"best_params_\"][\"selector__attribute_names\"]\n",
    "#pipe_dt_fit = pipe_dt.fit(df[X_cols], df['poi'].values)"
   ]
  },
  {
   "cell_type": "code",
   "execution_count": 664,
   "metadata": {},
   "outputs": [],
   "source": [
    "from sklearn.tree import export_graphviz\n",
    "export_graphviz(\n",
    "    pipe_dt,\n",
    "    out_file=\"files/DecisionTreeClassifier.dot\",\n",
    "    feature_names=features_final, #features_list[1:],\n",
    "    class_names=[\"no\", \"yes\"],\n",
    "    rounded=True,\n",
    "    filled=True\n",
    ")"
   ]
  },
  {
   "cell_type": "code",
   "execution_count": 665,
   "metadata": {},
   "outputs": [],
   "source": [
    "%%bash\n",
    "dot -Tpng files/test_tree.dot -o files/DecisionTreeClassifier.png"
   ]
  },
  {
   "cell_type": "markdown",
   "metadata": {},
   "source": [
    "The behaviour of a `DecisionTreeClassifier` can be illustrated regardless of the number of features and can be understood by humans: This is an evil \"money tree\" as only financial features are present."
   ]
  },
  {
   "cell_type": "code",
   "execution_count": 666,
   "metadata": {},
   "outputs": [
    {
     "data": {
      "text/html": [
       "<img src=\"files/DecisionTreeClassifier.png?1167327599\" alt=\"Decision tree\" height=\"100\">"
      ],
      "text/plain": [
       "<IPython.core.display.HTML object>"
      ]
     },
     "metadata": {},
     "output_type": "display_data"
    }
   ],
   "source": [
    "import random\n",
    "__counter__ = random.randint(0,2e9)\n",
    "display(HTML('<img src=\"files/DecisionTreeClassifier.png?%d\" alt=\"Decision tree\" height=\"100\">' % __counter__))"
   ]
  },
  {
   "cell_type": "markdown",
   "metadata": {},
   "source": [
    "Finally, the scores of the best rated classifiers are compared in the following figure."
   ]
  },
  {
   "cell_type": "code",
   "execution_count": 667,
   "metadata": {},
   "outputs": [],
   "source": [
    "clf_best_results_h = clf_extract_stats(clf_best_results_scores)\n",
    "df_best_results_h = pd.DataFrame.from_dict(clf_best_results_h)"
   ]
  },
  {
   "cell_type": "code",
   "execution_count": 668,
   "metadata": {},
   "outputs": [
    {
     "data": {
      "image/png": "[encoded data removed]",
      "text/plain": [
       "<Figure size 1008x504 with 1 Axes>"
      ]
     },
     "metadata": {
      "needs_background": "light"
     },
     "output_type": "display_data"
    }
   ],
   "source": [
    "plt.figure(figsize=(14,7))\n",
    "COLORS = 'bgrcmyk'\n",
    "alignment = {'horizontalalignment': 'center', 'verticalalignment': 'baseline'}\n",
    "\n",
    "df_result_grp = df_best_results_h.groupby([\"classifier\"])\n",
    "nlabels = 5\n",
    "ngroups = 5 #len(df_result_grp)\n",
    "score_list = [\"accuracy\", \"precision\", \"recall\", \"f1\", \"f2\"]\n",
    "bar_offsets = pd.Series(index=score_list, data=np.arange(ngroups) * (nlabels + 1) + .5)\n",
    "xticks = []\n",
    "xlabels = []\n",
    "for i, (cname, elements) in enumerate(df_result_grp):\n",
    "    X = bar_offsets[score_list] + i\n",
    "    #print(X)\n",
    "    #print(type(X))\n",
    "    #print(elements[score_list].squeeze())\n",
    "    #print(type(elements[score_list]))\n",
    "    plt.bar(X, elements[score_list].squeeze(), label=cname)\n",
    "    xticks.append(list(X))\n",
    "    xlabels.append(list(elements[\"n_features\"])) # + \", \" + str(elements[\"features\"]) ))\n",
    "\n",
    "l = zip(bar_offsets.index,bar_offsets.values)\n",
    "#for name, x in l:\n",
    "#    plt.text(x+1.5, 0.518, name, size='large', **alignment)\n",
    "plt.title(\"Comparing accuracy, precision, recall, f1-score and f2-scores of the best classifiers\")\n",
    "#plt.xlabel('Best number of features')\n",
    "\n",
    "xpos = [item for sublist in xticks for item in sublist]\n",
    "#xlab = [item for sublist in xlabels for item in sublist]\n",
    "#plt.xticks(xpos, '') #, xlab, rotation=90)\n",
    "plt.xticks(bar_offsets+1.5, score_list) #, xlab, rotation=90)\n",
    "\n",
    "plt.ylabel('Classifier scores')\n",
    "#plt.ylim((0, 1))\n",
    "plt.legend(loc='lower left')\n",
    "\n",
    "plt.show()"
   ]
  },
  {
   "cell_type": "markdown",
   "metadata": {},
   "source": [
    "# Conclusions\n",
    "- A classifier has been implemented to find a POI using financial \"insider payments\" data and e-mail metadata.\n",
    "- `LogisticRegression` achieves the best \\\\(F_1\\\\)-score and an excellent \\\\(recall\\\\).\n",
    "- A better recall is certainly more important for this application than precision: Having a few false alerts is probably is prbably ok when almost all POI's get caught in the end. The misclassified innocents will be (hopefully) declared innocent after appropriate police investigation.\n",
    "\n",
    "\n",
    "# References\n",
    "1. Book: \"Hands-On Machine Learning with Scikit-Learn & TensorFlow\"\n",
    "2. Scikit-Learn documentation: [Model evaluation: quantifying the quality of predictions](https://scikit-learn.org/stable/modules/model_evaluation.html)\n",
    "3. Scikit-Learn documentation: [Pipelines and composite estimators](https://scikit-learn.org/stable/modules/compose.html)\n",
    "4. [From Pandas to Scikit-Learn — A new exciting workflow](https://medium.com/dunder-data/from-pandas-to-scikit-learn-a-new-exciting-workflow-e88e2271ef62)\n",
    "5. Blog post: [Beware Default Random Forest Importances](https://explained.ai/rf-importance/index.html)\n",
    "6. From datascience.stackexchange: [Will cross validation performance be an accurate indication for predicting the true performance on an independent data set?](https://datascience.stackexchange.com/questions/17755/will-cross-validation-performance-be-an-accurate-indication-for-predicting-the-t/17835#17835)\n",
    "7. sklearn-evaluation package documentation [Evaluating Grid Search Results](https://blancas.io/sklearn-evaluation/user_guide/grid_search.html)\n",
    "8. Scikit-learn documentation: [Preprocessing data](https://scikit-learn.org/stable/modules/preprocessing.html#custom-transformers)\n",
    "9. [How to Visualize a Decision Tree from a Random Forest in Python using Scikit-Learn](https://towardsdatascience.com/how-to-visualize-a-decision-tree-from-a-random-forest-in-python-using-scikit-learn-38ad2d75f21c)\n",
    "10. Scikit-learn documentation: [Advanced installation instructions](http://scikit-learn.org/dev/developers/advanced_installation.html#install-bleeding-edge)\n",
    "11. [Installing python packages in development mode](https://avolkov.github.io/installing-python-packages-in-development-mode.html)"
   ]
  }
 ],
 "metadata": {
  "kernelspec": {
   "display_name": "Python 3",
   "language": "python",
   "name": "python3"
  },
  "language_info": {
   "codemirror_mode": {
    "name": "ipython",
    "version": 3
   },
   "file_extension": ".py",
   "mimetype": "text/x-python",
   "name": "python",
   "nbconvert_exporter": "python",
   "pygments_lexer": "ipython3",
   "version": "3.6.5"
  }
 },
 "nbformat": 4,
 "nbformat_minor": 2
}
